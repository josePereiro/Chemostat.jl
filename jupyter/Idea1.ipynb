{
 "cells": [
  {
   "cell_type": "markdown",
   "metadata": {},
   "source": [
    "## IDEA\n",
    "I want to reproduce of Hayter1993, using Cossios2018 cho model set up. Or maybe load the original model and try to constrait it to the Hayter1993 medium. In particular I want to reproduce results of Figure2. \n",
    "It has been suggested that the accumulated toxicity may result in increased maintenance demands and in reduced biomass yields (Cossios2018), so, we can simulate a toxicity law that change the demand depending of the external concentration of the toxic elements."
   ]
  },
  {
   "cell_type": "code",
   "execution_count": 2,
   "metadata": {},
   "outputs": [],
   "source": [
    "using MaxEntChemostat2018;\n",
    "using MetabolicNetsTools;"
   ]
  },
  {
   "cell_type": "code",
   "execution_count": 4,
   "metadata": {},
   "outputs": [
    {
     "data": {
      "text/plain": [
       "(2054, 3578)"
      ]
     },
     "execution_count": 4,
     "metadata": {},
     "output_type": "execute_result"
    }
   ],
   "source": [
    "S, mets, rxns = MaxEntChemostat2018.FBA.load_cho();\n",
    "MetabolicNetsTools.set_data(S, mets, rxns);\n",
    "m,n = size(S)"
   ]
  },
  {
   "cell_type": "code",
   "execution_count": 9,
   "metadata": {},
   "outputs": [
    {
     "data": {
      "text/plain": [
       "12-element Array{String,1}:\n",
       " \"lac_D_c\"                                  \n",
       " \"lac_L_e\"                                  \n",
       " \"lac_L_c\"                                  \n",
       " \"lac_L_m\"                                  \n",
       " \"glac_c\"                                   \n",
       " \"mercplac_c\"                               \n",
       " \"galacglcgalgluside_cho_g\"                 \n",
       " \"galacglcgal14acglcgalgluside_cho_g\"       \n",
       " \"acglc13galacglcgal14acglcgalgluside_cho_g\"\n",
       " \"acngalacglcgal14acglcgalgluside_cho_g\"    \n",
       " \"glac_r\"                                   \n",
       " \"lac_L_x\"                                  "
      ]
     },
     "execution_count": 9,
     "metadata": {},
     "output_type": "execute_result"
    }
   ],
   "source": [
    "METS.ids(METS.ids_containing(\"lac\"))"
   ]
  },
  {
   "cell_type": "code",
   "execution_count": 17,
   "metadata": {},
   "outputs": [
    {
     "name": "stdout",
     "output_type": "stream",
     "text": [
      "ξmax: 480.5352973937988\n",
      "Academic license - for non-commercial use only\n",
      "ϕ: 0.21553668184804153\n",
      "z: 0.00016156463172747206 1/hr\n",
      "glc_D_e uptake: 0.05197911191013027 mmol/(gDW * hr)\n",
      "lac_L_e uptake: 0.0 mmol/(gDW * hr)\n"
     ]
    },
    {
     "name": "stderr",
     "output_type": "stream",
     "text": [
      "\u001b[1m\u001b[33mWARNING: \u001b[39m\u001b[22m\u001b[33muuid4(rng) is deprecated, use Compat.UUIDs.uuid4(rng) instead.\u001b[39m\n",
      "Stacktrace:\n",
      " [1] \u001b[1mdepwarn\u001b[22m\u001b[22m\u001b[1m(\u001b[22m\u001b[22m::String, ::Symbol\u001b[1m)\u001b[22m\u001b[22m at \u001b[1m./deprecated.jl:70\u001b[22m\u001b[22m\n",
      " [2] \u001b[1muuid4\u001b[22m\u001b[22m\u001b[1m(\u001b[22m\u001b[22m::MersenneTwister\u001b[1m)\u001b[22m\u001b[22m at \u001b[1m./deprecated.jl:57\u001b[22m\u001b[22m\n",
      " [3] \u001b[1mmsg_header\u001b[22m\u001b[22m at \u001b[1m/Users/Pereiro/.julia/v0.6/IJulia/src/msg.jl:18\u001b[22m\u001b[22m [inlined]\n",
      " [4] \u001b[1mmsg_pub\u001b[22m\u001b[22m\u001b[1m(\u001b[22m\u001b[22m::IJulia.Msg, ::String, ::Dict{String,String}, ::Dict{String,Any}\u001b[1m)\u001b[22m\u001b[22m at \u001b[1m/Users/Pereiro/.julia/v0.6/IJulia/src/msg.jl:30\u001b[22m\u001b[22m (repeats 2 times)\n",
      " [5] \u001b[1msend_stream\u001b[22m\u001b[22m\u001b[1m(\u001b[22m\u001b[22m::String\u001b[1m)\u001b[22m\u001b[22m at \u001b[1m/Users/Pereiro/.julia/v0.6/IJulia/src/stdio.jl:172\u001b[22m\u001b[22m\n",
      " [6] \u001b[1msend_stdio\u001b[22m\u001b[22m\u001b[1m(\u001b[22m\u001b[22m::String\u001b[1m)\u001b[22m\u001b[22m at \u001b[1m/Users/Pereiro/.julia/v0.6/IJulia/src/stdio.jl:130\u001b[22m\u001b[22m\n",
      " [7] \u001b[1m(::Base.##302#303{IJulia.#send_stdout,Timer})\u001b[22m\u001b[22m\u001b[1m(\u001b[22m\u001b[22m\u001b[1m)\u001b[22m\u001b[22m at \u001b[1m./event.jl:436\u001b[22m\u001b[22m\n",
      "while loading In[17], in expression starting on line 9\n"
     ]
    }
   ],
   "source": [
    "# ξmax = MaxEntChemostat2018.FBA.find_max_xi(S,mets,rxns) * 0.98;\n",
    "println(\"ξmax: \", ξmax)\n",
    "LP = MaxEntChemostat2018.FBA.gurobi_problem(S, mets, rxns);\n",
    "fbares = MaxEntChemostat2018.FBA.model_solve!(LP, S, mets, rxns, ξmax);\n",
    "glc_i = METS.id_equal_to(\"glc_D_e\");\n",
    "lac_i = METS.id_equal_to(\"lac_L_e\");\n",
    "z_units = \"1/hr\";\n",
    "flux_units = \"mmol/(gDW * hr)\"\n",
    "println(\"ϕ: \",fbares.ϕ);\n",
    "println(\"z: \",fbares.μ, \" \", z_units);\n",
    "println(\"$(METS.id(glc_i)) uptake: \",fbares.u[glc_i], \" \",flux_units);\n",
    "println(\"$(METS.id(lac_i)) uptake: \",fbares.u[lac_i], \" \", flux_units);\n",
    "# nzuptakes = sparsevec(fbares.u).nzind;\n",
    "# println();\n",
    "# println(\"Non zero external reactions: \", length(nzuptakes));\n",
    "# for nzui in nzuptakes println(mets[:id][nzui], \" --> \", fbares.u[nzui], \n",
    "#         \" (\",mets[:L][nzui],\",\",mets[:V][nzui],\") c: \", mets[:c][nzui]) end"
   ]
  },
  {
   "cell_type": "code",
   "execution_count": null,
   "metadata": {},
   "outputs": [],
   "source": [
    "# titi te quiero mucho. me complaces en todo y me das Fe rico. te amo, ball of fur..... "
   ]
  },
  {
   "cell_type": "code",
   "execution_count": null,
   "metadata": {},
   "outputs": [],
   "source": [
    "# μ = z - σ\n",
    "# μ = D"
   ]
  },
  {
   "cell_type": "code",
   "execution_count": null,
   "metadata": {},
   "outputs": [],
   "source": []
  }
 ],
 "metadata": {
  "kernelspec": {
   "display_name": "Julia 0.6.4",
   "language": "julia",
   "name": "julia-0.6"
  },
  "language_info": {
   "file_extension": ".jl",
   "mimetype": "application/julia",
   "name": "julia",
   "version": "0.6.4"
  }
 },
 "nbformat": 4,
 "nbformat_minor": 2
}
