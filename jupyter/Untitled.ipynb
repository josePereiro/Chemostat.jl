{
 "cells": [
  {
   "cell_type": "code",
   "execution_count": 15,
   "metadata": {},
   "outputs": [
    {
     "name": "stderr",
     "output_type": "stream",
     "text": [
      "WARNING: replacing module Chemostat\n",
      "WARNING: replacing module Rath2017PhD\n"
     ]
    },
    {
     "data": {
      "text/plain": [
       "Rath2017PhD"
      ]
     },
     "execution_count": 15,
     "metadata": {},
     "output_type": "execute_result"
    }
   ],
   "source": [
    "include(\"/Users/Pereiro/University/Physic/Research/Jose/Chemostat/src/Chemostat.jl\");\n",
    "include(\"/Users/Pereiro/University/Physic/Research/Jose/Rath_phd/Rath2017PhD/src/Rath2017PhD.jl\")"
   ]
  },
  {
   "cell_type": "code",
   "execution_count": 3,
   "metadata": {},
   "outputs": [],
   "source": [
    "using Rath2017PhD;\n",
    "using Chemostat;"
   ]
  },
  {
   "cell_type": "code",
   "execution_count": 4,
   "metadata": {},
   "outputs": [],
   "source": [
    "using Plots;\n",
    "plotly();"
   ]
  },
  {
   "cell_type": "markdown",
   "metadata": {},
   "source": [
    "## Changing \\phi"
   ]
  },
  {
   "cell_type": "code",
   "execution_count": 18,
   "metadata": {},
   "outputs": [
    {
     "name": "stdout",
     "output_type": "stream",
     "text": [
      "\n",
      "0.0\n"
     ]
    },
    {
     "name": "stderr",
     "output_type": "stream",
     "text": [
      "\u001b[1m\u001b[33mWARNING: \u001b[39m\u001b[22m\u001b[33mfind_max_xi_ξ_ub = 1000.0 reached!!! This is save to ignore if the ξ value is high enough for your implementation. But it could indicate an unbound model!!!\u001b[39m\n",
      "\u001b[1m\u001b[33mWARNING: \u001b[39m\u001b[22m\u001b[33muuid4(rng) is deprecated, use Compat.UUIDs.uuid4(rng) instead.\u001b[39m\n",
      "Stacktrace:\n",
      " [1] \u001b[1mdepwarn\u001b[22m\u001b[22m\u001b[1m(\u001b[22m\u001b[22m::String, ::Symbol\u001b[1m)\u001b[22m\u001b[22m at \u001b[1m./deprecated.jl:70\u001b[22m\u001b[22m\n",
      " [2] \u001b[1muuid4\u001b[22m\u001b[22m\u001b[1m(\u001b[22m\u001b[22m::MersenneTwister\u001b[1m)\u001b[22m\u001b[22m at \u001b[1m./deprecated.jl:57\u001b[22m\u001b[22m\n",
      " [3] \u001b[1mmsg_header\u001b[22m\u001b[22m at \u001b[1m/Users/Pereiro/.julia/v0.6/IJulia/src/msg.jl:18\u001b[22m\u001b[22m [inlined]\n",
      " [4] \u001b[1mmsg_pub\u001b[22m\u001b[22m\u001b[1m(\u001b[22m\u001b[22m::IJulia.Msg, ::String, ::Dict{String,String}, ::Dict{String,Any}\u001b[1m)\u001b[22m\u001b[22m at \u001b[1m/Users/Pereiro/.julia/v0.6/IJulia/src/msg.jl:30\u001b[22m\u001b[22m (repeats 2 times)\n",
      " [5] \u001b[1msend_stream\u001b[22m\u001b[22m\u001b[1m(\u001b[22m\u001b[22m::String\u001b[1m)\u001b[22m\u001b[22m at \u001b[1m/Users/Pereiro/.julia/v0.6/IJulia/src/stdio.jl:172\u001b[22m\u001b[22m\n",
      " [6] \u001b[1msend_stdio\u001b[22m\u001b[22m\u001b[1m(\u001b[22m\u001b[22m::String\u001b[1m)\u001b[22m\u001b[22m at \u001b[1m/Users/Pereiro/.julia/v0.6/IJulia/src/stdio.jl:130\u001b[22m\u001b[22m\n",
      " [7] \u001b[1m(::Base.##302#303{IJulia.#send_stdout,Timer})\u001b[22m\u001b[22m\u001b[1m(\u001b[22m\u001b[22m\u001b[1m)\u001b[22m\u001b[22m at \u001b[1m./event.jl:436\u001b[22m\u001b[22m\n",
      "while loading In[18], in expression starting on line 5\n"
     ]
    },
    {
     "name": "stdout",
     "output_type": "stream",
     "text": [
      "Academic license - for non-commercial use only\n",
      "Academic license - for non-commercial use only\n",
      "\n",
      "0.1\n",
      "Academic license - for non-commercial use only\n"
     ]
    },
    {
     "name": "stderr",
     "output_type": "stream",
     "text": [
      "\u001b[1m\u001b[33mWARNING: \u001b[39m\u001b[22m\u001b[33mfind_max_xi_ξ_ub = 1000.0 reached!!! This is save to ignore if the ξ value is high enough for your implementation. But it could indicate an unbound model!!!\u001b[39m\n"
     ]
    },
    {
     "name": "stdout",
     "output_type": "stream",
     "text": [
      "Academic license - for non-commercial use only\n",
      "\n",
      "0.2\n"
     ]
    },
    {
     "name": "stderr",
     "output_type": "stream",
     "text": [
      "\u001b[1m\u001b[33mWARNING: \u001b[39m\u001b[22m\u001b[33mfind_max_xi_ξ_ub = 1000.0 reached!!! This is save to ignore if the ξ value is high enough for your implementation. But it could indicate an unbound model!!!\u001b[39m\n"
     ]
    },
    {
     "name": "stdout",
     "output_type": "stream",
     "text": [
      "Academic license - for non-commercial use only\n",
      "Academic license - for non-commercial use only\n",
      "\n",
      "0.3\n",
      "Academic license - for non-commercial use only\n"
     ]
    },
    {
     "name": "stderr",
     "output_type": "stream",
     "text": [
      "\u001b[1m\u001b[33mWARNING: \u001b[39m\u001b[22m\u001b[33mfind_max_xi_ξ_ub = 1000.0 reached!!! This is save to ignore if the ξ value is high enough for your implementation. But it could indicate an unbound model!!!\u001b[39m\n"
     ]
    },
    {
     "name": "stdout",
     "output_type": "stream",
     "text": [
      "Academic license - for non-commercial use only\n",
      "\n",
      "0.4\n"
     ]
    },
    {
     "name": "stderr",
     "output_type": "stream",
     "text": [
      "\u001b[1m\u001b[33mWARNING: \u001b[39m\u001b[22m\u001b[33mfind_max_xi_ξ_ub = 1000.0 reached!!! This is save to ignore if the ξ value is high enough for your implementation. But it could indicate an unbound model!!!\u001b[39m\n"
     ]
    },
    {
     "name": "stdout",
     "output_type": "stream",
     "text": [
      "Academic license - for non-commercial use only\n",
      "Academic license - for non-commercial use only\n",
      "\n",
      "0.5\n",
      "Academic license - for non-commercial use only\n",
      "Academic license - for non-commercial use only\n",
      "\n",
      "0.6\n"
     ]
    },
    {
     "name": "stderr",
     "output_type": "stream",
     "text": [
      "\u001b[1m\u001b[33mWARNING: \u001b[39m\u001b[22m\u001b[33mfind_max_xi_ξ_ub = 1000.0 reached!!! This is save to ignore if the ξ value is high enough for your implementation. But it could indicate an unbound model!!!\u001b[39m\n"
     ]
    },
    {
     "name": "stdout",
     "output_type": "stream",
     "text": [
      "Academic license - for non-commercial use only\n",
      "Academic license - for non-commercial use only\n",
      "\n",
      "0.7\n",
      "Academic license - for non-commercial use only\n",
      "Academic license - for non-commercial use only\n",
      "\n",
      "0.8\n"
     ]
    },
    {
     "name": "stderr",
     "output_type": "stream",
     "text": [
      "\u001b[1m\u001b[33mWARNING: \u001b[39m\u001b[22m\u001b[33mfind_max_xi_ξ_ub = 1000.0 reached!!! This is save to ignore if the ξ value is high enough for your implementation. But it could indicate an unbound model!!!\u001b[39m\n",
      "\u001b[1m\u001b[33mWARNING: \u001b[39m\u001b[22m\u001b[33mfind_max_xi_ξ_ub = 1000.0 reached!!! This is save to ignore if the ξ value is high enough for your implementation. But it could indicate an unbound model!!!\u001b[39m\n"
     ]
    },
    {
     "name": "stdout",
     "output_type": "stream",
     "text": [
      "Academic license - for non-commercial use only\n",
      "Academic license - for non-commercial use only\n",
      "\n",
      "0.9\n",
      "Academic license - for non-commercial use only\n"
     ]
    },
    {
     "name": "stderr",
     "output_type": "stream",
     "text": [
      "\u001b[1m\u001b[33mWARNING: \u001b[39m\u001b[22m\u001b[33mfind_max_xi_ξ_ub = 1000.0 reached!!! This is save to ignore if the ξ value is high enough for your implementation. But it could indicate an unbound model!!!\u001b[39m\n"
     ]
    },
    {
     "name": "stdout",
     "output_type": "stream",
     "text": [
      "Academic license - for non-commercial use only\n",
      "\n",
      "1.0\n"
     ]
    },
    {
     "name": "stderr",
     "output_type": "stream",
     "text": [
      "\u001b[1m\u001b[33mWARNING: \u001b[39m\u001b[22m\u001b[33mfind_max_xi_ξ_ub = 1000.0 reached!!! This is save to ignore if the ξ value is high enough for your implementation. But it could indicate an unbound model!!!\u001b[39m\n"
     ]
    },
    {
     "name": "stdout",
     "output_type": "stream",
     "text": [
      "Academic license - for non-commercial use only\n",
      "Academic license - for non-commercial use only\n"
     ]
    },
    {
     "name": "stderr",
     "output_type": "stream",
     "text": [
      "\u001b[1m\u001b[33mWARNING: \u001b[39m\u001b[22m\u001b[33mfind_max_xi_ξ_ub = 1000.0 reached!!! This is save to ignore if the ξ value is high enough for your implementation. But it could indicate an unbound model!!!\u001b[39m\n"
     ]
    }
   ],
   "source": [
    "AGE1.reload_age1_hn_gem();\n",
    "set_working_gem(AGE1.age1_hn_gem);\n",
    "METS.set_c!(0.5, \"pe_hs[e]\")\n",
    "fba_express = Dict{String, Chemostat.ExpRess.ExpRes}();\n",
    "for ϕ in collect(0.0:0.1:1.0)\n",
    "    Chemostat.set_default_ϕ!(ϕ)\n",
    "    println();\n",
    "    println(ϕ);\n",
    "    fba_express[\"$(ϕ)\"] = Chemostat.FBA.fba_w_mc_chemostat(AGE1.age1_hn_gem, verbose = false);\n",
    "end"
   ]
  },
  {
   "cell_type": "code",
   "execution_count": 24,
   "metadata": {},
   "outputs": [],
   "source": [
    "gui(RATH.plot_ξ_vs_Xv(fba_express))"
   ]
  },
  {
   "cell_type": "code",
   "execution_count": 20,
   "metadata": {},
   "outputs": [
    {
     "ename": "LoadError",
     "evalue": "\u001b[91mMethodError: no method matching get_label(::String, ::Dict{Any,Any})\u001b[0m\nClosest candidates are:\n  get_label(::String, \u001b[91m::Array{String,1}\u001b[39m, \u001b[91m::Dict{String,Chemostat.ExpRess.ExpRes}\u001b[39m) at /Users/Pereiro/.julia/v0.6/Chemostat/src/ExpRess/ExpResPlots/labels.jl:45\n  get_label(::String, \u001b[91m::String\u001b[39m, \u001b[91m::Dict{String,Chemostat.ExpRess.ExpRes}\u001b[39m) at /Users/Pereiro/.julia/v0.6/Chemostat/src/ExpRess/ExpResPlots/labels.jl:41\n  get_label(::String, \u001b[91m::String\u001b[39m, \u001b[91m::Array{Chemostat.ExpRess.ExpRes,1}\u001b[39m) at /Users/Pereiro/.julia/v0.6/Chemostat/src/ExpRess/ExpResPlots/labels.jl:39\n  ...\u001b[39m",
     "output_type": "error",
     "traceback": [
      "\u001b[91mMethodError: no method matching get_label(::String, ::Dict{Any,Any})\u001b[0m\nClosest candidates are:\n  get_label(::String, \u001b[91m::Array{String,1}\u001b[39m, \u001b[91m::Dict{String,Chemostat.ExpRess.ExpRes}\u001b[39m) at /Users/Pereiro/.julia/v0.6/Chemostat/src/ExpRess/ExpResPlots/labels.jl:45\n  get_label(::String, \u001b[91m::String\u001b[39m, \u001b[91m::Dict{String,Chemostat.ExpRess.ExpRes}\u001b[39m) at /Users/Pereiro/.julia/v0.6/Chemostat/src/ExpRess/ExpResPlots/labels.jl:41\n  get_label(::String, \u001b[91m::String\u001b[39m, \u001b[91m::Array{Chemostat.ExpRess.ExpRes,1}\u001b[39m) at /Users/Pereiro/.julia/v0.6/Chemostat/src/ExpRess/ExpResPlots/labels.jl:39\n  ...\u001b[39m",
      "",
      "Stacktrace:",
      " [1] \u001b[1mplot_ξ_vs_Xv\u001b[22m\u001b[22m at \u001b[1m/Users/Pereiro/.julia/v0.6/Chemostat/src/ExpRess/ExpResPlots/plot_ξ_vs.jl:69\u001b[22m\u001b[22m [inlined] (repeats 2 times)",
      " [2] \u001b[1minclude_string\u001b[22m\u001b[22m\u001b[1m(\u001b[22m\u001b[22m::String, ::String\u001b[1m)\u001b[22m\u001b[22m at \u001b[1m./loading.jl:522\u001b[22m\u001b[22m"
     ]
    }
   ],
   "source": [
    "gui(Chemostat.ExpResPlots.plot_ξ_vs_Xv(fba_express))"
   ]
  },
  {
   "cell_type": "markdown",
   "metadata": {},
   "source": [
    "# Whitout maintinance demand"
   ]
  },
  {
   "cell_type": "code",
   "execution_count": 38,
   "metadata": {},
   "outputs": [
    {
     "name": "stdout",
     "output_type": "stream",
     "text": [
      "Checking gem data quality!!!\n",
      "Check passed!!!\n",
      "Finding ξ_ub\n"
     ]
    },
    {
     "name": "stderr",
     "output_type": "stream",
     "text": [
      "\u001b[1m\u001b[33mWARNING: \u001b[39m\u001b[22m\u001b[33muuid4(rng) is deprecated, use Compat.UUIDs.uuid4(rng) instead.\u001b[39m\n",
      "Stacktrace:\n",
      " [1] \u001b[1mdepwarn\u001b[22m\u001b[22m\u001b[1m(\u001b[22m\u001b[22m::String, ::Symbol\u001b[1m)\u001b[22m\u001b[22m at \u001b[1m./deprecated.jl:70\u001b[22m\u001b[22m\n",
      " [2] \u001b[1muuid4\u001b[22m\u001b[22m\u001b[1m(\u001b[22m\u001b[22m::MersenneTwister\u001b[1m)\u001b[22m\u001b[22m at \u001b[1m./deprecated.jl:57\u001b[22m\u001b[22m\n",
      " [3] \u001b[1mmsg_header\u001b[22m\u001b[22m at \u001b[1m/Users/Pereiro/.julia/v0.6/IJulia/src/msg.jl:18\u001b[22m\u001b[22m [inlined]\n",
      " [4] \u001b[1mmsg_pub\u001b[22m\u001b[22m\u001b[1m(\u001b[22m\u001b[22m::IJulia.Msg, ::String, ::Dict{String,String}, ::Dict{String,Any}\u001b[1m)\u001b[22m\u001b[22m at \u001b[1m/Users/Pereiro/.julia/v0.6/IJulia/src/msg.jl:30\u001b[22m\u001b[22m (repeats 2 times)\n",
      " [5] \u001b[1msend_stream\u001b[22m\u001b[22m\u001b[1m(\u001b[22m\u001b[22m::String\u001b[1m)\u001b[22m\u001b[22m at \u001b[1m/Users/Pereiro/.julia/v0.6/IJulia/src/stdio.jl:172\u001b[22m\u001b[22m\n",
      " [6] \u001b[1msend_stdio\u001b[22m\u001b[22m\u001b[1m(\u001b[22m\u001b[22m::String\u001b[1m)\u001b[22m\u001b[22m at \u001b[1m/Users/Pereiro/.julia/v0.6/IJulia/src/stdio.jl:130\u001b[22m\u001b[22m\n",
      " [7] \u001b[1m(::Base.##302#303{IJulia.#send_stdout,Timer})\u001b[22m\u001b[22m\u001b[1m(\u001b[22m\u001b[22m\u001b[1m)\u001b[22m\u001b[22m at \u001b[1m./event.jl:436\u001b[22m\u001b[22m\n",
      "while loading In[38], in expression starting on line 6\n"
     ]
    },
    {
     "name": "stdout",
     "output_type": "stream",
     "text": [
      "Academic license - for non-commercial use only\n",
      "ξ_ub = 1000.0 found!!!\n",
      "ξs from 1.0 to 1000.0, length 19\n",
      "\n",
      "FBA\n",
      "Checking gem data quality!!!\n"
     ]
    },
    {
     "name": "stderr",
     "output_type": "stream",
     "text": [
      "\u001b[1m\u001b[33mWARNING: \u001b[39m\u001b[22m\u001b[33mfind_max_xi_ξ_ub = 1000.0 reached!!! This is save to ignore if the ξ value is high enough for your implementation. But it could indicate an unbound model!!!\u001b[39m\n"
     ]
    },
    {
     "name": "stdout",
     "output_type": "stream",
     "text": [
      "Check passed!!!\n",
      "Academic license - for non-commercial use only\n",
      "\n",
      "Executing FBAwMC\n",
      "\n",
      "Analazing ξ = 1.0 [1/19]\n",
      "Analazing ξ = 2.5 [2/19]\n",
      "Analazing ξ = 4.0 [3/19]\n",
      "Analazing ξ = 5.5 [4/19]\n",
      "Analazing ξ = 7.0 [5/19]\n",
      "Analazing ξ = 8.5 [6/19]\n",
      "Analazing ξ = 10.0 [7/19]\n",
      "Analazing ξ = 25.0 [8/19]\n",
      "Analazing ξ = 40.0 [9/19]\n",
      "Analazing ξ = 55.0 [10/19]\n",
      "Analazing ξ = 70.0 [11/19]\n",
      "Analazing ξ = 85.0 [12/19]\n",
      "Analazing ξ = 100.0 [13/19]\n",
      "Analazing ξ = 250.0 [14/19]\n",
      "Analazing ξ = 400.0 [15/19]\n",
      "Analazing ξ = 550.0 [16/19]\n",
      "Analazing ξ = 700.0 [17/19]\n",
      "Analazing ξ = 850.0 [18/19]\n",
      "Analazing ξ = 1000.0 [19/19]\n",
      "\n",
      "Finished ...\n"
     ]
    }
   ],
   "source": [
    "AGE1.reload_age1_hn_gem();\n",
    "set_working_gem(AGE1.age1_hn_gem);\n",
    "METS.set_c!(0.5, \"pe_hs[e]\");\n",
    "METS.set_c!(99999, \"glc_D[e]\");\n",
    "METS.set_e!(0.0, METS.ids());\n",
    "fba_express2 = Chemostat.FBA.fba_w_mc_chemostat(AGE1.age1_hn_gem);"
   ]
  },
  {
   "cell_type": "code",
   "execution_count": 39,
   "metadata": {},
   "outputs": [],
   "source": [
    "gui(Chemostat.ExpResPlots.plot_ξ_vs_μ(fba_express2))"
   ]
  },
  {
   "cell_type": "code",
   "execution_count": 40,
   "metadata": {},
   "outputs": [],
   "source": [
    "gui(Chemostat.ExpResPlots.plot_ξ_vs_Xv(fba_express2))"
   ]
  },
  {
   "cell_type": "code",
   "execution_count": null,
   "metadata": {},
   "outputs": [],
   "source": []
  }
 ],
 "metadata": {
  "@webio": {
   "lastCommId": null,
   "lastKernelId": null
  },
  "kernelspec": {
   "display_name": "Julia 0.6.4",
   "language": "julia",
   "name": "julia-0.6"
  },
  "language_info": {
   "file_extension": ".jl",
   "mimetype": "application/julia",
   "name": "julia",
   "version": "0.6.4"
  }
 },
 "nbformat": 4,
 "nbformat_minor": 2
}
