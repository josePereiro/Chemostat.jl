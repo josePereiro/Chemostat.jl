{
 "cells": [
  {
   "cell_type": "code",
   "execution_count": 3,
   "metadata": {},
   "outputs": [],
   "source": [
    "using Chemostat.GEMs;\n",
    "using MaxEntChemostat2018;"
   ]
  },
  {
   "cell_type": "code",
   "execution_count": 2,
   "metadata": {},
   "outputs": [],
   "source": [
    "gem = GEM(MaxEntChemostat2018.FBA.load_cho()...);"
   ]
  },
  {
   "cell_type": "markdown",
   "metadata": {},
   "source": [
    "## Commons"
   ]
  },
  {
   "cell_type": "markdown",
   "metadata": {},
   "source": [
    "### Deep Collect"
   ]
  },
  {
   "cell_type": "code",
   "execution_count": 291,
   "metadata": {},
   "outputs": [
    {
     "name": "stderr",
     "output_type": "stream",
     "text": [
      "WARNING: replacing module Commons\n"
     ]
    },
    {
     "data": {
      "text/plain": [
       "Commons"
      ]
     },
     "execution_count": 291,
     "metadata": {},
     "output_type": "execute_result"
    }
   ],
   "source": [
    "module Commons\n",
    "\n",
    "using DataFrames;\n",
    "\n",
    "\"\"\"\n",
    "    Type of the identifiers\n",
    "\"\"\"\n",
    "Ider_type = Union{String, Int};\n",
    "\n",
    "\"\"\"\n",
    "    Collect recursivelly all the T elements of the give parameters.\n",
    "    If any other eltype if found, it rise an error!!!\n",
    "\"\"\"\n",
    "function deep_collect(T::Type, o)::Tuple{Vararg{T}}\n",
    "    col = [];\n",
    "    # Base\n",
    "    if isa(o,T)\n",
    "        return tuple(o);\n",
    "    elseif typeof(o) != eltype(o)\n",
    "        for e in o\n",
    "            push!(col,deep_collect(T,e)...)\n",
    "        end\n",
    "    else\n",
    "        error(\"Uncompatible type $(eltype(o)), expected $(T)!!!\");\n",
    "    end\n",
    "    return tuple(col...); \n",
    "end\n",
    "deep_collect(T::Type, oo...) = deep_collect(T,oo);\n",
    "collect_iders(ider, iders...) = deep_collect(Ider_type, ider, iders...);\n",
    "\n",
    "\"\"\"\n",
    "    Parse any identifier to index!!!\n",
    "\"\"\"\n",
    "parse_ider(data, indx::Int) = indx;\n",
    "parse_ider(data, id::String) = begin indx = findfirst(data[:id], id); \n",
    "    indx == 0 ? error(\"Id $(id) not found!!!\"): indx;\n",
    "end;\n",
    "parse_ider(data, ider, iders...) = [parse_ider(data, i) \n",
    "    for i in collect_iders(ider, iders)];\n",
    "\n",
    "get_union(data, fun, s, ss) = union([fun(data, i) for i in deep_collect(String, s, ss)]...);\n",
    "get_intersect(data, fun, s, ss) = intersect([fun(data, i) for i in deep_collect(String, s, ss)]...);\n",
    "\n",
    "id(data, ider) = data[:id][parse_ider(data, ider)];\n",
    "id_equal_to(data, id::String) = parse_ider(data, id);\n",
    "ids(data, ider, iders...) = data[:id][parse_ider(data, ider, iders)];\n",
    "\n",
    "ids_starting_with(data, s::String) = find((id) -> startswith(id,s), data[:id]);\n",
    "ids_starting_with(data, s,ss...) = get_union(data, ids_starting_with, s, ss);\n",
    "\n",
    "ids_ending_with(data, s::String) = find((id) -> endswith(id,s), data[:id]);\n",
    "ids_ending_with(data, s,ss...) = get_union(data, ids_ending_with, s, ss);\n",
    "\n",
    "ids_containing(data, s::String) = find((id) -> contains(id,s), data[:id]);\n",
    "ids_containing(data, s,ss...) = get_union(data, ids_containing, s, ss);\n",
    "\n",
    "ids_equals_to(data, s::String) = [id_equal_to(data, s)];\n",
    "ids_equals_to(data, s, ss...) = get_union(data, ids_equals_to, s, ss);\n",
    "\n",
    "ids_not_starting_with(data, s::String) = find((id) -> !startswith(id,s), data[:id]);\n",
    "ids_not_starting_with(data, s,ss...) =  get_intersect(data, ids_not_starting_with, s, ss);\n",
    "\n",
    "ids_not_ending_with(data, s::String) = find((id) -> !endswith(id,s), data[:id]);\n",
    "ids_not_ending_with(data, s,ss...) = get_intersect(data, ids_not_ending_with, s, ss);\n",
    "\n",
    "ids_not_containing(data, s::String) = find((id) -> !contains(id,s), data[:id]);\n",
    "ids_not_containing(data, s,ss...) = get_intersect(data, ids_not_containing, s, ss);\n",
    "\n",
    "ids_not_equals_to(data, s::String) = find(!isequal(s), data[:id]);\n",
    "ids_not_equals_to(data, s,ss...) = get_intersect(data, ids_not_equals_to, s, ss);\n",
    "\n",
    "end"
   ]
  },
  {
   "cell_type": "code",
   "execution_count": 292,
   "metadata": {},
   "outputs": [],
   "source": [
    "Store.set_working_gem(gem);"
   ]
  },
  {
   "cell_type": "markdown",
   "metadata": {},
   "source": [
    "## Store"
   ]
  },
  {
   "cell_type": "code",
   "execution_count": 83,
   "metadata": {},
   "outputs": [
    {
     "name": "stderr",
     "output_type": "stream",
     "text": [
      "WARNING: replacing module Store\n"
     ]
    },
    {
     "data": {
      "text/plain": [
       "Store"
      ]
     },
     "execution_count": 83,
     "metadata": {},
     "output_type": "execute_result"
    }
   ],
   "source": [
    "module Store\n",
    "    using Chemostat.GEMs;\n",
    "    using Commons;\n",
    "    _gem_ = nothing;\n",
    "    set_working_gem(gem::GEM) = global _gem_ = GEM(gem, :extended);\n",
    "    get_gem() = _gem_ == nothing ? error(\"You must first set the working GEM!!!\") : _gem_;\n",
    "\n",
    "    get_mets() = get_gem().mets;\n",
    "    get_mets(met) = get_mets()[Commons.parse_ider(_gem_.mets, met),:];\n",
    "\n",
    "    get_rxns() = get_gem().rxns;\n",
    "    get_rxns(rxn) = get_rxns()[Commons.parse_ider(_gem_.rxns, rxn),:];\n",
    "\n",
    "    get_S() = get_gem().S;\n",
    "    get_S(met, rxn) = \n",
    "        get_S()[Commons.parse_ider(_gem_.mets, met), Commons.parse_ider(_gem_.rxns, rxn)];\n",
    "    get_S(::Colon, rxn) = get_S()[:, Commons.parse_ider(_gem_.rxns, rxn)];\n",
    "    get_S(met, ::Colon) = get_S()[Commons.parse_ider(_gem_.mets, met),:];\n",
    "\n",
    "end"
   ]
  },
  {
   "cell_type": "code",
   "execution_count": 82,
   "metadata": {},
   "outputs": [
    {
     "data": {
      "text/html": [
       "<table class=\"data-frame\"><thead><tr><th></th><th>id</th><th>pV</th><th>pL</th><th>nV</th><th>nL</th><th>e</th><th>y</th><th>c</th></tr></thead><tbody><tr><th>1</th><td>h2o_r</td><td>0.0</td><td>0.0</td><td>0.0</td><td>0.0</td><td>0.0</td><td>0.0</td><td>0.0</td></tr></tbody></table>"
      ],
      "text/plain": [
       "1×8 DataFrames.DataFrame\n",
       "│ Row │ id    │ pV  │ pL  │ nV  │ nL  │ e   │ y   │ c   │\n",
       "├─────┼───────┼─────┼─────┼─────┼─────┼─────┼─────┼─────┤\n",
       "│ 1   │ h2o_r │ 0.0 │ 0.0 │ 0.0 │ 0.0 │ 0.0 │ 0.0 │ 0.0 │"
      ]
     },
     "execution_count": 82,
     "metadata": {},
     "output_type": "execute_result"
    }
   ],
   "source": [
    "Store.set_working_gem(gem);\n",
    "Store.get_mets(1)"
   ]
  },
  {
   "cell_type": "markdown",
   "metadata": {},
   "source": [
    "## Mets"
   ]
  },
  {
   "cell_type": "code",
   "execution_count": 192,
   "metadata": {},
   "outputs": [
    {
     "name": "stderr",
     "output_type": "stream",
     "text": [
      "WARNING: replacing module METS\n"
     ]
    },
    {
     "data": {
      "text/plain": [
       "METS"
      ]
     },
     "execution_count": 192,
     "metadata": {},
     "output_type": "execute_result"
    }
   ],
   "source": [
    "module METS\n",
    "\n",
    "using Store;\n",
    "using Commons;\n",
    "\n",
    "# Ids\n",
    "id(ider) = Commons.id(Store.get_mets(), ider)\n",
    "id_equal_to(id::String) = Commons.id_equal_to(Store.get_mets(), id);\n",
    "ids(ider, iders...) = Commons.ids(Store.get_mets(), ider, iders...);\n",
    "ids_starting_with(s,ss...) = Commons.ids_starting_with(Store.get_mets(), s,ss...);\n",
    "ids_ending_with(s,ss...) = Commons.ids_ending_with(Store.get_mets(), s,ss...);\n",
    "ids_containing(s,ss...) = Commons.ids_containing(Store.get_mets(), s,ss...);\n",
    "ids_equals_to(s,ss...) = Commons.ids_equals_to(Store.get_mets(), s,ss...);\n",
    "ids_not_starting_with(s,ss...) = Commons.ids_not_starting_with(Store.get_mets(), s,ss...);\n",
    "ids_not_ending_with(s,ss...) = Commons.ids_not_ending_with(Store.get_mets(), s,ss...);\n",
    "ids_not_containing(s,ss...) = Commons.ids_not_containing(Store.get_mets(), s,ss...);\n",
    "ids_not_equals_to(s,ss...) = Commons.ids_not_equals_to(Store.get_mets(), s,ss...);\n",
    "\n",
    "# NetTools\n",
    "# rxns involved\n",
    "\"\"\"\n",
    "    rxns(mindx::Int)\n",
    "    rxns(mid::String)\n",
    "\n",
    "    Returns the indexes of all the reactions where the given metabolite participate.\n",
    "\"\"\"\n",
    "rxns_involved(met::Commons.Ider_type) = Store.get_S(met, :).nzind;\n",
    "is_involved_in(met::Commons.Ider_type, rxn::Commons.Ider_type) = Store.get_S(met, rxn) != 0;\n",
    "\n",
    "rxns_as_react(met::Commons.Ider_type) = filter((rxn) -> is_reactant_in(met,rxn), rxns_involved(met));\n",
    "is_reactant_in(met::Commons.Ider_type, rxn::Commons.Ider_type) = Store.get_S(met, rxn) < 0.0;\n",
    "\n",
    "rxns_as_prod(met::Int) = filter((rxn) -> is_product_in(met,rxn), rxns_involved(met));;\n",
    "is_product_in(met::Commons.Ider_type, rxn::Commons.Ider_type) = Store.get_S(met, rxn) > 0.0;\n",
    "\n",
    "count() = size(Store.get_S(),1);\n",
    "\n",
    "end"
   ]
  },
  {
   "cell_type": "markdown",
   "metadata": {},
   "source": [
    "## Rxns"
   ]
  },
  {
   "cell_type": "code",
   "execution_count": 323,
   "metadata": {},
   "outputs": [
    {
     "name": "stderr",
     "output_type": "stream",
     "text": [
      "WARNING: replacing module RXNS\n"
     ]
    },
    {
     "data": {
      "text/plain": [
       "RXNS"
      ]
     },
     "execution_count": 323,
     "metadata": {},
     "output_type": "execute_result"
    }
   ],
   "source": [
    "module RXNS\n",
    "\n",
    "using Store;\n",
    "using Commons;\n",
    "using METS;\n",
    "\n",
    "# Ids\n",
    "id(ider) = Commons.id(Store.get_rxns(), ider)\n",
    "id_equal_to(id::String) = Commons.id_equal_to(Store.get_rxns(), id);\n",
    "ids(ider, iders...) = Commons.ids(Store.get_rxns(), ider, iders...);\n",
    "ids_starting_with(s,ss...) = Commons.ids_starting_with(Store.get_rxns(), s,ss...);\n",
    "ids_ending_with(s,ss...) = Commons.ids_ending_with(Store.get_rxns(), s,ss...);\n",
    "ids_containing(s,ss...) = Commons.ids_containing(Store.get_rxns(), s,ss...);\n",
    "ids_equals_to(s,ss...) = Commons.ids_equals_to(Store.get_rxns(), s,ss...);\n",
    "ids_not_starting_with(s,ss...) = Commons.ids_not_starting_with(Store.get_rxns(), s,ss...);\n",
    "ids_not_ending_with(s,ss...) = Commons.ids_not_ending_with(Store.get_rxns(), s,ss...);\n",
    "ids_not_containing(s,ss...) = Commons.ids_not_containing(Store.get_rxns(), s,ss...);\n",
    "ids_not_equals_to(s,ss...) = Commons.ids_not_equals_to(Store.get_rxns(), s,ss...);\n",
    "\n",
    "\n",
    "# NetTools\n",
    "all_mets(rxn::Commons.Ider_type) = Store.get_S(:, rxn).nzind;\n",
    "all_mets(rxn, rxns...) = union([all_mets(r) for r in Commons.collect_iders(rxn, rxns)]...);\n",
    "common_mets(rxn, rxns...) = intersect([all_mets(r) for r in Commons.collect_iders(rxn, rxns)]...);\n",
    "\n",
    "with_mets(met::Commons.Ider_type) = Store.get_S(met, :).nzind;\n",
    "with_mets(met, mets...) = intersect([with_mets(m) for m in Commons.collect_iders(rxn, rxns)]...);\n",
    "\n",
    "all_reacts(rxn::Commons.Ider_type) = filter((met) -> Store.get_S(met,rxn) < 0 , all_mets(rxn));\n",
    "all_reacts(rxn,rxns...) = union([all_reacts(r) for r in Commons.collect_iders(rxn, rxns)]...);\n",
    "common_reacts(rxn, rxns...) = intersect([all_reacts(r) for r in Commons.collect_iders(rxn, rxns)]...);\n",
    "\n",
    "with_reacts(met::Commons.Ider_type) = filter((rxn) -> Store.get_S(met,rxn) < 0, with_mets(met));\n",
    "with_reacts(met, mets...) = intersect([with_reacts(m) for m in Commons.collect_iders(met, mets)]...);\n",
    "\n",
    "all_prods(rxn::Commons.Ider_type) = filter((met) -> Store.get_S(met,rxn) > 0 , all_mets(rxn));\n",
    "all_prods(rxn,rxns...) = union([all_prods(r) for r in Commons.collect_iders(rxn, rxns)]...);\n",
    "common_prods(rxn, rxns...) = intersect([all_prods(r) for r in Commons.collect_iders(rxn, rxns)]...);\n",
    "\n",
    "with_prods(met::Commons.Ider_type) = filter((rxn) -> Store.get_S(met,rxn) > 0, with_mets(met));\n",
    "with_prods(met, mets...) = intersect([with_prods(m) for m in Commons.collect_iders(rxn, rxns)]...);\n",
    "\n",
    "has_prods_only(rxn::Commons.Ider_type) = length(all_reacts(rxn)) == 0 && length(all_prods(rxn)) > 0;\n",
    "has_reacts_only(rxn::Commons.Ider_type) = length(all_reacts(rxn)) > 0 && length(all_prods(rxn)) == 0;\n",
    "\n",
    "is_external(rxn::Commons.Ider_type) = has_reacts_only(rxn) || has_prods_only(rxn);\n",
    "is_internal(rxn::Commons.Ider_type) = !is_external(rxn);\n",
    "\n",
    "externals() = find(is_external, 1:count());\n",
    "internals() = find(is_internal, 1:count());\n",
    "\n",
    "is_rev(rxn::Commons.Ider_type) = let rxn_data = Store.get_rxns(rxn)\n",
    "    return rxn_data[1,:pub] != 0.0 && rxn_data[1,:nub] != 0.0; end\n",
    "revs() = find(is_rev, 1:count());\n",
    "\n",
    "is_not_rev(rxn::Commons.Ider_type) = !is_rev(rxn);\n",
    "not_revs() = find(is_not_rev, 1:count());\n",
    "\n",
    "\n",
    "is_blocked(rxn::Commons.Ider_type) = let rxn_data = Store.get_rxns(rxn)\n",
    "    return rxn_data[1,:pub] == 0.0 && rxn_data[1,:nub] == 0.0; end\n",
    "blocked() = find(is_blocked, 1:count());\n",
    "\n",
    "is_not_blocked(rxn::Commons.Ider_type) = !is_blocked(rxn);\n",
    "not_blocked() = find(is_not_blocked, 1:count());\n",
    "\n",
    "is_fixxed(rxn::Commons.Ider_type) = let rxn_data = Store.get_rxns(rxn)\n",
    "    return ((rxn_data[1,:pub] == rxn_data[1,:plb] && rxn_data[1,:nub] == rxn_data[1,:nlb] == 0.0) ||\n",
    "        (rxn_data[1,:pub] == rxn_data[1,:plb] == 0.0 && rxn_data[1,:nub] == rxn_data[1,:nlb])); end\n",
    "fixxed() = find(is_fixxed, 1:count());\n",
    "\n",
    "is_not_fixxed(rxn::Commons.Ider_type) = !is_fixxed(rxn);\n",
    "not_fixxed() = find(is_not_fixxed, 1:count());\n",
    "\n",
    "is_fwd_only(rxn::Commons.Ider_type) = let rxn_data = Store.get_rxns(rxn)\n",
    "    return rxn_data[1,:pub] != 0.0 && rxn_data[1,:nub] == 0.0; end\n",
    "fwd_only() = find(is_fwd_only, 1:count());\n",
    "\n",
    "is_bkwd_only(rxn::Commons.Ider_type) = let rxn_data = Store.get_rxns(rxn)\n",
    "    return rxn_data[1,:pub] == 0.0 && rxn_data[1,:nub] != 0.0; end\n",
    "bkwd_only() = find(is_bkwd_only, 1:count());\n",
    "\n",
    "equations(rxn::Commons.Ider_type) = begin\n",
    "    string([string((i != 1)?\" + \":\"\",\"(\" * string(-Store.get_S(react, rxn)) * \") \" * METS.id(react))\n",
    "        for (i,react) in enumerate(all_reacts(rxn))]...,\n",
    "        is_rev(rxn)?\" <==> \":is_fwd_only(rxn)? \" ==> \":is_bkwd_only(rxn)?\" <== \":\" >< \",\n",
    "        [string((i != 1)?\" + \":\"\",\"(\" * string(Store.get_S(prod, rxn)) * \") \" * METS.id(prod))\n",
    "        for (i,prod) in enumerate(all_prods(rxn))]...\n",
    "    ); end\n",
    "equations(rxn, rxns...) = [equations(r) for r in Commons.collect_iders(rxn, rxns)];\n",
    "equations() = equations(1:count());\n",
    "\n",
    "count() = size(Store.get_S(),2);\n",
    "\n",
    "end # module RXNS\n"
   ]
  },
  {
   "cell_type": "code",
   "execution_count": 326,
   "metadata": {},
   "outputs": [
    {
     "data": {
      "text/html": [
       "<table class=\"data-frame\"><thead><tr><th></th><th>id</th><th>pub</th><th>plb</th><th>nub</th><th>nlb</th><th>ap</th><th>an</th></tr></thead><tbody><tr><th>1</th><td>4NPHSULT</td><td>1000.0</td><td>0.0</td><td>0.0</td><td>0.0</td><td>0.00968661</td><td>0.00968661</td></tr><tr><th>2</th><td>FAH1</td><td>1000.0</td><td>0.0</td><td>0.0</td><td>0.0</td><td>0.012151</td><td>0.012151</td></tr><tr><th>3</th><td>FAH2</td><td>1000.0</td><td>0.0</td><td>0.0</td><td>0.0</td><td>0.012151</td><td>0.012151</td></tr><tr><th>4</th><td>FAH3</td><td>1000.0</td><td>0.0</td><td>0.0</td><td>0.0</td><td>0.012151</td><td>0.012151</td></tr><tr><th>5</th><td>P4502C18</td><td>1000.0</td><td>0.0</td><td>0.0</td><td>0.0</td><td>0.012151</td><td>0.012151</td></tr><tr><th>6</th><td>P4502C8</td><td>1000.0</td><td>0.0</td><td>0.0</td><td>0.0</td><td>0.012151</td><td>0.012151</td></tr><tr><th>7</th><td>P4502E1</td><td>1000.0</td><td>0.0</td><td>0.0</td><td>0.0</td><td>0.012151</td><td>0.012151</td></tr><tr><th>8</th><td>FAS100ACP</td><td>1000.0</td><td>0.0</td><td>0.0</td><td>0.0</td><td>0.012151</td><td>0.012151</td></tr><tr><th>9</th><td>FAS140ACP</td><td>1000.0</td><td>0.0</td><td>0.0</td><td>0.0</td><td>0.012151</td><td>0.012151</td></tr><tr><th>10</th><td>FAS160ACP</td><td>1000.0</td><td>0.0</td><td>0.0</td><td>0.0</td><td>0.012151</td><td>0.012151</td></tr></tbody></table>"
      ],
      "text/plain": [
       "10×7 DataFrames.DataFrame\n",
       "│ Row │ id        │ pub    │ plb │ nub │ nlb │ ap         │ an         │\n",
       "├─────┼───────────┼────────┼─────┼─────┼─────┼────────────┼────────────┤\n",
       "│ 1   │ 4NPHSULT  │ 1000.0 │ 0.0 │ 0.0 │ 0.0 │ 0.00968661 │ 0.00968661 │\n",
       "│ 2   │ FAH1      │ 1000.0 │ 0.0 │ 0.0 │ 0.0 │ 0.012151   │ 0.012151   │\n",
       "│ 3   │ FAH2      │ 1000.0 │ 0.0 │ 0.0 │ 0.0 │ 0.012151   │ 0.012151   │\n",
       "│ 4   │ FAH3      │ 1000.0 │ 0.0 │ 0.0 │ 0.0 │ 0.012151   │ 0.012151   │\n",
       "│ 5   │ P4502C18  │ 1000.0 │ 0.0 │ 0.0 │ 0.0 │ 0.012151   │ 0.012151   │\n",
       "│ 6   │ P4502C8   │ 1000.0 │ 0.0 │ 0.0 │ 0.0 │ 0.012151   │ 0.012151   │\n",
       "│ 7   │ P4502E1   │ 1000.0 │ 0.0 │ 0.0 │ 0.0 │ 0.012151   │ 0.012151   │\n",
       "│ 8   │ FAS100ACP │ 1000.0 │ 0.0 │ 0.0 │ 0.0 │ 0.012151   │ 0.012151   │\n",
       "│ 9   │ FAS140ACP │ 1000.0 │ 0.0 │ 0.0 │ 0.0 │ 0.012151   │ 0.012151   │\n",
       "│ 10  │ FAS160ACP │ 1000.0 │ 0.0 │ 0.0 │ 0.0 │ 0.012151   │ 0.012151   │"
      ]
     },
     "execution_count": 326,
     "metadata": {},
     "output_type": "execute_result"
    }
   ],
   "source": [
    "Store.get_rxns(1:10)"
   ]
  },
  {
   "cell_type": "code",
   "execution_count": 138,
   "metadata": {},
   "outputs": [
    {
     "data": {
      "text/plain": [
       "7-element Array{String,1}:\n",
       " \"o2_c\"    \n",
       " \"h_c\"     \n",
       " \"nadp_c\"  \n",
       " \"nadph_c\" \n",
       " \"h2o_c\"   \n",
       " \"ddca_c\"  \n",
       " \"whddca_c\""
      ]
     },
     "execution_count": 138,
     "metadata": {},
     "output_type": "execute_result"
    }
   ],
   "source": [
    "METS.ids(RXNS.mets_involved(2))"
   ]
  },
  {
   "cell_type": "code",
   "execution_count": null,
   "metadata": {},
   "outputs": [],
   "source": []
  }
 ],
 "metadata": {
  "@webio": {
   "lastCommId": null,
   "lastKernelId": null
  },
  "kernelspec": {
   "display_name": "Julia 0.6.4",
   "language": "julia",
   "name": "julia-0.6"
  },
  "language_info": {
   "file_extension": ".jl",
   "mimetype": "application/julia",
   "name": "julia",
   "version": "0.6.4"
  }
 },
 "nbformat": 4,
 "nbformat_minor": 2
}
