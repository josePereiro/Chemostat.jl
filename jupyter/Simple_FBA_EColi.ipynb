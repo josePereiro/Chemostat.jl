{
 "cells": [
  {
   "cell_type": "code",
   "execution_count": 2,
   "metadata": {
    "collapsed": true
   },
   "outputs": [
    {
     "name": "stderr",
     "output_type": "stream",
     "text": [
      "\u001b[1m\u001b[36mINFO: \u001b[39m\u001b[22m\u001b[36mPrecompiling module CPLEX.\n",
      "\u001b[39m\u001b[1m\u001b[33mWARNING: \u001b[39m\u001b[22m\u001b[33muuid4(rng) is deprecated, use Compat.UUIDs.uuid4(rng) instead.\u001b[39m\n",
      "Stacktrace:\n",
      " [1] \u001b[1mdepwarn\u001b[22m\u001b[22m\u001b[1m(\u001b[22m\u001b[22m::String, ::Symbol\u001b[1m)\u001b[22m\u001b[22m at \u001b[1m./deprecated.jl:70\u001b[22m\u001b[22m\n",
      " [2] \u001b[1muuid4\u001b[22m\u001b[22m\u001b[1m(\u001b[22m\u001b[22m::MersenneTwister\u001b[1m)\u001b[22m\u001b[22m at \u001b[1m./deprecated.jl:57\u001b[22m\u001b[22m\n",
      " [3] \u001b[1mmsg_header\u001b[22m\u001b[22m at \u001b[1m/Users/Pereiro/.julia/v0.6/IJulia/src/msg.jl:18\u001b[22m\u001b[22m [inlined]\n",
      " [4] \u001b[1mmsg_pub\u001b[22m\u001b[22m\u001b[1m(\u001b[22m\u001b[22m::IJulia.Msg, ::String, ::Dict{String,String}, ::Dict{String,Any}\u001b[1m)\u001b[22m\u001b[22m at \u001b[1m/Users/Pereiro/.julia/v0.6/IJulia/src/msg.jl:30\u001b[22m\u001b[22m (repeats 2 times)\n",
      " [5] \u001b[1msend_stream\u001b[22m\u001b[22m\u001b[1m(\u001b[22m\u001b[22m::String\u001b[1m)\u001b[22m\u001b[22m at \u001b[1m/Users/Pereiro/.julia/v0.6/IJulia/src/stdio.jl:172\u001b[22m\u001b[22m\n",
      " [6] \u001b[1msend_stdio\u001b[22m\u001b[22m\u001b[1m(\u001b[22m\u001b[22m::String\u001b[1m)\u001b[22m\u001b[22m at \u001b[1m/Users/Pereiro/.julia/v0.6/IJulia/src/stdio.jl:130\u001b[22m\u001b[22m\n",
      " [7] \u001b[1m(::Base.##302#303{IJulia.#send_stderr,Timer})\u001b[22m\u001b[22m\u001b[1m(\u001b[22m\u001b[22m\u001b[1m)\u001b[22m\u001b[22m at \u001b[1m./event.jl:436\u001b[22m\u001b[22m\n",
      "while loading /Users/Pereiro/.julia/v0.6/COBRA/src/COBRA.jl, in expression starting on line 27\n",
      "\u001b[1m\u001b[91mERROR: \u001b[39m\u001b[22mLoadError: \u001b[91mCPLEX not properly installed. Please run Pkg.build(\"CPLEX\")\u001b[39m\n",
      "Stacktrace:\n",
      " [1] \u001b[1merror\u001b[22m\u001b[22m\u001b[1m(\u001b[22m\u001b[22m::String\u001b[1m)\u001b[22m\u001b[22m at \u001b[1m./error.jl:21\u001b[22m\u001b[22m\n",
      " [2] \u001b[1minclude_from_node1\u001b[22m\u001b[22m\u001b[1m(\u001b[22m\u001b[22m::String\u001b[1m)\u001b[22m\u001b[22m at \u001b[1m./loading.jl:576\u001b[22m\u001b[22m\n",
      " [3] \u001b[1minclude\u001b[22m\u001b[22m\u001b[1m(\u001b[22m\u001b[22m::String\u001b[1m)\u001b[22m\u001b[22m at \u001b[1m./sysimg.jl:14\u001b[22m\u001b[22m\n",
      " [4] \u001b[1manonymous\u001b[22m\u001b[22m at \u001b[1m./<missing>:2\u001b[22m\u001b[22m\n",
      "while loading /Users/Pereiro/.julia/v0.6/CPLEX/src/CPLEX.jl, in expression starting on line 16\n",
      "WARNING: could not import TruncatedNormal.gauss2Dtruncstats into EP\n",
      "WARNING: could not import TruncatedNormal.R into EP\n"
     ]
    }
   ],
   "source": [
    "using Gurobi;\n",
    "using MaxEntChemostat2018;\n",
    "using DataFrames;\n",
    "using JuMP;"
   ]
  },
  {
   "cell_type": "code",
   "execution_count": 3,
   "metadata": {},
   "outputs": [],
   "source": [
    "S, mets, rxns = MaxEntChemostat2018.FBA.load_ecoli();"
   ]
  },
  {
   "cell_type": "code",
   "execution_count": 4,
   "metadata": {},
   "outputs": [],
   "source": [
    "function fba(S, mets, rxns; \n",
    "        objtindex::Int = 13, C = 0.0, \n",
    "        add_bound_constraints::Bool = true)::FBAResult\n",
    "    \n",
    "    #Checking\n",
    "    @assert all(size(S) .== (size(mets,1), size(rxns,1)))\n",
    "    @assert allunique(rxns[:id])\n",
    "    @assert allunique(mets[:id])\n",
    "    C > 0 && @assert !all(names(rxns) .!= :an) && !all(names(rxns) .!= :ap)\n",
    "    add_bound_constraints && @assert !all(names(rxns) .!= :lb) && !all(names(rxns) .!= :ub)\n",
    "    \n",
    "    # Sizes\n",
    "    rscount = size(rxns,1);\n",
    "    mscount = size(mets,1);\n",
    "    \n",
    "    #model\n",
    "    model = Model();\n",
    "    setsolver(model, Gurobi.GurobiSolver());\n",
    "    \n",
    "    #variables\n",
    "    pfluxes = Vector{JuMP.Variable}();\n",
    "    nfluxes = Vector{JuMP.Variable}();\n",
    "    for ri in 1:rscount\n",
    "        \n",
    "        #positive fluxes\n",
    "        var = @variable(model, basename = \"p_$(rxns[:id][ri])\");\n",
    "        push!(pfluxes,var);\n",
    "        \n",
    "        #negative fluxes\n",
    "        var = @variable(model, basename = \"n_$(rxns[:id][ri])\");\n",
    "        push!(nfluxes, var);\n",
    "        \n",
    "    end\n",
    "    #Objective flux\n",
    "    obj = pfluxes[objtindex];\n",
    "    \n",
    "    #Bound Constraints\n",
    "    if add_bound_constraints\n",
    "        for ri in 1:rscount\n",
    "            @constraint(model, pfluxes[ri] >= 0);\n",
    "            @constraint(model, pfluxes[ri] <= rxns[:ub][ri]);\n",
    "            @constraint(model, nfluxes[ri] >= 0);\n",
    "            @constraint(model, nfluxes[ri] <= -rxns[:lb][ri]);\n",
    "        end\n",
    "    end\n",
    "    \n",
    "    #Balance Constraints\n",
    "    for mi in 1:mscount\n",
    "        @constraint(model, S[mi,:]' * (pfluxes - nfluxes) == 0);\n",
    "    end\n",
    "    \n",
    "    #Cost constraints\n",
    "    if C > 0\n",
    "        @constraint(model, sum(rxns[:ap]' * pfluxes + rxns[:an]' * nfluxes) <= C) \n",
    "    end\n",
    "    \n",
    "    #Objective\n",
    "    @objective(model, Max, obj);\n",
    "    \n",
    "    #Solving\n",
    "    solve(model);\n",
    "    \n",
    "    return FBAResult(model, pfluxes, nfluxes);\n",
    "    \n",
    "end\n",
    "\n",
    "struct FBAResult\n",
    "    model::JuMP.Model\n",
    "    pfluxes::Vector{JuMP.Variable}\n",
    "    nfluxes::Vector{JuMP.Variable}\n",
    "end"
   ]
  },
  {
   "cell_type": "code",
   "execution_count": 5,
   "metadata": {
    "collapsed": true
   },
   "outputs": [
    {
     "name": "stdout",
     "output_type": "stream",
     "text": [
      "Academic license - for non-commercial use only\n",
      "Warning for adding constraints: zero or small (< 1e-13) coefficients, ignored\n",
      "Optimize a model with 453 rows, 190 columns and 1290 nonzeros\n",
      "Coefficient statistics:\n",
      "  Matrix range     [1e-07, 6e+01]\n",
      "  Objective range  [1e+00, 1e+00]\n",
      "  Bounds range     [0e+00, 0e+00]\n",
      "  RHS range        [1e+00, 1e+03]\n",
      "Presolve removed 412 rows and 99 columns\n",
      "Presolve time: 0.00s\n",
      "Presolved: 41 rows, 91 columns, 427 nonzeros\n",
      "\n",
      "Iteration    Objective       Primal Inf.    Dual Inf.      Time\n",
      "       0    8.2381070e+01   6.424725e+02   0.000000e+00      0s\n",
      "      53    1.9725678e-01   0.000000e+00   0.000000e+00      0s\n",
      "\n",
      "Solved in 53 iterations and 0.00 seconds\n",
      "Optimal objective  1.972567824e-01\n"
     ]
    }
   ],
   "source": [
    "result = fba(S,mets, rxns; C = 1);"
   ]
  },
  {
   "cell_type": "markdown",
   "metadata": {},
   "source": [
    "## Tools"
   ]
  },
  {
   "cell_type": "code",
   "execution_count": 6,
   "metadata": {},
   "outputs": [
    {
     "data": {
      "text/plain": [
       "convert (generic function with 833 methods)"
      ]
     },
     "execution_count": 6,
     "metadata": {},
     "output_type": "execute_result"
    }
   ],
   "source": [
    "\"\"\"\n",
    "Returns a DataFrame with the result\n",
    "\"\"\"\n",
    "function Base.convert(::Type{DataFrames.DataFrame}, vars::Array{JuMP.Variable,1})::DataFrame\n",
    "    df = DataFrames.DataFrame(); \n",
    "    df[:id] = string.(vars);\n",
    "    df[:v] = Float64.(getvalue.(vars))\n",
    "    return df;\n",
    "end\n",
    "function Base.convert(::Type{DataFrames.DataFrame}, fbares::FBAResult)::DataFrame\n",
    "    df = DataFrames.DataFrame();\n",
    "    df[:id] = [string.(fbares.pfluxes) ; string.(fbares.nfluxes)]\n",
    "    df[:v] = [Float64.(getvalue.(fbares.pfluxes)) ; Float64.(getvalue.(fbares.nfluxes))];\n",
    "    return df;\n",
    "end\n",
    "function get_non_zeros(S, mets, rxns, fbares::FBAResult)\n",
    "    nz_index = Vector{Int}();\n",
    "    for ri in 1:size(rxns,1)\n",
    "        if (getvalue(fbares.pfluxes[ri]) - getvalue(fbares.nfluxes[ri])) != 0.0 \n",
    "            push!(nz_index, ri);\n",
    "        end\n",
    "    end\n",
    "    \n",
    "    nz_fba_res = FBAResult(fbares.model, fbares.pfluxes[nz_index], fbares.nfluxes[nz_index]);\n",
    "\n",
    "    nz_rxns = rxns[nz_index,:];\n",
    "    nz_S = S[:,nz_index];\n",
    "\n",
    "    nz_index = Vector{Int}();\n",
    "    for mi in 1:size(mets,1)\n",
    "        if length(nonzeros(nz_S[mi,:])) != 0\n",
    "           push!(nz_index, mi);\n",
    "        end\n",
    "    end\n",
    "    nz_mets = mets[nz_index,:];\n",
    "    nz_S = nz_S[nz_index,:];\n",
    "    \n",
    "    \n",
    "    return nz_S, nz_mets, nz_rxns, nz_fba_res\n",
    "end"
   ]
  },
  {
   "cell_type": "code",
   "execution_count": 14,
   "metadata": {
    "collapsed": true
   },
   "outputs": [
    {
     "data": {
      "text/html": [
       "<table class=\"data-frame\"><thead><tr><th></th><th>x1</th><th>x2</th><th>x3</th><th>x4</th><th>x5</th></tr></thead><tbody><tr><th>1</th><td>0.8059</td><td>0.144683</td><td>0.754424</td><td>0.214457</td><td>0.483083</td></tr><tr><th>2</th><td>0.294356</td><td>0.65448</td><td>0.697482</td><td>0.0817572</td><td>0.241229</td></tr><tr><th>3</th><td>0.895674</td><td>0.0109339</td><td>0.0991546</td><td>0.446525</td><td>0.485647</td></tr><tr><th>4</th><td>0.755767</td><td>0.181588</td><td>0.187046</td><td>0.201375</td><td>0.406749</td></tr><tr><th>5</th><td>0.243551</td><td>0.355852</td><td>0.185825</td><td>0.065589</td><td>0.359087</td></tr></tbody></table>"
      ],
      "text/plain": [
       "5×5 DataFrames.DataFrame\n",
       "│ Row │ x1       │ x2        │ x3        │ x4        │ x5       │\n",
       "├─────┼──────────┼───────────┼───────────┼───────────┼──────────┤\n",
       "│ 1   │ 0.8059   │ 0.144683  │ 0.754424  │ 0.214457  │ 0.483083 │\n",
       "│ 2   │ 0.294356 │ 0.65448   │ 0.697482  │ 0.0817572 │ 0.241229 │\n",
       "│ 3   │ 0.895674 │ 0.0109339 │ 0.0991546 │ 0.446525  │ 0.485647 │\n",
       "│ 4   │ 0.755767 │ 0.181588  │ 0.187046  │ 0.201375  │ 0.406749 │\n",
       "│ 5   │ 0.243551 │ 0.355852  │ 0.185825  │ 0.065589  │ 0.359087 │"
      ]
     },
     "execution_count": 14,
     "metadata": {},
     "output_type": "execute_result"
    }
   ],
   "source": []
  },
  {
   "cell_type": "code",
   "execution_count": 8,
   "metadata": {},
   "outputs": [
    {
     "name": "stdout",
     "output_type": "stream",
     "text": [
      "search: \u001b[1mc\u001b[22m\u001b[1mo\u001b[22m\u001b[1mn\u001b[22m\u001b[1mv\u001b[22m\u001b[1me\u001b[22m\u001b[1mr\u001b[22m\u001b[1mt\u001b[22m \u001b[1mC\u001b[22m\u001b[1mo\u001b[22m\u001b[1mn\u001b[22mj\u001b[1mV\u001b[22m\u001b[1me\u001b[22mcto\u001b[1mr\u001b[22m \u001b[1mc\u001b[22m\u001b[1mo\u001b[22mde_\u001b[1mn\u001b[22mati\u001b[1mv\u001b[22m\u001b[1me\u001b[22m @\u001b[1mc\u001b[22m\u001b[1mo\u001b[22mde_\u001b[1mn\u001b[22mati\u001b[1mv\u001b[22m\u001b[1me\u001b[22m\n",
      "\n"
     ]
    },
    {
     "name": "stderr",
     "output_type": "stream",
     "text": [
      "\u001b[1m\u001b[33mWARNING: \u001b[39m\u001b[22m\u001b[33muuid4(rng) is deprecated, use Compat.UUIDs.uuid4(rng) instead.\u001b[39m\n",
      "Stacktrace:\n",
      " [1] \u001b[1mdepwarn\u001b[22m\u001b[22m\u001b[1m(\u001b[22m\u001b[22m::String, ::Symbol\u001b[1m)\u001b[22m\u001b[22m at \u001b[1m./deprecated.jl:70\u001b[22m\u001b[22m\n",
      " [2] \u001b[1muuid4\u001b[22m\u001b[22m\u001b[1m(\u001b[22m\u001b[22m::MersenneTwister\u001b[1m)\u001b[22m\u001b[22m at \u001b[1m./deprecated.jl:57\u001b[22m\u001b[22m\n",
      " [3] \u001b[1mmsg_header\u001b[22m\u001b[22m at \u001b[1m/Users/Pereiro/.julia/v0.6/IJulia/src/msg.jl:18\u001b[22m\u001b[22m [inlined]\n",
      " [4] \u001b[1mmsg_pub\u001b[22m\u001b[22m\u001b[1m(\u001b[22m\u001b[22m::IJulia.Msg, ::String, ::Dict{String,String}, ::Dict{String,Any}\u001b[1m)\u001b[22m\u001b[22m at \u001b[1m/Users/Pereiro/.julia/v0.6/IJulia/src/msg.jl:30\u001b[22m\u001b[22m (repeats 2 times)\n",
      " [5] \u001b[1msend_stream\u001b[22m\u001b[22m\u001b[1m(\u001b[22m\u001b[22m::String\u001b[1m)\u001b[22m\u001b[22m at \u001b[1m/Users/Pereiro/.julia/v0.6/IJulia/src/stdio.jl:172\u001b[22m\u001b[22m\n",
      " [6] \u001b[1msend_stdio\u001b[22m\u001b[22m\u001b[1m(\u001b[22m\u001b[22m::String\u001b[1m)\u001b[22m\u001b[22m at \u001b[1m/Users/Pereiro/.julia/v0.6/IJulia/src/stdio.jl:130\u001b[22m\u001b[22m\n",
      " [7] \u001b[1m(::Base.##302#303{IJulia.#send_stdout,Timer})\u001b[22m\u001b[22m\u001b[1m(\u001b[22m\u001b[22m\u001b[1m)\u001b[22m\u001b[22m at \u001b[1m./event.jl:436\u001b[22m\u001b[22m\n",
      "while loading /Users/Pereiro/.julia/v0.6/IJulia/src/kernel.jl, in expression starting on line 188\n"
     ]
    },
    {
     "data": {
      "text/markdown": [
       "```\n",
       "convert(T, x)\n",
       "```\n",
       "\n",
       "Convert `x` to a value of type `T`.\n",
       "\n",
       "If `T` is an [`Integer`](@ref) type, an [`InexactError`](@ref) will be raised if `x` is not representable by `T`, for example if `x` is not integer-valued, or is outside the range supported by `T`.\n",
       "\n",
       "# Examples\n",
       "\n",
       "```jldoctest\n",
       "julia> convert(Int, 3.0)\n",
       "3\n",
       "\n",
       "julia> convert(Int, 3.5)\n",
       "ERROR: InexactError()\n",
       "Stacktrace:\n",
       " [1] convert(::Type{Int64}, ::Float64) at ./float.jl:679\n",
       "```\n",
       "\n",
       "If `T` is a [`AbstractFloat`](@ref) or [`Rational`](@ref) type, then it will return the closest value to `x` representable by `T`.\n",
       "\n",
       "```jldoctest\n",
       "julia> x = 1/3\n",
       "0.3333333333333333\n",
       "\n",
       "julia> convert(Float32, x)\n",
       "0.33333334f0\n",
       "\n",
       "julia> convert(Rational{Int32}, x)\n",
       "1//3\n",
       "\n",
       "julia> convert(Rational{Int64}, x)\n",
       "6004799503160661//18014398509481984\n",
       "```\n",
       "\n",
       "If `T` is a collection type and `x` a collection, the result of `convert(T, x)` may alias `x`.\n",
       "\n",
       "```jldoctest\n",
       "julia> x = Int[1,2,3];\n",
       "\n",
       "julia> y = convert(Vector{Int}, x);\n",
       "\n",
       "julia> y === x\n",
       "true\n",
       "```\n",
       "\n",
       "Similarly, if `T` is a composite type and `x` a related instance, the result of `convert(T, x)` may alias part or all of `x`.\n",
       "\n",
       "```jldoctest\n",
       "julia> x = speye(5);\n",
       "\n",
       "julia> typeof(x)\n",
       "SparseMatrixCSC{Float64,Int64}\n",
       "\n",
       "julia> y = convert(SparseMatrixCSC{Float64,Int64}, x);\n",
       "\n",
       "julia> z = convert(SparseMatrixCSC{Float32,Int64}, y);\n",
       "\n",
       "julia> y === x\n",
       "true\n",
       "\n",
       "julia> z === x\n",
       "false\n",
       "\n",
       "julia> z.colptr === x.colptr\n",
       "true\n",
       "```\n",
       "\n",
       "`convert(StringArray{U}, A::StringArray{T})`\n",
       "\n",
       "convert `A` to StringArray of another element type (`U`) without copying the underlying data.\n",
       "\n",
       "Returns a DataFrame with the result\n"
      ],
      "text/plain": [
       "```\n",
       "convert(T, x)\n",
       "```\n",
       "\n",
       "Convert `x` to a value of type `T`.\n",
       "\n",
       "If `T` is an [`Integer`](@ref) type, an [`InexactError`](@ref) will be raised if `x` is not representable by `T`, for example if `x` is not integer-valued, or is outside the range supported by `T`.\n",
       "\n",
       "# Examples\n",
       "\n",
       "```jldoctest\n",
       "julia> convert(Int, 3.0)\n",
       "3\n",
       "\n",
       "julia> convert(Int, 3.5)\n",
       "ERROR: InexactError()\n",
       "Stacktrace:\n",
       " [1] convert(::Type{Int64}, ::Float64) at ./float.jl:679\n",
       "```\n",
       "\n",
       "If `T` is a [`AbstractFloat`](@ref) or [`Rational`](@ref) type, then it will return the closest value to `x` representable by `T`.\n",
       "\n",
       "```jldoctest\n",
       "julia> x = 1/3\n",
       "0.3333333333333333\n",
       "\n",
       "julia> convert(Float32, x)\n",
       "0.33333334f0\n",
       "\n",
       "julia> convert(Rational{Int32}, x)\n",
       "1//3\n",
       "\n",
       "julia> convert(Rational{Int64}, x)\n",
       "6004799503160661//18014398509481984\n",
       "```\n",
       "\n",
       "If `T` is a collection type and `x` a collection, the result of `convert(T, x)` may alias `x`.\n",
       "\n",
       "```jldoctest\n",
       "julia> x = Int[1,2,3];\n",
       "\n",
       "julia> y = convert(Vector{Int}, x);\n",
       "\n",
       "julia> y === x\n",
       "true\n",
       "```\n",
       "\n",
       "Similarly, if `T` is a composite type and `x` a related instance, the result of `convert(T, x)` may alias part or all of `x`.\n",
       "\n",
       "```jldoctest\n",
       "julia> x = speye(5);\n",
       "\n",
       "julia> typeof(x)\n",
       "SparseMatrixCSC{Float64,Int64}\n",
       "\n",
       "julia> y = convert(SparseMatrixCSC{Float64,Int64}, x);\n",
       "\n",
       "julia> z = convert(SparseMatrixCSC{Float32,Int64}, y);\n",
       "\n",
       "julia> y === x\n",
       "true\n",
       "\n",
       "julia> z === x\n",
       "false\n",
       "\n",
       "julia> z.colptr === x.colptr\n",
       "true\n",
       "```\n",
       "\n",
       "`convert(StringArray{U}, A::StringArray{T})`\n",
       "\n",
       "convert `A` to StringArray of another element type (`U`) without copying the underlying data.\n",
       "\n",
       "Returns a DataFrame with the result\n"
      ]
     },
     "execution_count": 8,
     "metadata": {},
     "output_type": "execute_result"
    }
   ],
   "source": [
    "convert"
   ]
  },
  {
   "cell_type": "code",
   "execution_count": 9,
   "metadata": {},
   "outputs": [
    {
     "data": {
      "text/plain": [
       "get_non_zeros (generic function with 1 method)"
      ]
     },
     "execution_count": 9,
     "metadata": {},
     "output_type": "execute_result"
    }
   ],
   "source": [
    "function get_non_zeros(S, mets, rxns, fbares::FBAResult)\n",
    "    nz_index = Vector{Int}();\n",
    "    for ri in 1:size(rxns,1)\n",
    "        if (getvalue(fbares.pfluxes[ri]) - getvalue(fbares.nfluxes[ri])) != 0.0 \n",
    "            push!(nz_index, ri);\n",
    "        end\n",
    "    end\n",
    "    \n",
    "    nz_fba_res = FBAResult(fbares.model, fbares.pfluxes[nz_index], fbares.nfluxes[nz_index]);\n",
    "\n",
    "    nz_rxns = rxns[nz_index,:];\n",
    "    nz_S = S[:,nz_index];\n",
    "\n",
    "    nz_index = Vector{Int}();\n",
    "    for mi in 1:size(mets,1)\n",
    "        if length(nonzeros(nz_S[mi,:])) != 0\n",
    "           push!(nz_index, mi);\n",
    "        end\n",
    "    end\n",
    "    nz_mets = mets[nz_index,:];\n",
    "    nz_S = nz_S[nz_index,:];\n",
    "    \n",
    "    \n",
    "    return nz_S, nz_mets, nz_rxns, nz_fba_res\n",
    "end"
   ]
  },
  {
   "cell_type": "code",
   "execution_count": 10,
   "metadata": {},
   "outputs": [
    {
     "name": "stdout",
     "output_type": "stream",
     "text": [
      "Academic license - for non-commercial use only\n",
      "Warning for adding constraints: zero or small (< 1e-13) coefficients, ignored\n",
      "Optimize a model with 453 rows, 190 columns and 1290 nonzeros\n",
      "Coefficient statistics:\n",
      "  Matrix range     [1e-07, 6e+01]\n",
      "  Objective range  [1e+00, 1e+00]\n",
      "  Bounds range     [0e+00, 0e+00]\n",
      "  RHS range        [5e-03, 1e+03]\n",
      "Presolve removed 412 rows and 99 columns\n",
      "Presolve time: 0.00s\n",
      "Presolved: 41 rows, 91 columns, 430 nonzeros\n",
      "\n",
      "Iteration    Objective       Primal Inf.    Dual Inf.      Time\n",
      "       0    4.1290035e-01   1.721622e+01   0.000000e+00      0s\n",
      "      53    9.8628391e-04   0.000000e+00   0.000000e+00      0s\n",
      "\n",
      "Solved in 53 iterations and 0.00 seconds\n",
      "Optimal objective  9.862839119e-04\n"
     ]
    }
   ],
   "source": [
    "nz_S, nz_mets, nz_rxns, nz_fba_res = get_non_zeros(S, mets, rxns, fba(S, mets, rxns; C = 0.005));"
   ]
  },
  {
   "cell_type": "code",
   "execution_count": 11,
   "metadata": {},
   "outputs": [
    {
     "ename": "LoadError",
     "evalue": "\u001b[91mUndefVarError: get_result_df not defined\u001b[39m",
     "output_type": "error",
     "traceback": [
      "\u001b[91mUndefVarError: get_result_df not defined\u001b[39m",
      "",
      "Stacktrace:",
      " [1] \u001b[1minclude_string\u001b[22m\u001b[22m\u001b[1m(\u001b[22m\u001b[22m::String, ::String\u001b[1m)\u001b[22m\u001b[22m at \u001b[1m./loading.jl:522\u001b[22m\u001b[22m"
     ]
    }
   ],
   "source": [
    "get_result_df(nz_fba_res.nfluxes)"
   ]
  },
  {
   "cell_type": "code",
   "execution_count": 12,
   "metadata": {},
   "outputs": [
    {
     "name": "stdout",
     "output_type": "stream",
     "text": [
      "1 , 4\n",
      "1 , 5\n",
      "1 , 6\n",
      "2 , 4\n",
      "2 , 5\n",
      "2 , 6\n",
      "3 , 4\n",
      "3 , 5\n",
      "3 , 6\n"
     ]
    },
    {
     "data": {
      "text/plain": [
       "9-element Array{Void,1}:\n",
       " nothing\n",
       " nothing\n",
       " nothing\n",
       " nothing\n",
       " nothing\n",
       " nothing\n",
       " nothing\n",
       " nothing\n",
       " nothing"
      ]
     },
     "execution_count": 12,
     "metadata": {},
     "output_type": "execute_result"
    }
   ],
   "source": [
    "a = [1,2,3];\n",
    "b = [4,5,6];\n",
    "[println(\"$i , $j\") for i in a for j in b]"
   ]
  },
  {
   "cell_type": "code",
   "execution_count": null,
   "metadata": {},
   "outputs": [],
   "source": []
  }
 ],
 "metadata": {
  "kernelspec": {
   "display_name": "Julia 0.6.4",
   "language": "julia",
   "name": "julia-0.6"
  },
  "language_info": {
   "file_extension": ".jl",
   "mimetype": "application/julia",
   "name": "julia",
   "version": "0.6.4"
  }
 },
 "nbformat": 4,
 "nbformat_minor": 2
}
