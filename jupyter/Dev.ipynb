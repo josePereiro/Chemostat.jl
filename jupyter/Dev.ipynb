{
 "cells": [
  {
   "cell_type": "code",
   "execution_count": 2,
   "metadata": {},
   "outputs": [],
   "source": [
    "using Rath2017PhD;\n",
    "using Chemostat;\n",
    "# using Plots;\n",
    "# plotly();\n",
    "# using MaxEntChemostat2018;"
   ]
  },
  {
   "cell_type": "code",
   "execution_count": 9,
   "metadata": {},
   "outputs": [
    {
     "data": {
      "text/plain": [
       "log_range (generic function with 1 method)"
      ]
     },
     "execution_count": 9,
     "metadata": {},
     "output_type": "execute_result"
    }
   ],
   "source": [
    "function log_range(from, till, len;step = 1,include = [])\n",
    "    col = [];\n",
    "    o = round(Int, log10(from))\n",
    "    do\n",
    "        push!(col, collect(1:step:9) * 10.0 ^ o)\n",
    "        o += 1;\n",
    "    end\n",
    "    sort!([from; till; col; include]);\n",
    "    return col[1:len];\n",
    "end"
   ]
  },
  {
   "cell_type": "code",
   "execution_count": 13,
   "metadata": {},
   "outputs": [
    {
     "ename": "LoadError",
     "evalue": "\u001b[91msyntax: invalid \"do\" syntax\u001b[39m",
     "output_type": "error",
     "traceback": [
      "\u001b[91msyntax: invalid \"do\" syntax\u001b[39m",
      "",
      "Stacktrace:",
      " [1] \u001b[1minclude_string\u001b[22m\u001b[22m\u001b[1m(\u001b[22m\u001b[22m::String, ::String\u001b[1m)\u001b[22m\u001b[22m at \u001b[1m./loading.jl:522\u001b[22m\u001b[22m"
     ]
    }
   ],
   "source": []
  },
  {
   "cell_type": "code",
   "execution_count": 15,
   "metadata": {},
   "outputs": [
    {
     "name": "stdout",
     "output_type": "stream",
     "text": [
      "search: \u001b[1mw\u001b[22m\u001b[1mh\u001b[22m\u001b[1mi\u001b[22m\u001b[1ml\u001b[22m\u001b[1me\u001b[22m \u001b[1mw\u001b[22matc\u001b[1mh\u001b[22m_f\u001b[1mi\u001b[22m\u001b[1ml\u001b[22m\u001b[1me\u001b[22m\n",
      "\n"
     ]
    },
    {
     "data": {
      "text/markdown": [
       "`while` loops repeatedly evaluate a conditional expression, and continues evaluating the body of the while loop so long as the expression remains `true`. If the condition expression is false when the while loop is first reached, the body is never evaluated. For example:\n",
       "\n",
       "```\n",
       "while i <= 5\n",
       "    println(i)\n",
       "    i += 1\n",
       "end\n",
       "```\n"
      ],
      "text/plain": [
       "`while` loops repeatedly evaluate a conditional expression, and continues evaluating the body of the while loop so long as the expression remains `true`. If the condition expression is false when the while loop is first reached, the body is never evaluated. For example:\n",
       "\n",
       "```\n",
       "while i <= 5\n",
       "    println(i)\n",
       "    i += 1\n",
       "end\n",
       "```\n"
      ]
     },
     "execution_count": 15,
     "metadata": {},
     "output_type": "execute_result"
    }
   ],
   "source": [
    "?while"
   ]
  },
  {
   "cell_type": "code",
   "execution_count": 10,
   "metadata": {},
   "outputs": [
    {
     "ename": "LoadError",
     "evalue": "\u001b[91mMethodError: no method matching isless(::Array{Float64,1}, ::Int64)\u001b[0m\nClosest candidates are:\n  isless(\u001b[91m::Missings.Missing\u001b[39m, ::Any) at /Users/Pereiro/.julia/v0.6/Missings/src/Missings.jl:74\n  isless(\u001b[91m::AbstractFloat\u001b[39m, ::Real) at operators.jl:98\n  isless(\u001b[91m::Real\u001b[39m, ::Real) at operators.jl:266\n  ...\u001b[39m",
     "output_type": "error",
     "traceback": [
      "\u001b[91mMethodError: no method matching isless(::Array{Float64,1}, ::Int64)\u001b[0m\nClosest candidates are:\n  isless(\u001b[91m::Missings.Missing\u001b[39m, ::Any) at /Users/Pereiro/.julia/v0.6/Missings/src/Missings.jl:74\n  isless(\u001b[91m::AbstractFloat\u001b[39m, ::Real) at operators.jl:98\n  isless(\u001b[91m::Real\u001b[39m, ::Real) at operators.jl:266\n  ...\u001b[39m",
      "",
      "Stacktrace:",
      " [1] \u001b[1msort!\u001b[22m\u001b[22m\u001b[1m(\u001b[22m\u001b[22m::Array{Any,1}, ::Int64, ::Int64, ::Base.Sort.InsertionSortAlg, ::Base.Order.ForwardOrdering\u001b[1m)\u001b[22m\u001b[22m at \u001b[1m./sort.jl:253\u001b[22m\u001b[22m",
      " [2] \u001b[1msort!\u001b[22m\u001b[22m\u001b[1m(\u001b[22m\u001b[22m::Array{Any,1}, ::Int64, ::Int64, ::Base.Sort.MergeSortAlg, ::Base.Order.ForwardOrdering, ::Array{Any,1}\u001b[1m)\u001b[22m\u001b[22m at \u001b[1m./sort.jl:342\u001b[22m\u001b[22m",
      " [3] \u001b[1msort!\u001b[22m\u001b[22m\u001b[1m(\u001b[22m\u001b[22m::Array{Any,1}, ::Base.Sort.MergeSortAlg, ::Base.Order.ForwardOrdering\u001b[1m)\u001b[22m\u001b[22m at \u001b[1m./sort.jl:436\u001b[22m\u001b[22m",
      " [4] \u001b[1m#sort!#7\u001b[22m\u001b[22m\u001b[1m(\u001b[22m\u001b[22m::Base.Sort.MergeSortAlg, ::Function, ::Function, ::Bool, ::Base.Order.ForwardOrdering, ::Function, ::Array{Any,1}\u001b[1m)\u001b[22m\u001b[22m at \u001b[1m./sort.jl:497\u001b[22m\u001b[22m",
      " [5] \u001b[1m#log_range#2\u001b[22m\u001b[22m\u001b[1m(\u001b[22m\u001b[22m::Int64, ::Array{Any,1}, ::Function, ::Float64, ::Int64, ::Int64\u001b[1m)\u001b[22m\u001b[22m at \u001b[1m./In[9]:8\u001b[22m\u001b[22m",
      " [6] \u001b[1mlog_range\u001b[22m\u001b[22m\u001b[1m(\u001b[22m\u001b[22m::Float64, ::Int64, ::Int64\u001b[1m)\u001b[22m\u001b[22m at \u001b[1m./In[9]:2\u001b[22m\u001b[22m",
      " [7] \u001b[1minclude_string\u001b[22m\u001b[22m\u001b[1m(\u001b[22m\u001b[22m::String, ::String\u001b[1m)\u001b[22m\u001b[22m at \u001b[1m./loading.jl:522\u001b[22m\u001b[22m"
     ]
    }
   ],
   "source": [
    "log_range(0.01, 1, 3)"
   ]
  },
  {
   "cell_type": "code",
   "execution_count": 7,
   "metadata": {},
   "outputs": [
    {
     "data": {
      "text/plain": [
       "1"
      ]
     },
     "execution_count": 7,
     "metadata": {},
     "output_type": "execute_result"
    }
   ],
   "source": [
    "round(Int, log10(11))"
   ]
  },
  {
   "cell_type": "code",
   "execution_count": null,
   "metadata": {},
   "outputs": [],
   "source": []
  }
 ],
 "metadata": {
  "@webio": {
   "lastCommId": null,
   "lastKernelId": null
  },
  "kernelspec": {
   "display_name": "Julia 0.6.4",
   "language": "julia",
   "name": "julia-0.6"
  },
  "language_info": {
   "file_extension": ".jl",
   "mimetype": "application/julia",
   "name": "julia",
   "version": "0.6.4"
  }
 },
 "nbformat": 4,
 "nbformat_minor": 2
}
