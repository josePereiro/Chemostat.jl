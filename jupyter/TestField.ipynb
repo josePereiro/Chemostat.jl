{
 "cells": [
  {
   "cell_type": "code",
   "execution_count": 1,
   "metadata": {},
   "outputs": [
    {
     "name": "stderr",
     "output_type": "stream",
     "text": [
      "\u001b[1m\u001b[36mINFO: \u001b[39m\u001b[22m\u001b[36mPrecompiling module CPLEX.\n",
      "\u001b[39m\u001b[1m\u001b[33mWARNING: \u001b[39m\u001b[22m\u001b[33muuid4(rng) is deprecated, use Compat.UUIDs.uuid4(rng) instead.\u001b[39m\n",
      "Stacktrace:\n",
      " [1] \u001b[1mdepwarn\u001b[22m\u001b[22m\u001b[1m(\u001b[22m\u001b[22m::String, ::Symbol\u001b[1m)\u001b[22m\u001b[22m at \u001b[1m./deprecated.jl:70\u001b[22m\u001b[22m\n",
      " [2] \u001b[1muuid4\u001b[22m\u001b[22m\u001b[1m(\u001b[22m\u001b[22m::MersenneTwister\u001b[1m)\u001b[22m\u001b[22m at \u001b[1m./deprecated.jl:57\u001b[22m\u001b[22m\n",
      " [3] \u001b[1mmsg_header\u001b[22m\u001b[22m at \u001b[1m/Users/Pereiro/.julia/v0.6/IJulia/src/msg.jl:18\u001b[22m\u001b[22m [inlined]\n",
      " [4] \u001b[1mmsg_pub\u001b[22m\u001b[22m\u001b[1m(\u001b[22m\u001b[22m::IJulia.Msg, ::String, ::Dict{String,String}, ::Dict{String,Any}\u001b[1m)\u001b[22m\u001b[22m at \u001b[1m/Users/Pereiro/.julia/v0.6/IJulia/src/msg.jl:30\u001b[22m\u001b[22m (repeats 2 times)\n",
      " [5] \u001b[1msend_stream\u001b[22m\u001b[22m\u001b[1m(\u001b[22m\u001b[22m::String\u001b[1m)\u001b[22m\u001b[22m at \u001b[1m/Users/Pereiro/.julia/v0.6/IJulia/src/stdio.jl:172\u001b[22m\u001b[22m\n",
      " [6] \u001b[1msend_stdio\u001b[22m\u001b[22m\u001b[1m(\u001b[22m\u001b[22m::String\u001b[1m)\u001b[22m\u001b[22m at \u001b[1m/Users/Pereiro/.julia/v0.6/IJulia/src/stdio.jl:130\u001b[22m\u001b[22m\n",
      " [7] \u001b[1m(::Base.##302#303{IJulia.#send_stderr,Timer})\u001b[22m\u001b[22m\u001b[1m(\u001b[22m\u001b[22m\u001b[1m)\u001b[22m\u001b[22m at \u001b[1m./event.jl:436\u001b[22m\u001b[22m\n",
      "while loading /Users/Pereiro/.julia/v0.6/COBRA/src/COBRA.jl, in expression starting on line 27\n",
      "\u001b[1m\u001b[91mERROR: \u001b[39m\u001b[22mLoadError: \u001b[91mCPLEX not properly installed. Please run Pkg.build(\"CPLEX\")\u001b[39m\n",
      "Stacktrace:\n",
      " [1] \u001b[1merror\u001b[22m\u001b[22m\u001b[1m(\u001b[22m\u001b[22m::String\u001b[1m)\u001b[22m\u001b[22m at \u001b[1m./error.jl:21\u001b[22m\u001b[22m\n",
      " [2] \u001b[1minclude_from_node1\u001b[22m\u001b[22m\u001b[1m(\u001b[22m\u001b[22m::String\u001b[1m)\u001b[22m\u001b[22m at \u001b[1m./loading.jl:576\u001b[22m\u001b[22m\n",
      " [3] \u001b[1minclude\u001b[22m\u001b[22m\u001b[1m(\u001b[22m\u001b[22m::String\u001b[1m)\u001b[22m\u001b[22m at \u001b[1m./sysimg.jl:14\u001b[22m\u001b[22m\n",
      " [4] \u001b[1manonymous\u001b[22m\u001b[22m at \u001b[1m./<missing>:2\u001b[22m\u001b[22m\n",
      "while loading /Users/Pereiro/.julia/v0.6/CPLEX/src/CPLEX.jl, in expression starting on line 16\n",
      "WARNING: could not import TruncatedNormal.gauss2Dtruncstats into EP\n",
      "WARNING: could not import TruncatedNormal.R into EP\n"
     ]
    }
   ],
   "source": [
    "using MaxEntChemostat2018;"
   ]
  },
  {
   "cell_type": "markdown",
   "metadata": {},
   "source": [
    "## Loading functions"
   ]
  },
  {
   "cell_type": "code",
   "execution_count": 2,
   "metadata": {},
   "outputs": [
    {
     "data": {
      "text/plain": [
       "logrange (generic function with 1 method)"
      ]
     },
     "execution_count": 2,
     "metadata": {},
     "output_type": "execute_result"
    }
   ],
   "source": [
    "function load_ecoli()\n",
    "\n",
    "    sto, mets, rxns = load_ecoli_dataframes()\n",
    "\n",
    "    # no infinities\n",
    "    rxns[:lb] .= max.(rxns[:lb], -1000)\n",
    "    rxns[:ub] .= min.(rxns[:ub], 1000)\n",
    "    mets[:L] .= max.(mets[:L], -1000)\n",
    "    mets[:V] .= min.(mets[:V], 1000)\n",
    "    mets[:c] .= min.(mets[:c], 100000)\n",
    "\n",
    "    S = sparse(sto[:i], sto[:k], sto[:s])\n",
    "\n",
    "    return S, mets, rxns\n",
    "end\n",
    "\n",
    "function load_ecoli_dataframes(;model_data_dir = \"$(pwd()[1:end-8])/ModelsData/EColi/ecoli_v2/v2.3\",\n",
    "                        file_prefix = \"ecoli\")\n",
    "\n",
    "    sto = CSV.read(\"$model_data_dir/$(file_prefix)_s.csv\", allowmissing=:none, types=[Int, Int, Float64, String, String]);\n",
    "    mets = CSV.read(\"$model_data_dir/$(file_prefix)_mets.csv\", allowmissing=:none, types=[String, Float64, Float64, Float64, Float64, Float64]);\n",
    "#     rxns = CSV.read(\"$model_data_dir/$(file_prefix)_rxns.csv\", allowmissing=:none, types=[String, Float64, Float64, Float64, Float64]);\n",
    "\n",
    "    rxnspath = \"/Users/Pereiro/rxns.csv\";\n",
    "    rxns = CSV.read(rxnspath, allowmissing=:none, types=[String, Float64, Float64, Float64, Float64]);\n",
    "    \n",
    "    \n",
    "    return sto, mets, rxns\n",
    "end\n",
    "load_cho() = MaxEntChemostat2018.FBA.load_cho();\n",
    "\n",
    "function logrange(si::Int, ei; step = 1) \n",
    "    base = collect(1:step:9)\n",
    "    col = [];\n",
    "    for i in si:(ei - 1)\n",
    "        push!(col, ((base)*(10.0 ^ i))...);\n",
    "    end\n",
    "    return col;\n",
    "end"
   ]
  },
  {
   "cell_type": "markdown",
   "metadata": {},
   "source": [
    "## Testing EColi model\n",
    "Como ve profe el modelo no pincha, ```model_solve``` siempre retorna ```nothing```"
   ]
  },
  {
   "cell_type": "code",
   "execution_count": 40,
   "metadata": {},
   "outputs": [
    {
     "ename": "LoadError",
     "evalue": "\u001b[91mMethodError: no method matching *(::Base.TwicePrecision{Float64}, ::Base.TwicePrecision{Float64})\u001b[0m\nClosest candidates are:\n  *(::Any, ::Any, \u001b[91m::Any\u001b[39m, \u001b[91m::Any...\u001b[39m) at operators.jl:424\n  *(::Base.TwicePrecision, \u001b[91m::Integer\u001b[39m) at twiceprecision.jl:470\n  *(::Base.TwicePrecision{R}, \u001b[91m::S<:Number\u001b[39m) where {S<:Number, R} at twiceprecision.jl:488\n  ...\u001b[39m",
     "output_type": "error",
     "traceback": [
      "\u001b[91mMethodError: no method matching *(::Base.TwicePrecision{Float64}, ::Base.TwicePrecision{Float64})\u001b[0m\nClosest candidates are:\n  *(::Any, ::Any, \u001b[91m::Any\u001b[39m, \u001b[91m::Any...\u001b[39m) at operators.jl:424\n  *(::Base.TwicePrecision, \u001b[91m::Integer\u001b[39m) at twiceprecision.jl:470\n  *(::Base.TwicePrecision{R}, \u001b[91m::S<:Number\u001b[39m) where {S<:Number, R} at twiceprecision.jl:488\n  ...\u001b[39m",
      "",
      "Stacktrace:",
      " [1] \u001b[1mscale\u001b[22m\u001b[22m\u001b[1m(\u001b[22m\u001b[22m::Int64, ::Int64, ::Int64, ::Int64, ::Int64\u001b[1m)\u001b[22m\u001b[22m at \u001b[1m/Users/Pereiro/.julia/v0.6/CSV/src/float.jl:71\u001b[22m\u001b[22m",
      " [2] \u001b[1mparsefield\u001b[22m\u001b[22m\u001b[1m(\u001b[22m\u001b[22m::Base.AbstractIOBuffer{Array{UInt8,1}}, ::Type{Float64}, ::CSV.Options{Void}, ::Int64, ::Int64, ::Base.RefValue{CSV.ParsingState}, ::CSV.##4#5\u001b[1m)\u001b[22m\u001b[22m at \u001b[1m/Users/Pereiro/.julia/v0.6/CSV/src/float.jl:208\u001b[22m\u001b[22m",
      " [3] \u001b[1mmacro expansion\u001b[22m\u001b[22m at \u001b[1m/Users/Pereiro/.julia/v0.6/DataStreams/src/query.jl:484\u001b[22m\u001b[22m [inlined]",
      " [4] \u001b[1mstream!\u001b[22m\u001b[22m\u001b[1m(\u001b[22m\u001b[22m::CSV.Source{Base.AbstractIOBuffer{Array{UInt8,1}},Void}, ::DataStreams.Data.Query{0x01,Tuple{DataStreams.Data.QueryColumn{0x01,String,1,1,:id,nothing,()},DataStreams.Data.QueryColumn{0x01,Float64,2,2,:lb,nothing,()},DataStreams.Data.QueryColumn{0x01,Float64,3,3,:ub,nothing,()},DataStreams.Data.QueryColumn{0x01,Float64,4,4,:ap,nothing,()},DataStreams.Data.QueryColumn{0x01,Float64,5,5,:an,nothing,()}},(),nothing,nothing}, ::Type{DataStreams.Data.Field}, ::DataFrames.DataFrameStream{Tuple{Array{String,1},Array{Float64,1},Array{Float64,1},Array{Float64,1},Array{Float64,1}}}, ::DataStreams.Data.Schema{true,Tuple{String,Float64,Float64,Float64,Float64}}, ::Int64\u001b[1m)\u001b[22m\u001b[22m at \u001b[1m/Users/Pereiro/.julia/v0.6/DataStreams/src/query.jl:628\u001b[22m\u001b[22m",
      " [5] \u001b[1m#stream!#122\u001b[22m\u001b[22m\u001b[1m(\u001b[22m\u001b[22m::Bool, ::Array{Any,1}, ::Function, ::CSV.Source{Base.AbstractIOBuffer{Array{UInt8,1}},Void}, ::DataStreams.Data.Query{0x01,Tuple{DataStreams.Data.QueryColumn{0x01,String,1,1,:id,nothing,()},DataStreams.Data.QueryColumn{0x01,Float64,2,2,:lb,nothing,()},DataStreams.Data.QueryColumn{0x01,Float64,3,3,:ub,nothing,()},DataStreams.Data.QueryColumn{0x01,Float64,4,4,:ap,nothing,()},DataStreams.Data.QueryColumn{0x01,Float64,5,5,:an,nothing,()}},(),nothing,nothing}, ::Type{DataFrames.DataFrame}\u001b[1m)\u001b[22m\u001b[22m at \u001b[1m/Users/Pereiro/.julia/v0.6/DataStreams/src/query.jl:598\u001b[22m\u001b[22m",
      " [6] \u001b[1m(::DataStreams.Data.#kw##stream!)\u001b[22m\u001b[22m\u001b[1m(\u001b[22m\u001b[22m::Array{Any,1}, ::DataStreams.Data.#stream!, ::CSV.Source{Base.AbstractIOBuffer{Array{UInt8,1}},Void}, ::DataStreams.Data.Query{0x01,Tuple{DataStreams.Data.QueryColumn{0x01,String,1,1,:id,nothing,()},DataStreams.Data.QueryColumn{0x01,Float64,2,2,:lb,nothing,()},DataStreams.Data.QueryColumn{0x01,Float64,3,3,:ub,nothing,()},DataStreams.Data.QueryColumn{0x01,Float64,4,4,:ap,nothing,()},DataStreams.Data.QueryColumn{0x01,Float64,5,5,:an,nothing,()}},(),nothing,nothing}, ::Type{DataFrames.DataFrame}\u001b[1m)\u001b[22m\u001b[22m at \u001b[1m./<missing>:0\u001b[22m\u001b[22m",
      " [7] \u001b[1m#stream!#120\u001b[22m\u001b[22m\u001b[1m(\u001b[22m\u001b[22m::Bool, ::Dict{Int64,Function}, ::Function, ::Array{Any,1}, ::Array{Any,1}, ::Void, ::Void, ::Array{Any,1}, ::DataStreams.Data.#stream!, ::CSV.Source{Base.AbstractIOBuffer{Array{UInt8,1}},Void}, ::Type{DataFrames.DataFrame}\u001b[1m)\u001b[22m\u001b[22m at \u001b[1m/Users/Pereiro/.julia/v0.6/DataStreams/src/query.jl:548\u001b[22m\u001b[22m",
      " [8] \u001b[1m(::DataStreams.Data.#kw##stream!)\u001b[22m\u001b[22m\u001b[1m(\u001b[22m\u001b[22m::Array{Any,1}, ::DataStreams.Data.#stream!, ::CSV.Source{Base.AbstractIOBuffer{Array{UInt8,1}},Void}, ::Type{DataFrames.DataFrame}\u001b[1m)\u001b[22m\u001b[22m at \u001b[1m./<missing>:0\u001b[22m\u001b[22m",
      " [9] \u001b[1m#read#43\u001b[22m\u001b[22m\u001b[1m(\u001b[22m\u001b[22m::Bool, ::Dict{Int64,Function}, ::Bool, ::Array{Any,1}, ::Function, ::String, ::Type{T} where T\u001b[1m)\u001b[22m\u001b[22m at \u001b[1m/Users/Pereiro/.julia/v0.6/CSV/src/Source.jl:348\u001b[22m\u001b[22m",
      " [10] \u001b[1m(::CSV.#kw##read)\u001b[22m\u001b[22m\u001b[1m(\u001b[22m\u001b[22m::Array{Any,1}, ::CSV.#read, ::String, ::Type{T} where T\u001b[1m)\u001b[22m\u001b[22m at \u001b[1m./<missing>:0\u001b[22m\u001b[22m",
      " [11] \u001b[1m#load_ecoli_dataframes#11\u001b[22m\u001b[22m\u001b[1m(\u001b[22m\u001b[22m::String, ::String, ::Function\u001b[1m)\u001b[22m\u001b[22m at \u001b[1m./In[2]:25\u001b[22m\u001b[22m",
      " [12] \u001b[1mload_ecoli_dataframes\u001b[22m\u001b[22m\u001b[1m(\u001b[22m\u001b[22m\u001b[1m)\u001b[22m\u001b[22m at \u001b[1m./In[2]:20\u001b[22m\u001b[22m",
      " [13] \u001b[1mload_ecoli\u001b[22m\u001b[22m\u001b[1m(\u001b[22m\u001b[22m\u001b[1m)\u001b[22m\u001b[22m at \u001b[1m./In[2]:3\u001b[22m\u001b[22m",
      " [14] \u001b[1minclude_string\u001b[22m\u001b[22m\u001b[1m(\u001b[22m\u001b[22m::String, ::String\u001b[1m)\u001b[22m\u001b[22m at \u001b[1m./loading.jl:522\u001b[22m\u001b[22m"
     ]
    }
   ],
   "source": [
    "S_ecoli, mets_ecoli, rxns_ecoli = load_ecoli();\n",
    "println(\"S $(size(S_ecoli)), mets $(size(mets_ecoli)) rxns $(size(rxns_ecoli))\");"
   ]
  },
  {
   "cell_type": "code",
   "execution_count": 52,
   "metadata": {},
   "outputs": [],
   "source": [
    "costFactor  = 100000000;\n",
    "rxns_ecoli[:an] .= (rxns_ecoli[:an] .^ 2) .* costFactor;\n",
    "rxns_ecoli[:ap] .= (rxns_ecoli[:ap] .^ 2) .* costFactor;\n",
    "# rxns_ecoli[:an][40] = rxns_ecoli[:an][40] * costFactor^2;\n",
    "# rxns_ecoli[:ap][40] = rxns_ecoli[:ap][40] * costFactor^2;"
   ]
  },
  {
   "cell_type": "code",
   "execution_count": 53,
   "metadata": {},
   "outputs": [
    {
     "data": {
      "text/html": [
       "<table class=\"data-frame\"><thead><tr><th></th><th>id</th><th>lb</th><th>ub</th><th>ap</th><th>an</th></tr></thead><tbody><tr><th>1</th><td>ACALD</td><td>-1000.0</td><td>1000.0</td><td>4.45048e-143</td><td>4.45048e-143</td></tr><tr><th>2</th><td>ACALDt</td><td>-1000.0</td><td>1000.0</td><td>4.45048e-143</td><td>4.45048e-143</td></tr><tr><th>3</th><td>ACKr</td><td>-1000.0</td><td>1000.0</td><td>4.45048e-143</td><td>4.45048e-143</td></tr><tr><th>4</th><td>ACONTa</td><td>-1000.0</td><td>1000.0</td><td>4.45048e-143</td><td>4.45048e-143</td></tr><tr><th>5</th><td>ACONTb</td><td>-1000.0</td><td>1000.0</td><td>4.45048e-143</td><td>4.45048e-143</td></tr><tr><th>6</th><td>ACt2r</td><td>-1000.0</td><td>1000.0</td><td>4.45048e-143</td><td>4.45048e-143</td></tr><tr><th>7</th><td>ADK1</td><td>-1000.0</td><td>1000.0</td><td>0.0</td><td>0.0</td></tr><tr><th>8</th><td>AKGDH</td><td>0.0</td><td>1000.0</td><td>4.45048e-143</td><td>4.45048e-143</td></tr><tr><th>9</th><td>AKGt2r</td><td>-1000.0</td><td>1000.0</td><td>4.45048e-143</td><td>4.45048e-143</td></tr><tr><th>10</th><td>ALCD2x</td><td>-1000.0</td><td>1000.0</td><td>4.45048e-143</td><td>4.45048e-143</td></tr><tr><th>11</th><td>ATPM</td><td>0.0</td><td>1000.0</td><td>4.45048e-143</td><td>4.45048e-143</td></tr><tr><th>12</th><td>ATPS4r</td><td>-1000.0</td><td>1000.0</td><td>4.45048e-143</td><td>4.45048e-143</td></tr><tr><th>13</th><td>CO2t</td><td>-1000.0</td><td>1000.0</td><td>4.45048e-143</td><td>4.45048e-143</td></tr><tr><th>14</th><td>CS</td><td>0.0</td><td>1000.0</td><td>4.45048e-143</td><td>4.45048e-143</td></tr><tr><th>15</th><td>CYTBD</td><td>0.0</td><td>1000.0</td><td>4.45048e-143</td><td>4.45048e-143</td></tr><tr><th>16</th><td>D_LACt2</td><td>-1000.0</td><td>1000.0</td><td>4.45048e-143</td><td>4.45048e-143</td></tr><tr><th>17</th><td>ENO</td><td>-1000.0</td><td>1000.0</td><td>0.0</td><td>4.45048e-143</td></tr><tr><th>18</th><td>ETOHt2r</td><td>-1000.0</td><td>1000.0</td><td>4.45048e-143</td><td>4.45048e-143</td></tr><tr><th>19</th><td>EX_ac(e)</td><td>0.0</td><td>1000.0</td><td>4.45048e-143</td><td>4.45048e-143</td></tr><tr><th>20</th><td>EX_acald(e)</td><td>0.0</td><td>1000.0</td><td>4.45048e-143</td><td>4.45048e-143</td></tr><tr><th>21</th><td>EX_akg(e)</td><td>0.0</td><td>1000.0</td><td>4.45048e-143</td><td>4.45048e-143</td></tr><tr><th>22</th><td>EX_co2(e)</td><td>-1000.0</td><td>1000.0</td><td>4.45048e-143</td><td>4.45048e-143</td></tr><tr><th>23</th><td>EX_etoh(e)</td><td>0.0</td><td>1000.0</td><td>4.45048e-143</td><td>4.45048e-143</td></tr><tr><th>24</th><td>EX_for(e)</td><td>0.0</td><td>1000.0</td><td>4.45048e-143</td><td>4.45048e-143</td></tr><tr><th>25</th><td>EX_fru(e)</td><td>0.0</td><td>1000.0</td><td>4.45048e-143</td><td>4.45048e-143</td></tr><tr><th>26</th><td>EX_fum(e)</td><td>0.0</td><td>1000.0</td><td>4.45048e-143</td><td>4.45048e-143</td></tr><tr><th>27</th><td>EX_glc(e)</td><td>-10.0</td><td>1000.0</td><td>4.45048e-143</td><td>4.45048e-143</td></tr><tr><th>28</th><td>EX_gln_L(e)</td><td>0.0</td><td>1000.0</td><td>4.45048e-143</td><td>4.45048e-143</td></tr><tr><th>29</th><td>EX_glu_L(e)</td><td>0.0</td><td>1000.0</td><td>4.45048e-143</td><td>4.45048e-143</td></tr><tr><th>30</th><td>EX_h(e)</td><td>-1000.0</td><td>1000.0</td><td>4.45048e-143</td><td>4.45048e-143</td></tr><tr><th>&vellip;</th><td>&vellip;</td><td>&vellip;</td><td>&vellip;</td><td>&vellip;</td><td>&vellip;</td></tr></tbody></table>"
      ],
      "text/plain": [
       "94×5 DataFrames.DataFrame\n",
       "│ Row │ id       │ lb      │ ub     │ ap           │ an           │\n",
       "├─────┼──────────┼─────────┼────────┼──────────────┼──────────────┤\n",
       "│ 1   │ ACALD    │ -1000.0 │ 1000.0 │ 4.45048e-143 │ 4.45048e-143 │\n",
       "│ 2   │ ACALDt   │ -1000.0 │ 1000.0 │ 4.45048e-143 │ 4.45048e-143 │\n",
       "│ 3   │ ACKr     │ -1000.0 │ 1000.0 │ 4.45048e-143 │ 4.45048e-143 │\n",
       "│ 4   │ ACONTa   │ -1000.0 │ 1000.0 │ 4.45048e-143 │ 4.45048e-143 │\n",
       "│ 5   │ ACONTb   │ -1000.0 │ 1000.0 │ 4.45048e-143 │ 4.45048e-143 │\n",
       "│ 6   │ ACt2r    │ -1000.0 │ 1000.0 │ 4.45048e-143 │ 4.45048e-143 │\n",
       "│ 7   │ ADK1     │ -1000.0 │ 1000.0 │ 0.0          │ 0.0          │\n",
       "│ 8   │ AKGDH    │ 0.0     │ 1000.0 │ 4.45048e-143 │ 4.45048e-143 │\n",
       "│ 9   │ AKGt2r   │ -1000.0 │ 1000.0 │ 4.45048e-143 │ 4.45048e-143 │\n",
       "│ 10  │ ALCD2x   │ -1000.0 │ 1000.0 │ 4.45048e-143 │ 4.45048e-143 │\n",
       "│ 11  │ ATPM     │ 0.0     │ 1000.0 │ 4.45048e-143 │ 4.45048e-143 │\n",
       "⋮\n",
       "│ 83  │ PYRt2r   │ -1000.0 │ 1000.0 │ 4.45048e-143 │ 4.45048e-143 │\n",
       "│ 84  │ RPE      │ -1000.0 │ 1000.0 │ 0.0          │ 4.45048e-143 │\n",
       "│ 85  │ RPI      │ -1000.0 │ 1000.0 │ 0.0          │ 4.45048e-143 │\n",
       "│ 86  │ SUCCt2_2 │ 0.0     │ 1000.0 │ 4.45048e-143 │ 4.45048e-143 │\n",
       "│ 87  │ SUCCt3   │ 0.0     │ 1000.0 │ 4.45048e-143 │ 4.45048e-143 │\n",
       "│ 88  │ SUCDi    │ 0.0     │ 1000.0 │ 4.45048e-143 │ 4.45048e-143 │\n",
       "│ 89  │ SUCOAS   │ -1000.0 │ 1000.0 │ 5.04649e120  │ 2.22789e-29  │\n",
       "│ 90  │ TALA     │ -1000.0 │ 1000.0 │ 0.0          │ Inf          │\n",
       "│ 91  │ THD2     │ 0.0     │ 1000.0 │ 4.45048e-143 │ 4.45048e-143 │\n",
       "│ 92  │ TKT1     │ -1000.0 │ 1000.0 │ 0.0          │ 4.45048e-143 │\n",
       "│ 93  │ TKT2     │ -1000.0 │ 1000.0 │ 0.0          │ 4.45048e-143 │\n",
       "│ 94  │ TPI      │ -1000.0 │ 1000.0 │ 0.0          │ 0.0          │"
      ]
     },
     "execution_count": 53,
     "metadata": {},
     "output_type": "execute_result"
    }
   ],
   "source": [
    "rxns_ecoli"
   ]
  },
  {
   "cell_type": "code",
   "execution_count": 37,
   "metadata": {},
   "outputs": [
    {
     "data": {
      "text/plain": [
       "CSV.Sink{Void,DataType}(    CSV.Options:\n",
       "        delim: ','\n",
       "        quotechar: '\"'\n",
       "        escapechar: '\\\\'\n",
       "        missingstring: \"\"\n",
       "        dateformat: nothing\n",
       "        decimal: '.'\n",
       "        truestring: 'true'\n",
       "        falsestring: 'false'\n",
       "        internstrings: true, IOBuffer(data=UInt8[...], readable=true, writable=true, seekable=true, append=false, size=0, maxsize=Inf, ptr=1, mark=-1), \"/Users/Pereiro/rxns.csv\", 15, true, String[\"id\", \"lb\", \"ub\", \"ap\", \"an\"], 5, false, Val{false})"
      ]
     },
     "execution_count": 37,
     "metadata": {},
     "output_type": "execute_result"
    }
   ],
   "source": [
    "CSV.write(\"/Users/Pereiro/rxns.csv\", rxns_ecoli)"
   ]
  },
  {
   "cell_type": "code",
   "execution_count": 38,
   "metadata": {},
   "outputs": [
    {
     "name": "stdout",
     "output_type": "stream",
     "text": [
      "Academic license - for non-commercial use only\n"
     ]
    },
    {
     "ename": "LoadError",
     "evalue": "\u001b[91mAssertionError: 0 < ξ\u001b[39m",
     "output_type": "error",
     "traceback": [
      "\u001b[91mAssertionError: 0 < ξ\u001b[39m",
      "",
      "Stacktrace:",
      " [1] \u001b[1mfind_unfeasible_xi!\u001b[22m\u001b[22m\u001b[1m(\u001b[22m\u001b[22m::Gurobi.Model, ::SparseMatrixCSC{Float64,Int64}, ::DataFrames.DataFrame, ::DataFrames.DataFrame, ::Int64\u001b[1m)\u001b[22m\u001b[22m at \u001b[1m/Users/Pereiro/.julia/v0.6/MaxEntChemostat2018/src/FBA.jl:218\u001b[22m\u001b[22m",
      " [2] \u001b[1mfind_unfeasible_xi!\u001b[22m\u001b[22m\u001b[1m(\u001b[22m\u001b[22m::Gurobi.Model, ::SparseMatrixCSC{Float64,Int64}, ::DataFrames.DataFrame, ::DataFrames.DataFrame, ::Int64\u001b[1m)\u001b[22m\u001b[22m at \u001b[1m/Users/Pereiro/.julia/v0.6/MaxEntChemostat2018/src/FBA.jl:224\u001b[22m\u001b[22m (repeats 17 times)",
      " [3] \u001b[1m#find_max_xi!#39\u001b[22m\u001b[22m\u001b[1m(\u001b[22m\u001b[22m::Float64, ::Function, ::Gurobi.Model, ::SparseMatrixCSC{Float64,Int64}, ::DataFrames.DataFrame, ::DataFrames.DataFrame\u001b[1m)\u001b[22m\u001b[22m at \u001b[1m/Users/Pereiro/.julia/v0.6/MaxEntChemostat2018/src/FBA.jl:237\u001b[22m\u001b[22m",
      " [4] \u001b[1m(::MaxEntChemostat2018.FBA.#kw##find_max_xi!)\u001b[22m\u001b[22m\u001b[1m(\u001b[22m\u001b[22m::Array{Any,1}, ::MaxEntChemostat2018.FBA.#find_max_xi!, ::Gurobi.Model, ::SparseMatrixCSC{Float64,Int64}, ::DataFrames.DataFrame, ::DataFrames.DataFrame\u001b[1m)\u001b[22m\u001b[22m at \u001b[1m./<missing>:0\u001b[22m\u001b[22m",
      " [5] \u001b[1mfind_max_xi\u001b[22m\u001b[22m\u001b[1m(\u001b[22m\u001b[22m::SparseMatrixCSC{Float64,Int64}, ::DataFrames.DataFrame, ::DataFrames.DataFrame\u001b[1m)\u001b[22m\u001b[22m at \u001b[1m/Users/Pereiro/.julia/v0.6/MaxEntChemostat2018/src/FBA.jl:251\u001b[22m\u001b[22m",
      " [6] \u001b[1minclude_string\u001b[22m\u001b[22m\u001b[1m(\u001b[22m\u001b[22m::String, ::String\u001b[1m)\u001b[22m\u001b[22m at \u001b[1m./loading.jl:522\u001b[22m\u001b[22m"
     ]
    }
   ],
   "source": [
    "MaxEntChemostat2018.FBA.find_max_xi(S_ecoli, mets_ecoli, rxns_ecoli)"
   ]
  },
  {
   "cell_type": "code",
   "execution_count": 15,
   "metadata": {},
   "outputs": [],
   "source": [
    "using Plots"
   ]
  },
  {
   "cell_type": "code",
   "execution_count": 22,
   "metadata": {},
   "outputs": [
    {
     "data": {
      "application/vnd.plotly.v1+json": {
       "data": [
        {
         "colorbar": {
          "title": ""
         },
         "hoverinfo": "text",
         "legendgroup": "y1",
         "line": {
          "color": "rgba(0, 154, 250, 1.000)",
          "dash": "solid",
          "shape": "linear",
          "width": 1
         },
         "mode": "lines",
         "name": "y1",
         "showlegend": true,
         "text": [
          null,
          null,
          null,
          null,
          null,
          null,
          null,
          null,
          null,
          null,
          null,
          null,
          null,
          null,
          null,
          null,
          null,
          null,
          null,
          null,
          null,
          null,
          null,
          null,
          null,
          null,
          null,
          null,
          null,
          null,
          null,
          null,
          null,
          null,
          null,
          null,
          null,
          null,
          null,
          null,
          null,
          null,
          null,
          null,
          null,
          null,
          null,
          null,
          null,
          null,
          null,
          null,
          null,
          null,
          null,
          null,
          null,
          null,
          null,
          null,
          null,
          null,
          null,
          null,
          null,
          null,
          null,
          null,
          null,
          null,
          null,
          null,
          null,
          null,
          null,
          null,
          null,
          null,
          null,
          null,
          null,
          null,
          null,
          null,
          null,
          null,
          null,
          null,
          null,
          null,
          null,
          null,
          null,
          null
         ],
         "type": "scatter",
         "x": [
          1,
          2,
          3,
          4,
          5,
          6,
          7,
          8,
          9,
          10,
          11,
          12,
          13,
          14,
          15,
          16,
          17,
          18,
          19,
          20,
          21,
          22,
          23,
          24,
          25,
          26,
          27,
          28,
          29,
          30,
          31,
          32,
          33,
          34,
          35,
          36,
          37,
          38,
          39,
          40,
          41,
          42,
          43,
          44,
          45,
          46,
          47,
          48,
          49,
          50,
          51,
          52,
          53,
          54,
          55,
          56,
          57,
          58,
          59,
          60,
          61,
          62,
          63,
          64,
          65,
          66,
          67,
          68,
          69,
          70,
          71,
          72,
          73,
          74,
          75,
          76,
          77,
          78,
          79,
          80,
          81,
          82,
          83,
          84,
          85,
          86,
          87,
          88,
          89,
          90,
          91,
          92,
          93,
          94
         ],
         "xaxis": "x1",
         "y": [
          0.4207931855260915,
          0.4207931855260915,
          0.4207931855260915,
          0.4207931855260915,
          0.4207931855260915,
          0.4207931855260915,
          2.3788441785473747e-05,
          0.4207931855260915,
          0.4207931855260915,
          0.4207931855260915,
          0.4207931855260915,
          0.4207931855260915,
          0.4207931855260915,
          0.4207931855260915,
          0.4207931855260915,
          0.4207931855260915,
          0.005909637993940742,
          0.4207931855260915,
          0.4207931855260915,
          0.4207931855260915,
          0.4207931855260915,
          0.4207931855260915,
          0.4207931855260915,
          0.4207931855260915,
          0.4207931855260915,
          0.4207931855260915,
          0.4207931855260915,
          0.4207931855260915,
          0.4207931855260915,
          0.4207931855260915,
          0.4207931855260915,
          0.4207931855260915,
          0.4207931855260915,
          0.4207931855260915,
          0.4207931855260915,
          0.4207931855260915,
          0.4207931855260915,
          0.4207931855260915,
          0.09249297189495384,
          4227687376.725839,
          0.4207931855260915,
          0.4207931855260915,
          0.4207931855260915,
          0.4207931855260915,
          0.0008132670392285775,
          0.4207931855260915,
          0.004888966102079224,
          0.07084459541724498,
          0.4207931855260915,
          32.22594618447768,
          0.4207931855260915,
          0.0006434841831346624,
          0.4207931855260915,
          0.4207931855260915,
          0.4207931855260915,
          0.48418666447512576,
          0.4207931855260915,
          2.8499999999999995e-11,
          0.4207931855260915,
          0.43271589719239295,
          0.4207931855260915,
          0.4207931855260915,
          1.9498098422295977e-05,
          0.10138098600190752,
          0.00010946698045091344,
          0.4207931855260915,
          0.4207931855260915,
          0.4207931855260915,
          0.4207931855260915,
          0.18938093958739413,
          0.08943204759213076,
          0.4207931855260915,
          5.371547478143927e-05,
          0.00012001709901296368,
          0.11711045364891516,
          0.0004035292013798219,
          0.4207931855260915,
          161.7551501567274,
          0.4207931855260915,
          0.4207931855260915,
          0.4207931855260915,
          0.001315554342318235,
          0.4207931855260915,
          0.11711045364891516,
          7.484178996416316e-06,
          0.4207931855260915,
          0.4207931855260915,
          0.4207931855260915,
          0.7602526440435626,
          0.1912081172230745,
          0.4207931855260915,
          0.20490477178850536,
          0.13836301234512663,
          9.718051497564472e-05
         ],
         "yaxis": "y1"
        }
       ],
       "layout": {
        "annotations": [],
        "height": 400,
        "legend": {
         "bgcolor": "rgba(255, 255, 255, 1.000)",
         "bordercolor": "rgba(0, 0, 0, 1.000)",
         "font": {
          "color": "rgba(0, 0, 0, 1.000)",
          "family": "sans-serif",
          "size": 11
         },
         "tracegroupgap": 0,
         "x": 1,
         "y": 1
        },
        "margin": {
         "b": 20,
         "l": 0,
         "r": 0,
         "t": 20
        },
        "paper_bgcolor": "rgba(255, 255, 255, 1.000)",
        "plot_bgcolor": "rgba(255, 255, 255, 1.000)",
        "showlegend": true,
        "width": 600,
        "xaxis": {
         "anchor": "y1",
         "domain": [
          0.08063575386410031,
          0.9934383202099737
         ],
         "gridcolor": "rgba(0, 0, 0, 0.100)",
         "gridwidth": 0.5,
         "linecolor": "rgba(0, 0, 0, 1.000)",
         "mirror": false,
         "range": [
          -1.79,
          96.79
         ],
         "showgrid": true,
         "showline": true,
         "showticklabels": true,
         "tickangle": 0,
         "tickcolor": "rgb(0, 0, 0)",
         "tickfont": {
          "color": "rgba(0, 0, 0, 1.000)",
          "family": "sans-serif",
          "size": 11
         },
         "tickmode": "array",
         "ticks": "inside",
         "ticktext": [
          "0",
          "20",
          "40",
          "60",
          "80"
         ],
         "tickvals": [
          0,
          20,
          40,
          60,
          80
         ],
         "title": "",
         "titlefont": {
          "color": "rgba(0, 0, 0, 1.000)",
          "family": "sans-serif",
          "size": 15
         },
         "type": "-",
         "visible": true,
         "zeroline": false,
         "zerolinecolor": "rgba(0, 0, 0, 1.000)"
        },
        "yaxis": {
         "anchor": "x1",
         "domain": [
          0.03762029746281716,
          0.9901574803149606
         ],
         "gridcolor": "rgba(0, 0, 0, 0.100)",
         "gridwidth": 0.5,
         "linecolor": "rgba(0, 0, 0, 1.000)",
         "mirror": false,
         "range": [
          -126830621.30177517,
          4354517998.027615
         ],
         "showgrid": true,
         "showline": true,
         "showticklabels": true,
         "tickangle": 0,
         "tickcolor": "rgb(0, 0, 0)",
         "tickfont": {
          "color": "rgba(0, 0, 0, 1.000)",
          "family": "sans-serif",
          "size": 11
         },
         "tickmode": "array",
         "ticks": "inside",
         "ticktext": [
          "0",
          "1×10⁹",
          "2×10⁹",
          "3×10⁹",
          "4×10⁹"
         ],
         "tickvals": [
          0,
          1000000000,
          2000000000,
          3000000000,
          4000000000
         ],
         "title": "",
         "titlefont": {
          "color": "rgba(0, 0, 0, 1.000)",
          "family": "sans-serif",
          "size": 15
         },
         "type": "-",
         "visible": true,
         "zeroline": false,
         "zerolinecolor": "rgba(0, 0, 0, 1.000)"
        }
       }
      },
      "text/html": [
       "<script src=\"file:///Users/Pereiro/.julia/v0.6/Plots/src/backends/../../deps/plotly-latest.min.js\"></script>    <div id=\"aa96f7f7-ea7d-4a92-a846-12b55b3d7596\" style=\"width:600px;height:400px;\"></div>\n",
       "    <script>\n",
       "    PLOT = document.getElementById('aa96f7f7-ea7d-4a92-a846-12b55b3d7596');\n",
       "    Plotly.plot(PLOT, [{\"xaxis\":\"x1\",\"colorbar\":{\"title\":\"\"},\"yaxis\":\"y1\",\"text\":[null,null,null,null,null,null,null,null,null,null,null,null,null,null,null,null,null,null,null,null,null,null,null,null,null,null,null,null,null,null,null,null,null,null,null,null,null,null,null,null,null,null,null,null,null,null,null,null,null,null,null,null,null,null,null,null,null,null,null,null,null,null,null,null,null,null,null,null,null,null,null,null,null,null,null,null,null,null,null,null,null,null,null,null,null,null,null,null,null,null,null,null,null,null],\"x\":[1,2,3,4,5,6,7,8,9,10,11,12,13,14,15,16,17,18,19,20,21,22,23,24,25,26,27,28,29,30,31,32,33,34,35,36,37,38,39,40,41,42,43,44,45,46,47,48,49,50,51,52,53,54,55,56,57,58,59,60,61,62,63,64,65,66,67,68,69,70,71,72,73,74,75,76,77,78,79,80,81,82,83,84,85,86,87,88,89,90,91,92,93,94],\"showlegend\":true,\"mode\":\"lines\",\"name\":\"y1\",\"legendgroup\":\"y1\",\"line\":{\"color\":\"rgba(0, 154, 250, 1.000)\",\"shape\":\"linear\",\"dash\":\"solid\",\"width\":1},\"y\":[0.4207931855260915,0.4207931855260915,0.4207931855260915,0.4207931855260915,0.4207931855260915,0.4207931855260915,2.3788441785473747e-5,0.4207931855260915,0.4207931855260915,0.4207931855260915,0.4207931855260915,0.4207931855260915,0.4207931855260915,0.4207931855260915,0.4207931855260915,0.4207931855260915,0.005909637993940742,0.4207931855260915,0.4207931855260915,0.4207931855260915,0.4207931855260915,0.4207931855260915,0.4207931855260915,0.4207931855260915,0.4207931855260915,0.4207931855260915,0.4207931855260915,0.4207931855260915,0.4207931855260915,0.4207931855260915,0.4207931855260915,0.4207931855260915,0.4207931855260915,0.4207931855260915,0.4207931855260915,0.4207931855260915,0.4207931855260915,0.4207931855260915,0.09249297189495384,4.227687376725839e9,0.4207931855260915,0.4207931855260915,0.4207931855260915,0.4207931855260915,0.0008132670392285775,0.4207931855260915,0.004888966102079224,0.07084459541724498,0.4207931855260915,32.22594618447768,0.4207931855260915,0.0006434841831346624,0.4207931855260915,0.4207931855260915,0.4207931855260915,0.48418666447512576,0.4207931855260915,2.8499999999999995e-11,0.4207931855260915,0.43271589719239295,0.4207931855260915,0.4207931855260915,1.9498098422295977e-5,0.10138098600190752,0.00010946698045091344,0.4207931855260915,0.4207931855260915,0.4207931855260915,0.4207931855260915,0.18938093958739413,0.08943204759213076,0.4207931855260915,5.371547478143927e-5,0.00012001709901296368,0.11711045364891516,0.0004035292013798219,0.4207931855260915,161.7551501567274,0.4207931855260915,0.4207931855260915,0.4207931855260915,0.001315554342318235,0.4207931855260915,0.11711045364891516,7.484178996416316e-6,0.4207931855260915,0.4207931855260915,0.4207931855260915,0.7602526440435626,0.1912081172230745,0.4207931855260915,0.20490477178850536,0.13836301234512663,9.718051497564472e-5],\"type\":\"scatter\",\"hoverinfo\":\"text\"}], {\"showlegend\":true,\"xaxis\":{\"showticklabels\":true,\"gridwidth\":0.5,\"tickvals\":[0.0,20.0,40.0,60.0,80.0],\"visible\":true,\"ticks\":\"inside\",\"range\":[-1.79,96.79],\"domain\":[0.08063575386410031,0.9934383202099737],\"tickmode\":\"array\",\"linecolor\":\"rgba(0, 0, 0, 1.000)\",\"showgrid\":true,\"title\":\"\",\"mirror\":false,\"tickangle\":0,\"showline\":true,\"gridcolor\":\"rgba(0, 0, 0, 0.100)\",\"titlefont\":{\"color\":\"rgba(0, 0, 0, 1.000)\",\"family\":\"sans-serif\",\"size\":15},\"tickcolor\":\"rgb(0, 0, 0)\",\"ticktext\":[\"0\",\"20\",\"40\",\"60\",\"80\"],\"zeroline\":false,\"type\":\"-\",\"tickfont\":{\"color\":\"rgba(0, 0, 0, 1.000)\",\"family\":\"sans-serif\",\"size\":11},\"zerolinecolor\":\"rgba(0, 0, 0, 1.000)\",\"anchor\":\"y1\"},\"paper_bgcolor\":\"rgba(255, 255, 255, 1.000)\",\"annotations\":[],\"height\":400,\"margin\":{\"l\":0,\"b\":20,\"r\":0,\"t\":20},\"plot_bgcolor\":\"rgba(255, 255, 255, 1.000)\",\"yaxis\":{\"showticklabels\":true,\"gridwidth\":0.5,\"tickvals\":[0.0,1.0e9,2.0e9,3.0e9,4.0e9],\"visible\":true,\"ticks\":\"inside\",\"range\":[-1.2683062130177517e8,4.354517998027615e9],\"domain\":[0.03762029746281716,0.9901574803149606],\"tickmode\":\"array\",\"linecolor\":\"rgba(0, 0, 0, 1.000)\",\"showgrid\":true,\"title\":\"\",\"mirror\":false,\"tickangle\":0,\"showline\":true,\"gridcolor\":\"rgba(0, 0, 0, 0.100)\",\"titlefont\":{\"color\":\"rgba(0, 0, 0, 1.000)\",\"family\":\"sans-serif\",\"size\":15},\"tickcolor\":\"rgb(0, 0, 0)\",\"ticktext\":[\"0\",\"1×10⁹\",\"2×10⁹\",\"3×10⁹\",\"4×10⁹\"],\"zeroline\":false,\"type\":\"-\",\"tickfont\":{\"color\":\"rgba(0, 0, 0, 1.000)\",\"family\":\"sans-serif\",\"size\":11},\"zerolinecolor\":\"rgba(0, 0, 0, 1.000)\",\"anchor\":\"x1\"},\"legend\":{\"tracegroupgap\":0,\"bordercolor\":\"rgba(0, 0, 0, 1.000)\",\"bgcolor\":\"rgba(255, 255, 255, 1.000)\",\"font\":{\"color\":\"rgba(0, 0, 0, 1.000)\",\"family\":\"sans-serif\",\"size\":11},\"y\":1.0,\"x\":1.0},\"width\":600});\n",
       "    </script>\n"
      ]
     },
     "execution_count": 22,
     "metadata": {},
     "output_type": "execute_result"
    }
   ],
   "source": [
    "plot(rxns_ecoli[:ap])"
   ]
  },
  {
   "cell_type": "code",
   "execution_count": 27,
   "metadata": {},
   "outputs": [
    {
     "name": "stdout",
     "output_type": "stream",
     "text": [
      "ξrange (0.001,600.0) length 12 \n",
      "Academic license - for non-commercial use only\n",
      "1 RESULTS whit ξ = 0.001\n",
      "μ 39.62209714713303\n",
      "ϕ 0.0\n",
      "\n",
      "2 RESULTS whit ξ = 0.006\n",
      "μ 37.73415722349816\n",
      "ϕ 0.0\n",
      "\n",
      "3 RESULTS whit ξ = 0.01\n",
      "μ 37.426022671615925\n",
      "ϕ 0.0\n",
      "\n",
      "4 RESULTS whit ξ = 0.06\n",
      "μ 31.4573046758877\n",
      "ϕ 0.0\n",
      "\n",
      "5 RESULTS whit ξ = 0.1\n",
      "μ 24.40118854292718\n",
      "ϕ 0.0\n",
      "\n",
      "6 RESULTS whit ξ = 0.6000000000000001\n",
      "μ 5.201745634702202\n",
      "ϕ 0.0\n",
      "\n",
      "7 RESULTS whit ξ = 1.0\n",
      "μ 3.4861447830462224\n",
      "ϕ 0.0\n",
      "\n",
      "8 RESULTS whit ξ = 6.0\n",
      "μ 1.3416437184762486\n",
      "ϕ 0.0\n",
      "\n",
      "9 RESULTS whit ξ = 10.0\n",
      "μ 1.1700836333106508\n",
      "ϕ 0.0\n",
      "\n",
      "10 RESULTS whit ξ = 60.0\n",
      "μ 0.954720161533653\n",
      "ϕ 0.0\n",
      "\n",
      "11 RESULTS whit ξ = 100.0\n",
      "μ 0.9374540880567201\n",
      "ϕ 0.0\n",
      "\n",
      "12 RESULTS whit ξ = 600.0\n",
      "μ 0.9158714962105539\n",
      "ϕ 0.0\n",
      "\n"
     ]
    },
    {
     "name": "stderr",
     "output_type": "stream",
     "text": [
      "\u001b[1m\u001b[33mWARNING: \u001b[39m\u001b[22m\u001b[33muuid4(rng) is deprecated, use Compat.UUIDs.uuid4(rng) instead.\u001b[39m\n",
      "Stacktrace:\n",
      " [1] \u001b[1mdepwarn\u001b[22m\u001b[22m\u001b[1m(\u001b[22m\u001b[22m::String, ::Symbol\u001b[1m)\u001b[22m\u001b[22m at \u001b[1m./deprecated.jl:70\u001b[22m\u001b[22m\n",
      " [2] \u001b[1muuid4\u001b[22m\u001b[22m\u001b[1m(\u001b[22m\u001b[22m::MersenneTwister\u001b[1m)\u001b[22m\u001b[22m at \u001b[1m./deprecated.jl:57\u001b[22m\u001b[22m\n",
      " [3] \u001b[1mmsg_header\u001b[22m\u001b[22m at \u001b[1m/Users/Pereiro/.julia/v0.6/IJulia/src/msg.jl:18\u001b[22m\u001b[22m [inlined]\n",
      " [4] \u001b[1mmsg_pub\u001b[22m\u001b[22m\u001b[1m(\u001b[22m\u001b[22m::IJulia.Msg, ::String, ::Dict{String,String}, ::Dict{String,Any}\u001b[1m)\u001b[22m\u001b[22m at \u001b[1m/Users/Pereiro/.julia/v0.6/IJulia/src/msg.jl:30\u001b[22m\u001b[22m (repeats 2 times)\n",
      " [5] \u001b[1msend_stream\u001b[22m\u001b[22m\u001b[1m(\u001b[22m\u001b[22m::String\u001b[1m)\u001b[22m\u001b[22m at \u001b[1m/Users/Pereiro/.julia/v0.6/IJulia/src/stdio.jl:172\u001b[22m\u001b[22m\n",
      " [6] \u001b[1msend_stdio\u001b[22m\u001b[22m\u001b[1m(\u001b[22m\u001b[22m::String\u001b[1m)\u001b[22m\u001b[22m at \u001b[1m/Users/Pereiro/.julia/v0.6/IJulia/src/stdio.jl:130\u001b[22m\u001b[22m\n",
      " [7] \u001b[1m(::Base.##302#303{IJulia.#send_stdout,Timer})\u001b[22m\u001b[22m\u001b[1m(\u001b[22m\u001b[22m\u001b[1m)\u001b[22m\u001b[22m at \u001b[1m./event.jl:436\u001b[22m\u001b[22m\n",
      "while loading In[27], in expression starting on line 8\n"
     ]
    }
   ],
   "source": [
    "ξrange = logrange(-3,3; step = 5);\n",
    "println(\"ξrange ($(first(ξrange)),$(last(ξrange))) length $(length(ξrange)) \");\n",
    "LP = MaxEntChemostat2018.FBA.gurobi_problem(S_ecoli, mets_ecoli, rxns_ecoli);\n",
    "fbaress = [begin \n",
    "#         LP = MaxEntChemostat2018.FBA.gurobi_problem(S, mets, rxns);\n",
    "        return MaxEntChemostat2018.FBA.model_solve!(LP, S_ecoli, mets_ecoli, rxns_ecoli, ξ);\n",
    "        end for ξ in ξrange];\n",
    "for r in 1:length(ξrange)\n",
    "    fbares = fbaress[r];\n",
    "    if fbares != nothing\n",
    "        println(\"$r RESULTS whit ξ = $(ξrange[r])\");\n",
    "        println(\"μ $(fbares.μ)\");\n",
    "        println(\"ϕ $(fbares.ϕ)\");\n",
    "        println();\n",
    "    else\n",
    "        println(\"$r NO RESULTS: fbares == nothing with ξ = $(ξrange[r])\")\n",
    "    end\n",
    "end"
   ]
  },
  {
   "cell_type": "markdown",
   "metadata": {},
   "source": [
    "## Testing Cho model"
   ]
  },
  {
   "cell_type": "code",
   "execution_count": 9,
   "metadata": {},
   "outputs": [
    {
     "name": "stdout",
     "output_type": "stream",
     "text": [
      "S (2054, 3578), mets (2054, 6) rxns (3578, 5)\n"
     ]
    }
   ],
   "source": [
    "S_cho, mets_cho, rxns_cho = load_cho();\n",
    "println(\"S $(size(S_cho)), mets $(size(mets_cho)) rxns $(size(rxns_cho))\");"
   ]
  },
  {
   "cell_type": "code",
   "execution_count": 10,
   "metadata": {},
   "outputs": [
    {
     "data": {
      "text/plain": [
       "(1936.431623931624, 918)"
      ]
     },
     "execution_count": 10,
     "metadata": {},
     "output_type": "execute_result"
    }
   ],
   "source": [
    "findmax(rxns_cho[:an])"
   ]
  },
  {
   "cell_type": "code",
   "execution_count": 11,
   "metadata": {},
   "outputs": [
    {
     "data": {
      "text/plain": [
       "\"ETHAK\""
      ]
     },
     "execution_count": 11,
     "metadata": {},
     "output_type": "execute_result"
    }
   ],
   "source": [
    "rxns_cho[:id][918]"
   ]
  },
  {
   "cell_type": "code",
   "execution_count": 12,
   "metadata": {},
   "outputs": [
    {
     "name": "stdout",
     "output_type": "stream",
     "text": [
      "ξrange (0.001,600.0) length 12 \n",
      "Academic license - for non-commercial use only\n"
     ]
    },
    {
     "ename": "LoadError",
     "evalue": "\u001b[91mUndefVarError: S not defined\u001b[39m",
     "output_type": "error",
     "traceback": [
      "\u001b[91mUndefVarError: S not defined\u001b[39m",
      "",
      "Stacktrace:",
      " [1] \u001b[1mcollect\u001b[22m\u001b[22m\u001b[1m(\u001b[22m\u001b[22m::Base.Generator{Array{Any,1},##15#16}\u001b[1m)\u001b[22m\u001b[22m at \u001b[1m./array.jl:470\u001b[22m\u001b[22m",
      " [2] \u001b[1minclude_string\u001b[22m\u001b[22m\u001b[1m(\u001b[22m\u001b[22m::String, ::String\u001b[1m)\u001b[22m\u001b[22m at \u001b[1m./loading.jl:522\u001b[22m\u001b[22m"
     ]
    }
   ],
   "source": [
    "ξrange = logrange(-3,3; step = 5);\n",
    "println(\"ξrange ($(first(ξrange)),$(last(ξrange))) length $(length(ξrange)) \");\n",
    "LP = MaxEntChemostat2018.FBA.gurobi_problem(S_cho, mets_cho, rxns_cho);\n",
    "fbaress = [begin \n",
    "#         LP = MaxEntChemostat2018.FBA.gurobi_problem(S, mets, rxns);\n",
    "        return MaxEntChemostat2018.FBA.model_solve!(LP, S, mets, rxns, ξ);\n",
    "        end for ξ in ξrange];\n",
    "for r in 1:length(ξrange)\n",
    "    fbares = fbaress[r];\n",
    "    if fbares != nothing\n",
    "        println(\"$r RESULTS whit ξ = $(ξrange[r])\");\n",
    "        println(\"μ $(fbares.μ)\");\n",
    "        println(\"ϕ $(fbares.ϕ)\");\n",
    "        println();\n",
    "    else\n",
    "        println(\"$r NO RESULTS: fbares == nothing with ξ = $(ξrange[r])\")\n",
    "    end\n",
    "end"
   ]
  },
  {
   "cell_type": "code",
   "execution_count": null,
   "metadata": {},
   "outputs": [],
   "source": []
  },
  {
   "cell_type": "code",
   "execution_count": null,
   "metadata": {},
   "outputs": [],
   "source": []
  }
 ],
 "metadata": {
  "@webio": {
   "lastCommId": null,
   "lastKernelId": null
  },
  "kernelspec": {
   "display_name": "Julia 0.6.4",
   "language": "julia",
   "name": "julia-0.6"
  },
  "language_info": {
   "file_extension": ".jl",
   "mimetype": "application/julia",
   "name": "julia",
   "version": "0.6.4"
  }
 },
 "nbformat": 4,
 "nbformat_minor": 2
}
