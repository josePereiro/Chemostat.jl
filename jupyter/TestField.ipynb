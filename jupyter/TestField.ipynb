{
 "cells": [
  {
   "cell_type": "code",
   "execution_count": 1,
   "metadata": {},
   "outputs": [],
   "source": [
    "using Chemostat;\n",
    "using Chemostat.FBA;\n",
    "using Chemostat.Models;"
   ]
  },
  {
   "cell_type": "code",
   "execution_count": 2,
   "metadata": {},
   "outputs": [],
   "source": [
    "using JuMP;"
   ]
  },
  {
   "cell_type": "code",
   "execution_count": 38,
   "metadata": {},
   "outputs": [
    {
     "name": "stdout",
     "output_type": "stream",
     "text": [
      "S = (72, 96), mets = (72, 2), rxns = (96, 6)\n"
     ]
    }
   ],
   "source": [
    "Sid = \"glc-D[e]\";\n",
    "Sindx = 35;\n",
    "Stid = \"GLCpts\";\n",
    "Stinx = 50;#50 -> old   49 - > new\n",
    "Wid = \"ac[e]\";\n",
    "Windx = 6;\n",
    "Wtid = \"ACt2r\";\n",
    "Wtindx = 6;\n",
    "S, mets, rxns = Models.EColi.v1.load_ecoli_v1(;file_prefix = \"ecoli_new\");\n",
    "println(\"S = $(size(S)), mets = $(size(mets)), rxns = $(size(rxns))\")"
   ]
  },
  {
   "cell_type": "code",
   "execution_count": 39,
   "metadata": {},
   "outputs": [
    {
     "data": {
      "text/plain": [
       "\"MantDem\""
      ]
     },
     "execution_count": 39,
     "metadata": {},
     "output_type": "execute_result"
    }
   ],
   "source": [
    "rxns[:id][95]"
   ]
  },
  {
   "cell_type": "code",
   "execution_count": 46,
   "metadata": {},
   "outputs": [
    {
     "name": "stdout",
     "output_type": "stream",
     "text": [
      "Academic license - for non-commercial use only\n",
      "\n",
      "Results ξ = 3.0e6, md = 8.0e-5, cost = 0.0001\n",
      "ϕ: 3.661049530767279e-6\n",
      "Obj: -4.2912715024679695e-8\n"
     ]
    }
   ],
   "source": [
    "ξmax = 3e6;#3e6\n",
    "md = Chemostat.Models.EColi.v1.DEFAULT_MAINTINANCE_DEMAND_FLUX_VALUE; #8e-5;#8e-5\n",
    "cost = Chemostat.Models.EColi.v1.DEFAULT_ϕ;#1e-4\n",
    "fbares = fba_chemostat(S, mets, rxns, ξmax; ϕub = cost, man_demand_flux_value = md, objt_indx = 96,\n",
    "    man_demand_indx = 95, verbose = false, multi_obj_factor = 100);\n",
    "println();\n",
    "println(\"Results ξ = $(ξmax), md = $md, cost = $cost\")\n",
    "println(\"ϕ: $(getvalue(fbares.ϕ))\");\n",
    "println(\"Obj: $(getvalue(fbares.obj))\");\n",
    "# filter((x) -> x[2] != 0 ,map((x,y) -> (x,y), rxns[:id][find((row) -> row[:t] > 0, eachrow(rxns))],\n",
    "#     flux.(fbares, rxns[:id][find((row) -> row[:t] > 0, eachrow(rxns))])))"
   ]
  },
  {
   "cell_type": "code",
   "execution_count": 35,
   "metadata": {},
   "outputs": [
    {
     "data": {
      "text/plain": [
       "0.0"
      ]
     },
     "execution_count": 35,
     "metadata": {},
     "output_type": "execute_result"
    }
   ],
   "source": [
    "getvalue(fbares.nfluxes[13])"
   ]
  },
  {
   "cell_type": "code",
   "execution_count": 45,
   "metadata": {},
   "outputs": [
    {
     "name": "stderr",
     "output_type": "stream",
     "text": [
      "WARNING: Method definition convert(Type{DataFrames.DataFrame}, Array{JuMP.Variable, 1}) in module v1 at /Users/Pereiro/.julia/v0.6/Chemostat/src/FBA/v1/FBAResult_v1.jl:23 overwritten in module Main at In[45]:109.\n"
     ]
    },
    {
     "data": {
      "text/plain": [
       "indexof (generic function with 1 method)"
      ]
     },
     "execution_count": 45,
     "metadata": {},
     "output_type": "execute_result"
    }
   ],
   "source": [
    "using DataFrames;\n",
    "function fba_chemostat(S, mets, rxns, ξ; \n",
    "        objt_indx = 13, \n",
    "        man_demand_indx = size(rxns,1),\n",
    "        man_demand_flux_value = 1,\n",
    "        ϕub::Float64 = 1,\n",
    "        multi_obj_factor = 10^5,\n",
    "        verbose = false;)\n",
    "    \n",
    "    @assert all(size(S) .== (size(mets,1),size(rxns,1)));\n",
    "    @assert allunique(rxns[:id]);\n",
    "    @assert allunique(mets[:id]);\n",
    "    \n",
    "    #Model\n",
    "    model = JuMP.Model();\n",
    "    if verbose\n",
    "        JuMP.setsolver(model, Gurobi.GurobiSolver());\n",
    "    else\n",
    "        JuMP.setsolver(model, Gurobi.GurobiSolver(OutputFlag = 0));\n",
    "    end\n",
    "    rxnscount = size(rxns,1);\n",
    "    metscount = size(mets,1);\n",
    "    \n",
    "    #Variables\n",
    "    pfluxes = Vector{JuMP.Variable}();\n",
    "    nfluxes = Vector{JuMP.Variable}();\n",
    "    for r in 1:rxnscount\n",
    "        var = @variable(model, basename = \"p_$(rxns[:id][r])\");\n",
    "        push!(pfluxes, var);\n",
    "        var = @variable(model, basename = \"n_$(rxns[:id][r])\");\n",
    "        push!(nfluxes, var);\n",
    "    end\n",
    "    obj = pfluxes[objt_indx];#Biomass production rate\n",
    "    main_dem = pfluxes[man_demand_indx];#Maintinance Demand\n",
    "    ϕ = @variable(model, basename = \"ϕ\");#Total cost\n",
    "    \n",
    "    #constraints\n",
    "    #Mass balance\n",
    "    for m in 1:metscount\n",
    "        @constraint(model, S[m,:]' * (pfluxes - nfluxes) == 0);\n",
    "    end\n",
    "    \n",
    "    #Cost\n",
    "    @constraint(model, rxns[:ap]'* pfluxes + rxns[:an]' * nfluxes <= ϕ); \n",
    "    \n",
    "    #Objectives\n",
    "    @objective(model, Max, multi_obj_factor * obj - ϕ);\n",
    "    \n",
    "    #Bound Constraints\n",
    "    for ri in 1:rxnscount\n",
    "        \n",
    "        ub = rxns[:ub][ri];\n",
    "        lb = -rxns[:lb][ri];\n",
    "        \n",
    "        if rxns[:t][ri] > 0\n",
    "            c = maximum(mets[:c][S[:,ri].nzind]);\n",
    "            ub = min(c / ξ, ub); \n",
    "        end\n",
    "        \n",
    "        #Maintinance demand\n",
    "        if ri == man_demand_indx\n",
    "            @constraint(model, pfluxes[ri] >= man_demand_flux_value);\n",
    "            @constraint(model, pfluxes[ri] <= man_demand_flux_value);\n",
    "            @constraint(model, nfluxes[ri] >= 0);\n",
    "            @constraint(model, nfluxes[ri] <= 0);\n",
    "        else\n",
    "            @constraint(model, pfluxes[ri] >= 0);\n",
    "            @constraint(model, pfluxes[ri] <= ub);\n",
    "            @constraint(model, nfluxes[ri] >= 0);\n",
    "            @constraint(model, nfluxes[ri] <= lb);\n",
    "        end\n",
    "        \n",
    "    end\n",
    "    @constraint(model, ϕ >= 0)\n",
    "    @constraint(model, ϕ <= ϕub);\n",
    "    \n",
    "    #Solving\n",
    "    solve(model; suppress_warnings = true);\n",
    "    \n",
    "    #checking error\n",
    "    @assert !isnan(getvalue(obj));\n",
    "    @assert !isnan(getvalue(ϕ));\n",
    "    \n",
    "    return FBAResult(ξ, model, pfluxes, nfluxes, obj, ϕ, main_dem, S, rxns, mets);\n",
    "    \n",
    "end\n",
    "\n",
    "struct FBAResult\n",
    "    ξ::Float64\n",
    "    model::JuMP.Model\n",
    "    pfluxes::Vector{JuMP.Variable}\n",
    "    nfluxes::Vector{JuMP.Variable}\n",
    "    obj::JuMP.Variable\n",
    "    ϕ::JuMP.Variable\n",
    "    main_dem::JuMP.Variable\n",
    "    S::SparseMatrixCSC\n",
    "    rxns::DataFrame\n",
    "    mets::DataFrame\n",
    "    \n",
    "    function FBAResult(ξ, model, pfluxes, nfluxes, obj, ϕ, main_dem, S, rxns, mets)\n",
    "        @assert ξ > 0;\n",
    "        @assert allunique([rxns[:id];mets[:id]])\n",
    "        return new(ξ, model, pfluxes, nfluxes, obj, ϕ, main_dem, S, rxns, mets);\n",
    "    end\n",
    "    \n",
    "end\n",
    "\n",
    "function Base.convert(::Type{DataFrames.DataFrame}, vars::Array{JuMP.Variable,1})::DataFrame\n",
    "    df = DataFrames.DataFrame(); \n",
    "    df[:id] = string.(vars);\n",
    "    df[:v] = Float64.(getvalue.(vars))\n",
    "    return df;\n",
    "end\n",
    "function Base.convert(::Type{DataFrames.DataFrame}, fbares::FBAResult)::DataFrame\n",
    "    df = DataFrames.DataFrame();\n",
    "    df[:id] = [string.(fbares.pfluxes) ; string.(fbares.nfluxes)]\n",
    "    df[:v] = [Float64.(getvalue.(fbares.pfluxes)) ; Float64.(getvalue.(fbares.nfluxes))];\n",
    "    return df;\n",
    "end\n",
    "\n",
    "objv(fbares) = JuMP.getvalue(fbares.obj);\n",
    "mainv(fbares) = JuMP.getvalue(fbares.main_dem);\n",
    "costv(fbares) = JuMP.getvalue(fbares.ϕ);\n",
    "pfluxesdf(fbares) = convert(fbares.pfluxes);\n",
    "nfluxesdf(fbares) = convert(fbares.nfluxes);\n",
    "xi(fbares) = fbares.ξ;\n",
    "\n",
    "function indexof(fbares::FBAResult, id)\n",
    "    \n",
    "    rxnindx = indexof(fbares.rxns, id);\n",
    "    rxnindx != -1 && return rxnindx;\n",
    "    metindx = indexof(fbares.mets, id);\n",
    "    metindx != -1 && return metindx;\n",
    "    return -1;\n",
    "end\n"
   ]
  },
  {
   "cell_type": "code",
   "execution_count": null,
   "metadata": {},
   "outputs": [],
   "source": []
  }
 ],
 "metadata": {
  "@webio": {
   "lastCommId": null,
   "lastKernelId": null
  },
  "kernelspec": {
   "display_name": "Julia 0.6.4",
   "language": "julia",
   "name": "julia-0.6"
  },
  "language_info": {
   "file_extension": ".jl",
   "mimetype": "application/julia",
   "name": "julia",
   "version": "0.6.4"
  }
 },
 "nbformat": 4,
 "nbformat_minor": 2
}
