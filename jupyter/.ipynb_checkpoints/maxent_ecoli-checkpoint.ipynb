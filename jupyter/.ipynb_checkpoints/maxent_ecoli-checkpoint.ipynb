{
 "cells": [
  {
   "cell_type": "code",
   "execution_count": 1,
   "metadata": {
    "collapsed": true
   },
   "outputs": [
    {
     "name": "stderr",
     "output_type": "stream",
     "text": [
      "\u001b[1m\u001b[36mINFO: \u001b[39m\u001b[22m\u001b[36mPrecompiling module CPLEX.\n",
      "\u001b[39m\u001b[1m\u001b[33mWARNING: \u001b[39m\u001b[22m\u001b[33muuid4(rng) is deprecated, use Compat.UUIDs.uuid4(rng) instead.\u001b[39m\n",
      "Stacktrace:\n",
      " [1] \u001b[1mdepwarn\u001b[22m\u001b[22m\u001b[1m(\u001b[22m\u001b[22m::String, ::Symbol\u001b[1m)\u001b[22m\u001b[22m at \u001b[1m./deprecated.jl:70\u001b[22m\u001b[22m\n",
      " [2] \u001b[1muuid4\u001b[22m\u001b[22m\u001b[1m(\u001b[22m\u001b[22m::MersenneTwister\u001b[1m)\u001b[22m\u001b[22m at \u001b[1m./deprecated.jl:57\u001b[22m\u001b[22m\n",
      " [3] \u001b[1mmsg_header\u001b[22m\u001b[22m at \u001b[1m/Users/Pereiro/.julia/v0.6/IJulia/src/msg.jl:18\u001b[22m\u001b[22m [inlined]\n",
      " [4] \u001b[1mmsg_pub\u001b[22m\u001b[22m\u001b[1m(\u001b[22m\u001b[22m::IJulia.Msg, ::String, ::Dict{String,String}, ::Dict{String,Any}\u001b[1m)\u001b[22m\u001b[22m at \u001b[1m/Users/Pereiro/.julia/v0.6/IJulia/src/msg.jl:30\u001b[22m\u001b[22m (repeats 2 times)\n",
      " [5] \u001b[1msend_stream\u001b[22m\u001b[22m\u001b[1m(\u001b[22m\u001b[22m::String\u001b[1m)\u001b[22m\u001b[22m at \u001b[1m/Users/Pereiro/.julia/v0.6/IJulia/src/stdio.jl:172\u001b[22m\u001b[22m\n",
      " [6] \u001b[1msend_stdio\u001b[22m\u001b[22m\u001b[1m(\u001b[22m\u001b[22m::String\u001b[1m)\u001b[22m\u001b[22m at \u001b[1m/Users/Pereiro/.julia/v0.6/IJulia/src/stdio.jl:130\u001b[22m\u001b[22m\n",
      " [7] \u001b[1m(::Base.##302#303{IJulia.#send_stderr,Timer})\u001b[22m\u001b[22m\u001b[1m(\u001b[22m\u001b[22m\u001b[1m)\u001b[22m\u001b[22m at \u001b[1m./event.jl:436\u001b[22m\u001b[22m\n",
      "while loading /Users/Pereiro/.julia/v0.6/COBRA/src/COBRA.jl, in expression starting on line 27\n",
      "\u001b[1m\u001b[91mERROR: \u001b[39m\u001b[22mLoadError: \u001b[91mCPLEX not properly installed. Please run Pkg.build(\"CPLEX\")\u001b[39m\n",
      "Stacktrace:\n",
      " [1] \u001b[1merror\u001b[22m\u001b[22m\u001b[1m(\u001b[22m\u001b[22m::String\u001b[1m)\u001b[22m\u001b[22m at \u001b[1m./error.jl:21\u001b[22m\u001b[22m\n",
      " [2] \u001b[1minclude_from_node1\u001b[22m\u001b[22m\u001b[1m(\u001b[22m\u001b[22m::String\u001b[1m)\u001b[22m\u001b[22m at \u001b[1m./loading.jl:576\u001b[22m\u001b[22m\n",
      " [3] \u001b[1minclude\u001b[22m\u001b[22m\u001b[1m(\u001b[22m\u001b[22m::String\u001b[1m)\u001b[22m\u001b[22m at \u001b[1m./sysimg.jl:14\u001b[22m\u001b[22m\n",
      " [4] \u001b[1manonymous\u001b[22m\u001b[22m at \u001b[1m./<missing>:2\u001b[22m\u001b[22m\n",
      "while loading /Users/Pereiro/.julia/v0.6/CPLEX/src/CPLEX.jl, in expression starting on line 16\n",
      "WARNING: could not import TruncatedNormal.gauss2Dtruncstats into EP\n",
      "WARNING: could not import TruncatedNormal.R into EP\n",
      "WARNING: replacing module ToyModel\n"
     ]
    }
   ],
   "source": [
    "import MaxEntChemostat2018;\n",
    "import JLD2;\n",
    "using ProgressMeter;\n",
    "import Plots;\n",
    "using Chemostat;\n",
    "# Read Geran Thises..."
   ]
  },
  {
   "cell_type": "markdown",
   "metadata": {},
   "source": [
    "## load_cho\n",
    "\n",
    "\"Loads CHO model. Returns stoichiometric matrix and DataFrames mets and rxns\"\n",
    "\n",
    "```julia\n",
    "function load_cho()\n",
    "\n",
    "    sto, mets, rxns = load_cho_dataframes()\n",
    "\n",
    "    # no infinities\n",
    "    rxns[:lb] .= max.(rxns[:lb], -1000)\n",
    "    rxns[:ub] .= min.(rxns[:ub], 1000)\n",
    "    mets[:L] .= max.(mets[:L], -1000)\n",
    "    mets[:V] .= min.(mets[:V], 1000)\n",
    "    mets[:c] .= min.(mets[:c], 100000)\n",
    "\n",
    "    S = sparse(sto[:i], sto[:k], sto[:s])\n",
    "    \n",
    "    return S, mets, rxns\n",
    "end\n",
    "\n",
    "function load_cho_dataframes()\n",
    "    CHO_DIR = Pkg.dir() * \"/MaxEntChemostat2018/CHO-K1\"\n",
    "    sto = CSV.read(CHO_DIR * \"/cho.sto\", delim='\\t', allowmissing=:none, types=[Int, Int, Float64, String, String]);\n",
    "    mets = CSV.read(CHO_DIR * \"/cho.mets\", delim='\\t', allowmissing=:none, types=[String, Float64, Float64, Float64, Float64, Float64]);\n",
    "    rxns = CSV.read(CHO_DIR * \"/cho.rxns\", delim='\\t', allowmissing=:none, types=[String, Float64, Float64, Float64, Float64]);\n",
    "\n",
    "    return sto, mets, rxns\n",
    "end\n",
    "\n",
    "\n",
    "```"
   ]
  },
  {
   "cell_type": "code",
   "execution_count": 17,
   "metadata": {},
   "outputs": [],
   "source": [
    "S, mets, rxns = Chemostat.v2.Models.EColi.load_ecoli_v2();"
   ]
  },
  {
   "cell_type": "code",
   "execution_count": 29,
   "metadata": {},
   "outputs": [
    {
     "data": {
      "text/plain": [
       "(72, 75)"
      ]
     },
     "execution_count": 29,
     "metadata": {},
     "output_type": "execute_result"
    }
   ],
   "source": [
    "size(S)"
   ]
  },
  {
   "cell_type": "markdown",
   "metadata": {},
   "source": [
    "## nonzero_reduce_model\n",
    "\n",
    "Scans the range of feasible ξ values and removes\n",
    "all the reactions that are always zero. Also removes\n",
    "metabolites that are left without reactions.\n",
    "Returns the reduced S, mets, rxns (without modifying\n",
    "original arguments\n",
    "\n",
    "```julia\n",
    "function nonzero_reduce_model(S, mets, rxns; Δξ = 10)\n",
    "    @assert 0 < Δξ < Inf\n",
    "    LP = gurobi_problem(S, mets, rxns)\n",
    "    ξmax = find_max_xi!(LP, S, mets, rxns; tol = Δξ)\n",
    "    @assert ξmax > 0\n",
    "    nz_rxns_idx = Set{Int}()\n",
    "    \n",
    "    for ξ = 0 : Δξ : ξmax - Δξ\n",
    "        fbasol = model_solve!(LP, S, mets, rxns, ξ)\n",
    "        for (k, rxn) in enumerate(DataFrames.eachrow(rxns))\n",
    "            iszero(fbasol.r[k]) || push!(nz_rxns_idx, k)\n",
    "        end\n",
    "    end\n",
    "\n",
    "    nz_rxns_idx = sort(collect(nz_rxns_idx))\n",
    "    nz_mets_idx = [i for i = 1 : size(S, 1) if !iszero(S[i, nz_rxns_idx])]\n",
    "    nz_S = S[nz_mets_idx, nz_rxns_idx]\n",
    "    nz_rxns = rxns[nz_rxns_idx, :]\n",
    "    nz_mets = mets[nz_mets_idx, :]\n",
    "\n",
    "    return nz_S, nz_mets, nz_rxns\n",
    "end\n",
    "\n",
    "```"
   ]
  },
  {
   "cell_type": "code",
   "execution_count": 7,
   "metadata": {},
   "outputs": [
    {
     "name": "stdout",
     "output_type": "stream",
     "text": [
      "Academic license - for non-commercial use only\n",
      "(72, 75)(0, 0)\n"
     ]
    }
   ],
   "source": [
    "# nz_S, nz_mets, nz_rxns = MaxEntChemostat2018.FBA.nonzero_reduce_model(S, mets, rxns);\n",
    "# println(size(S),size(nz_S))"
   ]
  },
  {
   "cell_type": "markdown",
   "metadata": {},
   "source": [
    "## gurobi_problem\n",
    "\n",
    "No documnetation!!! Ask Cossio\n",
    "\n",
    "```julia\n",
    "\n",
    "function gurobi_problem(S, mets, rxns)\n",
    "    assert_consistency(S, mets, rxns)\n",
    "    m, n = size(S)\n",
    "    \n",
    "    # [r+, r-, u+, u-, μ, ϕ], all the variables\n",
    "    x = zeros(2n + 2m + 2)   \n",
    "    \n",
    "    # upper bounds\n",
    "    upper::Vector{Float64} = [rxns[:ub]; -rxns[:lb]; mets[:V]; -mets[:L]; Inf; 1.]\n",
    "    \n",
    "    @assert length(upper) == length(x) == 2m + 2n + 2\n",
    "\n",
    "    # equality constrains\n",
    "    W = sparse([ S -S speye(m) -speye(m) -mets[:y] spzeros(m)\n",
    "                 rxns[:ap]' rxns[:an]' zeros(m)' zeros(m)' 0 -1 ])\n",
    "\n",
    "    @assert Base.size(W) == (m + 1, length(x))\n",
    "\n",
    "    # the problem has the form:\n",
    "    # max μ s.t. W⋅x = [e,0] and 0 ≤ x ≤ upper.\n",
    "    # with the secondary objective: min ϕv\n",
    "    LP = Gurobi.gurobi_model(GurobiEnv(), sense = :maximize,\n",
    "                             Aeq = W, beq = [collect(mets[:e]); 0],\n",
    "                             lb = zeros(x), ub = upper, f = zeros(x))\n",
    "\n",
    "    gurobi_set_multiobj_n!(LP, 2)\n",
    "    \n",
    "    # max μ\n",
    "    gurobi_set_multiobj!(LP, 0, [zeros(2n + 2m); 1;  0], 10, 1.0)\n",
    "    \n",
    "    # min ϕ\n",
    "    gurobi_set_multiobj!(LP, 1, [zeros(2n + 2m); 0; -1], 5,  1.0)\n",
    "\n",
    "    return LP\n",
    "end\n",
    "\n",
    "\n",
    "```"
   ]
  },
  {
   "cell_type": "code",
   "execution_count": 10,
   "metadata": {
    "scrolled": true
   },
   "outputs": [
    {
     "name": "stdout",
     "output_type": "stream",
     "text": [
      "Academic license - for non-commercial use only\n"
     ]
    }
   ],
   "source": [
    "LP = MaxEntChemostat2018.FBA.gurobi_problem(S, mets, rxns);"
   ]
  },
  {
   "cell_type": "markdown",
   "metadata": {},
   "source": [
    "## find_max_xi!\n",
    "\n",
    "Returns the maximum value of ξ for which the model is\n",
    "feasible, to within tolerance 'tol'.\n",
    "\n",
    "```julia\n",
    "function find_max_xi!(LP, S, mets, rxns; tol = 0.01)\n",
    "    @assert tol > 0\n",
    "\n",
    "    ξ0 = 0.\n",
    "    ξ1 = find_unfeasible_xi!(LP, S, mets, rxns)\n",
    "\n",
    "    while true\n",
    "        ξ = .5ξ0 + .5ξ1\n",
    "        if ξ1 - ξ0 ≤ tol\n",
    "            return ξ\n",
    "        elseif model_solve!(LP, S, mets, rxns, ξ) == nothing\n",
    "            ξ1 = ξ\n",
    "        else\n",
    "            ξ0 = ξ\n",
    "        end\n",
    "    end\n",
    "end\n",
    "```\n"
   ]
  },
  {
   "cell_type": "code",
   "execution_count": 19,
   "metadata": {},
   "outputs": [],
   "source": [
    "ξmax = MaxEntChemostat2018.FBA.find_max_xi!(LP, S, mets, rxns);"
   ]
  },
  {
   "cell_type": "markdown",
   "metadata": {},
   "source": [
    "### Note \n",
    "\"Cossio do some writes and loads that are not relevant for the underestanding of the process, so, this code is commented\""
   ]
  },
  {
   "cell_type": "markdown",
   "metadata": {},
   "source": [
    "## @save and @load macro from JLD2\n",
    "\n",
    "The @save and @load macros are the simplest way to interact with a JLD2 file. The @save macro writes one or more variables from the current scope to the JLD file. For example:\n",
    "\n",
    "```julia\n",
    "using JLD2, FileIO\n",
    "hello = \"world\"\n",
    "foo = :bar\n",
    "@save \"example.jld2\" hello foo\n",
    "```\n",
    "This writes the variables hello and foo to datasets in a new JLD2 file named example.jld2. The @load macro loads variables out of a JLD2 file:\n",
    "\n",
    "```julia\n",
    "@load \"example.jld2\" hello foo\n",
    "```\n",
    "This assigns the contents of the hello and foo datasets to variables of the same name in the current scope."
   ]
  },
  {
   "cell_type": "code",
   "execution_count": 20,
   "metadata": {},
   "outputs": [],
   "source": [
    "#JLD2.@save \"supp_CHOK1_reduced_model.jld2\" nz_S nz_mets nz_rxns"
   ]
  },
  {
   "cell_type": "code",
   "execution_count": 21,
   "metadata": {},
   "outputs": [],
   "source": [
    "# JLD2.@load \"supp_CHOK1_reduced_model.jld2\" nz_S nz_mets nz_rxns"
   ]
  },
  {
   "cell_type": "markdown",
   "metadata": {},
   "source": [
    "## writedlm\n",
    "\n",
    "``` writedlm(f, A, delim='\\t'; opts)```\n",
    "\n",
    "  Write A (a vector, matrix, or an iterable collection of\n",
    "  iterable rows) as text to f (either a filename string or an\n",
    "  IO stream) using the given delimiter delim (which defaults to\n",
    "  tab, but can be any printable Julia object, typically a Char\n",
    "  or AbstractString).\n",
    "\n",
    "  For example, two vectors x and y of the same length can be\n",
    "  written as two columns of tab-delimited text to f by either\n",
    "  ``` writedlm(f, [x y])``` or by ``` writedlm(f, zip(x, y))```."
   ]
  },
  {
   "cell_type": "code",
   "execution_count": 22,
   "metadata": {},
   "outputs": [],
   "source": [
    "#writedlm(\"CHOK1_sto.txt\", Matrix(nz_S))"
   ]
  },
  {
   "cell_type": "markdown",
   "metadata": {},
   "source": [
    "## CSV.write\n",
    "\n",
    "write a Data.Source out to a file_or_io."
   ]
  },
  {
   "cell_type": "code",
   "execution_count": 23,
   "metadata": {},
   "outputs": [],
   "source": [
    "#CSV.write(\"mets.txt\", nz_mets; delim='\\t')"
   ]
  },
  {
   "cell_type": "code",
   "execution_count": 24,
   "metadata": {},
   "outputs": [],
   "source": [
    "#CSV.write(\"rxns.txt\", nz_rxns; delim='\\t')"
   ]
  },
  {
   "cell_type": "markdown",
   "metadata": {},
   "source": [
    "### Note \n",
    "\"The cells from here till the ``` @showprogress``` macro compute the values of ```fbaresults```, ```epresults``` and ```ξvals```. This take a while so I just load it from fba_ep_results.jld2 file\""
   ]
  },
  {
   "cell_type": "code",
   "execution_count": 25,
   "metadata": {},
   "outputs": [
    {
     "data": {
      "text/plain": [
       "31-element Array{Float64,1}:\n",
       " 1.0e-6    \n",
       " 2.0e-6    \n",
       " 3.0e-6    \n",
       " 4.0e-6    \n",
       " 5.0e-6    \n",
       " 6.0e-6    \n",
       " 7.0e-6    \n",
       " 8.0e-6    \n",
       " 9.0e-6    \n",
       " 1.0e-5    \n",
       " 2.0e-5    \n",
       " 3.0e-5    \n",
       " 4.0e-5    \n",
       " ⋮         \n",
       " 0.0002    \n",
       " 0.0003    \n",
       " 0.0004    \n",
       " 0.0005    \n",
       " 0.0006    \n",
       " 0.0007    \n",
       " 0.0008    \n",
       " 0.0009    \n",
       " 0.001     \n",
       " 0.002     \n",
       " 0.003     \n",
       " 0.00305176"
      ]
     },
     "execution_count": 25,
     "metadata": {},
     "output_type": "execute_result"
    }
   ],
   "source": [
    "#= Create an array of Floats with the values of 10^x \n",
    "where x >= -3.0, x<=2.5 and dx = 0.05.=#\n",
    "ξvals = Chemostat.Tools.logrange(1e-6,10,ξmax)"
   ]
  },
  {
   "cell_type": "markdown",
   "metadata": {},
   "source": [
    "## FBASolution\n",
    "\n",
    "```julia\n",
    "struct FBASolution\n",
    "    ξ::Float64  # X / D\n",
    "    r::Vector{Float64} # internal reaction fluxes\n",
    "    u::Vector{Float64} # uptakes (negative if secretion)\n",
    "    s::Vector{Float64} # metabolite concentrations\n",
    "    μ::Float64 # number of metabolites\n",
    "    ϕ::Float64 # enzymatic mass fraction\n",
    "end\n",
    "```"
   ]
  },
  {
   "cell_type": "code",
   "execution_count": 26,
   "metadata": {},
   "outputs": [],
   "source": [
    "#= Create and array of FBASolution with length(ξvals) \n",
    "undefined values =#\n",
    "fbaresults = Vector{MaxEntChemostat2018.FBA.FBASolution}(length(ξvals));"
   ]
  },
  {
   "cell_type": "markdown",
   "metadata": {},
   "source": [
    "## MaxEntChemostat2018.EP\n",
    "\n",
    "EP algorithm from\n",
    "\n",
    "Alfredo Braunstein, Anna Paola Muntoni, and Andrea Pagnani, “An Analytic Approximation of the Feasible\n",
    "Space of Metabolic Networks,” Nature Communications 8 (April 6, 2017): https://doi.org/10.1038/ncomms14915.\n",
    "\n",
    "## EPResults\n",
    "\n",
    "Data structure to organize the results of the EP run.\n",
    "\n",
    "```julia\n",
    "struct EPResults\n",
    "    ξ::Float64\n",
    "    μ::Vector{Float64}\n",
    "    ν::Vector{Float64}\n",
    "    a::Vector{Float64}\n",
    "    d::Vector{Float64}\n",
    "    v::Vector{Float64}\n",
    "    iΣ::Matrix{Float64}\n",
    "    Σ::Matrix{Float64}\n",
    "    lb::Vector{Float64}\n",
    "    ub::Vector{Float64}\n",
    "    metsid::Vector{String}\n",
    "    rxnsid::Vector{String}\n",
    "end\n",
    "```\n",
    "\n"
   ]
  },
  {
   "cell_type": "code",
   "execution_count": 27,
   "metadata": {},
   "outputs": [],
   "source": [
    "#= The same but with EPResults =#\n",
    "epresults = Vector{MaxEntChemostat2018.EP.EPResults}(length(ξvals));"
   ]
  },
  {
   "cell_type": "markdown",
   "metadata": {},
   "source": [
    "## ProgressMeter.@showprogress macro\n",
    "\n",
    "```julia\n",
    "@showprogress dt \"Computing...\" for i = 1:50\n",
    "      # computation goes here\n",
    "  end\n",
    "```\n",
    "\n",
    "  displays progress in performing a computation. dt is the\n",
    "  minimum interval between updates to the user. You may\n",
    "  optionally supply a custom message to be printed that\n",
    "  specifies the computation being performed.\n",
    "\n",
    "  ```showprogress``` works for both loops and comprehensions."
   ]
  },
  {
   "cell_type": "code",
   "execution_count": 28,
   "metadata": {},
   "outputs": [
    {
     "name": "stdout",
     "output_type": "stream",
     "text": [
      "Number of ξ values: 31\n",
      "Doing ξ = 1.0e-6 (idx = 1)\n"
     ]
    },
    {
     "name": "stderr",
     "output_type": "stream",
     "text": [
      "\u001b[1m\u001b[33mWARNING: \u001b[39m\u001b[22m\u001b[33muuid4(rng) is deprecated, use Compat.UUIDs.uuid4(rng) instead.\u001b[39m\n",
      "Stacktrace:\n",
      " [1] \u001b[1mdepwarn\u001b[22m\u001b[22m\u001b[1m(\u001b[22m\u001b[22m::String, ::Symbol\u001b[1m)\u001b[22m\u001b[22m at \u001b[1m./deprecated.jl:70\u001b[22m\u001b[22m\n",
      " [2] \u001b[1muuid4\u001b[22m\u001b[22m\u001b[1m(\u001b[22m\u001b[22m::MersenneTwister\u001b[1m)\u001b[22m\u001b[22m at \u001b[1m./deprecated.jl:57\u001b[22m\u001b[22m\n",
      " [3] \u001b[1mmsg_header\u001b[22m\u001b[22m at \u001b[1m/Users/Pereiro/.julia/v0.6/IJulia/src/msg.jl:18\u001b[22m\u001b[22m [inlined]\n",
      " [4] \u001b[1mmsg_pub\u001b[22m\u001b[22m\u001b[1m(\u001b[22m\u001b[22m::IJulia.Msg, ::String, ::Dict{String,String}, ::Dict{String,Any}\u001b[1m)\u001b[22m\u001b[22m at \u001b[1m/Users/Pereiro/.julia/v0.6/IJulia/src/msg.jl:30\u001b[22m\u001b[22m (repeats 2 times)\n",
      " [5] \u001b[1msend_stream\u001b[22m\u001b[22m\u001b[1m(\u001b[22m\u001b[22m::String\u001b[1m)\u001b[22m\u001b[22m at \u001b[1m/Users/Pereiro/.julia/v0.6/IJulia/src/stdio.jl:172\u001b[22m\u001b[22m\n",
      " [6] \u001b[1msend_stdio\u001b[22m\u001b[22m\u001b[1m(\u001b[22m\u001b[22m::String\u001b[1m)\u001b[22m\u001b[22m at \u001b[1m/Users/Pereiro/.julia/v0.6/IJulia/src/stdio.jl:130\u001b[22m\u001b[22m\n",
      " [7] \u001b[1m(::Base.##302#303{IJulia.#send_stdout,Timer})\u001b[22m\u001b[22m\u001b[1m(\u001b[22m\u001b[22m\u001b[1m)\u001b[22m\u001b[22m at \u001b[1m./event.jl:436\u001b[22m\u001b[22m\n",
      "while loading In[28], in expression starting on line 2\n"
     ]
    },
    {
     "ename": "LoadError",
     "evalue": "\u001b[91mAssertionError: m < n\u001b[39m",
     "output_type": "error",
     "traceback": [
      "\u001b[91mAssertionError: m < n\u001b[39m",
      "",
      "Stacktrace:",
      " [1] \u001b[1massert_consistency\u001b[22m\u001b[22m\u001b[1m(\u001b[22m\u001b[22m::SparseMatrixCSC{Float64,Int64}, ::DataFrames.DataFrame, ::DataFrames.DataFrame\u001b[1m)\u001b[22m\u001b[22m at \u001b[1m/Users/Pereiro/.julia/v0.6/MaxEntChemostat2018/src/FBA.jl:130\u001b[22m\u001b[22m",
      " [2] \u001b[1mmodel_solve!\u001b[22m\u001b[22m\u001b[1m(\u001b[22m\u001b[22m::Gurobi.Model, ::SparseMatrixCSC{Float64,Int64}, ::DataFrames.DataFrame, ::DataFrames.DataFrame, ::Float64\u001b[1m)\u001b[22m\u001b[22m at \u001b[1m/Users/Pereiro/.julia/v0.6/MaxEntChemostat2018/src/FBA.jl:202\u001b[22m\u001b[22m",
      " [3] \u001b[1mmacro expansion\u001b[22m\u001b[22m at \u001b[1m./In[28]:4\u001b[22m\u001b[22m [inlined]",
      " [4] \u001b[1mmacro expansion\u001b[22m\u001b[22m at \u001b[1m/Users/Pereiro/.julia/v0.6/ProgressMeter/src/ProgressMeter.jl:483\u001b[22m\u001b[22m [inlined]",
      " [5] \u001b[1manonymous\u001b[22m\u001b[22m at \u001b[1m./<missing>:?\u001b[22m\u001b[22m",
      " [6] \u001b[1minclude_string\u001b[22m\u001b[22m\u001b[1m(\u001b[22m\u001b[22m::String, ::String\u001b[1m)\u001b[22m\u001b[22m at \u001b[1m./loading.jl:522\u001b[22m\u001b[22m"
     ]
    }
   ],
   "source": [
    "println(\"Number of ξ values: $(length(ξvals))\")\n",
    "@showprogress for (idx, ξ) in enumerate(ξvals)\n",
    "    println(\"Doing ξ = $ξ (idx = $idx)\")\n",
    "    fbaresults[idx] = MaxEntChemostat2018.FBA.model_solve!(LP, S, mets, rxns, ξ);\n",
    "    epresults[idx] = MaxEntChemostat2018.EP.ep(S, mets, rxns, fbaresults[idx]);\n",
    "end"
   ]
  },
  {
   "cell_type": "code",
   "execution_count": 16,
   "metadata": {},
   "outputs": [
    {
     "data": {
      "text/plain": [
       "3-element Array{Symbol,1}:\n",
       " :fbaresults\n",
       " :epresults \n",
       " :ξvals     "
      ]
     },
     "execution_count": 16,
     "metadata": {},
     "output_type": "execute_result"
    }
   ],
   "source": [
    "#@save \"fba_ep_results.jld2\" fbaresults epresults ξvals;\n",
    "JLD2.@load \"fba_ep_results.jld2\""
   ]
  },
  {
   "cell_type": "markdown",
   "metadata": {},
   "source": [
    "### Result Analysis\n",
    "\"From here I need to discous the results with Cossio!!!\""
   ]
  },
  {
   "cell_type": "code",
   "execution_count": null,
   "metadata": {},
   "outputs": [],
   "source": [
    "bioidx = findfirst(epresults[1].rxnsid, \"Biomass_Reaction\")\n",
    "# metidx = Dict(met => i for (i,met) in enumerate(epresults[0.].metsid));\n",
    "glcidx = findfirst(epresults[1].metsid, \"glc_D_e\");\n",
    "glnidx = findfirst(epresults[1].metsid, \"gln_L_e\");\n",
    "gluidx = findfirst(epresults[1].metsid, \"glu_L_e\");\n",
    "lacidx = findfirst(epresults[1].metsid, \"lac_L_e\");\n",
    "nh4idx = findfirst(epresults[1].metsid, \"nh4_e\");\n",
    "foridx = findfirst(epresults[1].metsid, \"for_e\");\n",
    "aspidx = findfirst(epresults[1].metsid, \"asp_L_e\");\n",
    "alaidx = findfirst(epresults[1].metsid, \"ala_L_e\");\n",
    "metidx = findfirst(epresults[1].metsid, \"met_L_e\");"
   ]
  },
  {
   "cell_type": "code",
   "execution_count": null,
   "metadata": {},
   "outputs": [],
   "source": [
    "met   = [\"lac_L_e\"   , \"nh4_e\",    \"glc_D_e\",    \"gln_L_e\",    \"glu_L_e\",    \"for_e\",    \"asp_L_e\",    \"ala_L_e\",    \"met_L_e\",    \"lys_L_e\",    \"his_L_e\",    \"gly_e\",    \"pro_L_e\",    \"ser_L_e\",    \"thr_L_e\",    \"val_L_e\",    \"phe_L_e\" ]\n",
    "ex    = [\"EX_lac_L_e\", \"EX_nh4_e\", \"EX_glc_D_e\", \"EX_gln_L_e\", \"EX_glu_L_e\", \"EX_for_e\", \"EX_asp_L_e\", \"EX_ala_L_e\", \"EX_met_L_e\", \"EX_lys_L_e\", \"EX_his_L_e\", \"EX_gly_e\", \"EX_pro_L_e\", \"EX_ser_L_e\", \"EX_thr_L_e\", \"EX_val_L_e\", \"EX_phe_L_e\"]\n",
    "fname = [\"lac\"       , \"nh4\",      \"glc\",        \"gln\",        \"glu\",        \"for\",      \"asp\",        \"ala\",        \"met\",        \"lys\",        \"his\",        \"gly\",      \"pro\",        \"ser\",        \"thr\",        \"val\",        \"phe\"];"
   ]
  },
  {
   "cell_type": "code",
   "execution_count": null,
   "metadata": {},
   "outputs": [],
   "source": [
    "lacidx = findfirst(nz_mets[:id], \"lac_L_e\");\n",
    "nh4idx = findfirst(nz_mets[:id], \"nh4_e\");"
   ]
  },
  {
   "cell_type": "code",
   "execution_count": null,
   "metadata": {},
   "outputs": [],
   "source": [
    "Knh4 = 1.05;\n",
    "Klac = 8;  # in mM\n",
    "\n",
    "fba_s = Matrix{Float64}(length(ξvals), length(fbaresults[1].s))\n",
    "fba_μ = Vector{Float64}(length(ξvals))\n",
    "fba_D = Vector{Float64}(length(ξvals))\n",
    "fba_X = Vector{Float64}(length(ξvals))\n",
    "for (idx, ξ) in enumerate(ξvals)\n",
    "    for i = 1 : length(fbaresults[1].s)\n",
    "        fba_s[idx, i] = fbaresults[idx].s[i]\n",
    "    end\n",
    "    fba_μ[idx] = fbaresults[idx].μ\n",
    "    fba_D[idx] = fba_μ[idx] / (1 + fba_s[idx, lacidx] / Klac) / (1 + fba_s[idx, nh4idx] / Knh4)\n",
    "    fba_X[idx] = ξ * fba_D[idx]\n",
    "end"
   ]
  },
  {
   "cell_type": "code",
   "execution_count": null,
   "metadata": {},
   "outputs": [],
   "source": [
    "#length(nz_rxns[:id])"
   ]
  },
  {
   "cell_type": "code",
   "execution_count": null,
   "metadata": {},
   "outputs": [],
   "source": [
    "bioidx = findfirst(epresults[1].rxnsid, \"Biomass_Reaction\")\n",
    "exlacidx = findfirst(epresults[1].rxnsid, \"EX_lac_L_e\")\n",
    "exnh4idx = findfirst(epresults[1].rxnsid, \"EX_nh4_e\")\n",
    "α = spzeros(size(epresults[1].Σ, 1))"
   ]
  },
  {
   "cell_type": "code",
   "execution_count": null,
   "metadata": {},
   "outputs": [],
   "source": [
    "Plots.gr()"
   ]
  },
  {
   "cell_type": "code",
   "execution_count": null,
   "metadata": {},
   "outputs": [],
   "source": [
    "plt_X_D = Plots.plot(fba_D, fba_X, marker=:5, label=\"alpha=Inf\", color=:purple, linewidth=5, tickfontsize=22)"
   ]
  },
  {
   "cell_type": "code",
   "execution_count": null,
   "metadata": {},
   "outputs": [],
   "source": [
    "plt_X = Plots.plot(ξvals, fba_X, xscale=:log10, marker=:5, label=\"alpha=Inf\", color=:purple, linewidth=5, tickfontsize=22)"
   ]
  },
  {
   "cell_type": "code",
   "execution_count": null,
   "metadata": {},
   "outputs": [],
   "source": [
    "plt_D = Plots.plot(ξvals, fba_D, xscale=:log10, marker=:5, label=\"alpha=Inf\", color=:purple, linewidth=5, tickfontsize=22)"
   ]
  },
  {
   "cell_type": "code",
   "execution_count": null,
   "metadata": {},
   "outputs": [],
   "source": [
    "met_plots = [Plots.plot(; title=m) for m in fname]\n",
    "for (plt,m,f) in zip(met_plots, met, fname)\n",
    "    metidx = findfirst(nz_mets[:id], m)\n",
    "    Plots.plot!(plt, ξvals, fba_s[:, metidx], marker=:5, title=f, color=:purple, linewidth=5, label=\"alpha=Inf\", xscale=:log10, legend=:bottomleft, tickfontsize=22)\n",
    "end\n",
    "\n",
    "αcols = (:black, :blue, :red)\n",
    "\n",
    "for (αidx, αbio) in enumerate([2e3; 1e4; 5e5])\n",
    "    α[bioidx] = αbio\n",
    "\n",
    "    ep_X = Vector{Float64}(length(ξvals))\n",
    "    ep_D = Vector{Float64}(length(ξvals))    \n",
    "    ep_s = Matrix{Float64}(length(ξvals), length(met_plots))\n",
    "\n",
    "    for (idx, ξ) in enumerate(ξvals)\n",
    "        ep = epresults[idx]\n",
    "        w = MaxEntChemostat2018.EP.get_w(ep, α)\n",
    "        Σnn = ep.d .* diag(ep.Σ) ./ (ep.d .- diag(ep.Σ))\n",
    "        wn = (ep.d .* w - diag(ep.Σ) .* ep.a) ./ (ep.d .- diag(ep.Σ))\n",
    "        fave = TruncatedNormal.tnmean.(ep.lb, ep.ub, wn, Σnn)\n",
    "               \n",
    "        for (midx, plt) in enumerate(met_plots)\n",
    "            metidx = findfirst(nz_mets[:id], met[midx])\n",
    "            exidx  = findfirst(epresults[1].rxnsid, ex[midx])\n",
    "            ep_s[idx, midx] = nz_mets[metidx,:c] - fave[exidx] * ξ\n",
    "        end\n",
    "        \n",
    "        slac = -fave[exlacidx] * ξ\n",
    "        snh4 = -fave[exnh4idx] * ξ\n",
    "        \n",
    "        ep_D[idx] = fave[bioidx] / (1 + slac/Klac) / (1 + snh4/Knh4)\n",
    "        ep_X[idx] = ξ * ep_D[idx]\n",
    "    end\n",
    "    \n",
    "    Plots.plot!(plt_X_D, ep_D, ep_X, marker=:5, label=\"alpha=$(α[bioidx])\", color=αcols[αidx], linewidth=5)\n",
    "    plt_X = Plots.plot!(plt_X, ξvals, ep_X, marker=:5, label=\"alpha=$(α[bioidx])\", color=αcols[αidx], linewidth=5)\n",
    "    plt_D = Plots.plot!(plt_D, ξvals, ep_D, marker=:5, label=\"alpha=$(α[bioidx])\", color=αcols[αidx], linewidth=5)\n",
    "    for (midx, plt) in enumerate(met_plots)\n",
    "        Plots.plot!(plt, ξvals, ep_s[:,midx], marker=:5, label=\"alpha=$(α[bioidx])\", color=αcols[αidx], linewidth=5)\n",
    "    end\n",
    "end\n",
    "\n",
    "Plots.savefig(plt_X_D, \"fig/D_vs_X.pdf\")\n",
    "Plots.savefig(plt_X, \"fig/X.pdf\")\n",
    "Plots.savefig(plt_D, \"fig/D.pdf\")\n",
    "for (midx, plt) in enumerate(met_plots)\n",
    "    Plots.savefig(plt, \"fig/$(fname[midx]).pdf\")\n",
    "end"
   ]
  },
  {
   "cell_type": "code",
   "execution_count": null,
   "metadata": {},
   "outputs": [],
   "source": [
    "exglcidx = findfirst(epresults[1].rxnsid, \"EX_glc_D_e\")\n",
    "exglnidx = findfirst(epresults[1].rxnsid, \"EX_gln_L_e\")\n",
    "exlacidx = findfirst(epresults[1].rxnsid, \"EX_lac_L_e\")\n",
    "exnh4idx = findfirst(epresults[1].rxnsid, \"EX_nh4_e\")\n",
    "exgluidx = findfirst(epresults[1].rxnsid, \"EX_glu_L_e\")\n",
    "exforidx = findfirst(epresults[1].rxnsid, \"EX_for_e\")\n",
    "exaspidx = findfirst(epresults[1].rxnsid, \"EX_asp_L_e\")\n",
    "exalaidx = findfirst(epresults[1].rxnsid, \"EX_ala_L_e\")\n",
    "exmetidx = findfirst(epresults[1].rxnsid, \"EX_met_L_e\")\n",
    "\n",
    "bioidx = findfirst(epresults[1].rxnsid, \"Biomass_Reaction\")\n",
    "α = spzeros(size(epresults[1].Σ, 1))\n",
    "α[bioidx] = 5000\n",
    "\n",
    "epX = Vector{Float64}(length(ξvals))\n",
    "epD = Vector{Float64}(length(ξvals))\n",
    "epnh4 = Vector{Float64}(length(ξvals))\n",
    "eplac = Vector{Float64}(length(ξvals))\n",
    "epglc = Vector{Float64}(length(ξvals))\n",
    "epgln = Vector{Float64}(length(ξvals))\n",
    "epglu = Vector{Float64}(length(ξvals))\n",
    "epfor = Vector{Float64}(length(ξvals))\n",
    "epasp = Vector{Float64}(length(ξvals))\n",
    "epala = Vector{Float64}(length(ξvals))\n",
    "epmet = Vector{Float64}(length(ξvals))\n",
    "\n",
    "for (idx, ξ) in enumerate(ξvals)\n",
    "    ep = epresults[idx]\n",
    "    w = MaxEntChemostat2018.EP.get_w(ep, α)\n",
    "    Σnn = ep.d .* diag(ep.Σ) ./ (ep.d .- diag(ep.Σ))\n",
    "    wn = (ep.d .* w - diag(ep.Σ) .* ep.a) ./ (ep.d .- diag(ep.Σ))\n",
    "    fave = TruncatedNormal.tnmean.(ep.lb, ep.ub, wn, Σnn)\n",
    "    \n",
    "    eplac[idx] = nz_mets[lacidx,:c] - fave[exlacidx] * ξ\n",
    "    epnh4[idx] = nz_mets[nh4idx,:c] - fave[exnh4idx] * ξ  \n",
    "    epglc[idx] = nz_mets[glcidx,:c] - fave[exglcidx] * ξ\n",
    "    epgln[idx] = nz_mets[glnidx,:c] - fave[exglnidx] * ξ\n",
    "    epglu[idx] = nz_mets[gluidx,:c] - fave[exgluidx] * ξ\n",
    "    epfor[idx] = nz_mets[foridx,:c] - fave[exforidx] * ξ\n",
    "    epasp[idx] = nz_mets[aspidx,:c] - fave[exaspidx] * ξ\n",
    "    epala[idx] = nz_mets[alaidx,:c] - fave[exaspidx] * ξ\n",
    "    epmet[idx] = nz_mets[metidx,:c] - fave[exaspidx] * ξ\n",
    "        \n",
    "    epD[idx] = fave[bioidx] / (1 + eplac[idx]/Klac) / (1 + epnh4[idx]/Knh4)\n",
    "    epX[idx] = ξ * epD[idx]\n",
    "end"
   ]
  },
  {
   "cell_type": "code",
   "execution_count": null,
   "metadata": {},
   "outputs": [],
   "source": [
    "for ep in epresults\n",
    "    @assert epresults[1].rxnsid == ep.rxnsid\n",
    "    @assert epresults[1].metsid == ep.metsid\n",
    "end"
   ]
  },
  {
   "cell_type": "markdown",
   "metadata": {},
   "source": [
    "### Doubt \n",
    "\"The dependent variables of the plots are not defined!!!\""
   ]
  },
  {
   "cell_type": "code",
   "execution_count": null,
   "metadata": {},
   "outputs": [],
   "source": [
    "plt = Plots.scatter(ξvals, epX,  xlim=(1e-3,100), legend=:topleft, xscale=:log10, marker=:xcross, label=\"alpha=Inf\")\n",
    "Plots.scatter!(plt, ξvals, epX, xscale=:log10, marker=:xcross, label=\"alpha=$(α[bioidx])\")\n",
    "#Plots.savefig(\"fig/x_alpha=$(α[bioidx]).pdf\")"
   ]
  },
  {
   "cell_type": "code",
   "execution_count": null,
   "metadata": {},
   "outputs": [],
   "source": [
    "plt = Plots.scatter(ξvals, epD, legend=:topleft, xscale=:log10, marker=:xcross, label=\"alpha=Inf\")\n",
    "Plots.scatter!(plt, ξvals, epD, xscale=:log10, marker=:xcross, label=\"alpha=$(α[bioidx])\")\n",
    "#Plots.savefig(\"fig/d_alpha=$(α[bioidx]).pdf\")"
   ]
  },
  {
   "cell_type": "code",
   "execution_count": null,
   "metadata": {},
   "outputs": [],
   "source": [
    "plt = Plots.scatter(ξvals, epglc, marker=:xcross, xscale=:log10, label=\"alpha=Inf\")\n",
    "Plots.scatter!(plt, ξvals, epglc, marker=:xcross, xscale=:log10, label=\"alpha=$(α[bioidx])\")\n",
    "#Plots.savefig(\"fig/glc_alpha=$(α[bioidx]).pdf\")"
   ]
  },
  {
   "cell_type": "code",
   "execution_count": null,
   "metadata": {},
   "outputs": [],
   "source": [
    "# plt = Plots.scatter(ξvals, sgln, marker=:xcross, xscale=:log10, label=\"alpha=Inf\")\n",
    "# Plots.scatter!(plt, ξvals, epgln, marker=:xcross, xscale=:log10, label=\"alpha=$(α[bioidx])\")\n",
    "# #Plots.savefig(\"fig/gln_alpha=$(α[bioidx]).pdf\")\n",
    "\n",
    "# plt = Plots.scatter(ξvals, snh4, marker=:xcross, xscale=:log10, label=\"alpha=Inf\")\n",
    "# Plots.scatter!(plt, ξvals, epnh4, marker=:xcross, xscale=:log10, label=\"alpha=$(α[bioidx])\")\n",
    "# #Plots.savefig(\"fig/nh4_alpha=$(α[bioidx]).pdf\")\n",
    "\n",
    "# plt = Plots.scatter(ξvals, slac, xscale=:log10, marker=:xcross, label=\"alpha=Inf\")\n",
    "# Plots.scatter!(plt, ξvals, eplac, xscale=:log10, marker=:xcross, label=\"alpha=$(α[bioidx])\")\n",
    "# #Plots.savefig(\"fig/lac_alpha=$(α[bioidx]).pdf\")\n",
    "\n",
    "# plt = Plots.scatter(ξvals, sglu, xscale=:log10, marker=:xcross, label=\"alpha=Inf\")\n",
    "# Plots.scatter!(plt, ξvals, epglu, xscale=:log10, marker=:xcross, label=\"alpha=$(α[bioidx])\")\n",
    "# #Plots.savefig(\"fig/glu_alpha=$(α[bioidx]).pdf\")\n",
    "\n",
    "# plt = Plots.scatter(ξvals, sfor, xscale=:log10, marker=:xcross, label=\"alpha=Inf\")\n",
    "# Plots.scatter!(plt, ξvals, epfor, xscale=:log10, marker=:xcross, label=\"alpha=$(α[bioidx])\")\n",
    "# #Plots.savefig(\"fig/for_alpha=$(α[bioidx]).pdf\")\n",
    "\n",
    "# plt = Plots.scatter(ξvals, sasp, xscale=:log10, marker=:xcross, label=\"alpha=Inf\")\n",
    "# Plots.scatter!(plt, ξvals, epasp, xscale=:log10, marker=:xcross, label=\"alpha=$(α[bioidx])\")\n",
    "# #Plots.savefig(\"fig/asp_alpha=$(α[bioidx]).pdf\")\n",
    "\n",
    "# plt = Plots.scatter(ξvals, sala, marker=:xcross, xscale=:log10, label=\"alpha=Inf\", xlim=(1e-3,1000))\n",
    "# Plots.scatter!(plt, ξvals, epala, marker=:xcross, xscale=:log10, label=\"alpha=$(α[bioidx])\")\n",
    "# #Plots.savefig(\"fig/ala_alpha=$(α[bioidx]).pdf\")\n",
    "\n",
    "# plt = Plots.scatter(ξvals, smet, xscale=:log10, marker=:xcross, label=\"alpha=Inf\")\n",
    "# Plots.scatter!(plt, ξvals, epmet, xscale=:log10, marker=:xcross, label=\"alpha=$(α[bioidx])\")\n",
    "# #Plots.savefig(\"fig/met_alpha=$(α[bioidx]).pdf\")"
   ]
  },
  {
   "cell_type": "code",
   "execution_count": null,
   "metadata": {},
   "outputs": [],
   "source": []
  }
 ],
 "metadata": {
  "@webio": {
   "lastCommId": null,
   "lastKernelId": null
  },
  "kernelspec": {
   "display_name": "Julia 0.6.4",
   "language": "julia",
   "name": "julia-0.6"
  },
  "language_info": {
   "file_extension": ".jl",
   "mimetype": "application/julia",
   "name": "julia",
   "version": "0.6.4"
  }
 },
 "nbformat": 4,
 "nbformat_minor": 2
}
