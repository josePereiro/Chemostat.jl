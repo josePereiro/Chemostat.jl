{
 "cells": [
  {
   "cell_type": "code",
   "execution_count": 2,
   "metadata": {},
   "outputs": [],
   "source": [
    "using MaxEntChemostat2018;\n",
    "using DataFrames;\n",
    "include(\"/Users/Pereiro/University/Physic/Research/Jose/Chemostat/src/Models.jl\");\n",
    "S, mets, rxns = MaxEntChemostat2018.FBA.load_cho();\n",
    "glc_i = findfirst(mets[:id],\"glc_D_e\");"
   ]
  },
  {
   "cell_type": "code",
   "execution_count": 3,
   "metadata": {},
   "outputs": [
    {
     "data": {
      "text/plain": [
       "GurobiEnv"
      ]
     },
     "execution_count": 3,
     "metadata": {},
     "output_type": "execute_result"
    }
   ],
   "source": [
    "### Code copied from MaxEntChemostat2018 Cossios package.\n",
    "\n",
    "# import ArgParse;\n",
    "import Gurobi; \n",
    "using DataFrames;\n",
    "\n",
    "\"Sets the number of objectives in a Gurobi multi-objective optimization\"\n",
    "gurobi_set_multiobj_n!(gurobi_model::Gurobi.Model, n::Int) = Gurobi.set_intattr!(gurobi_model, \"NumObj\", n)\n",
    "\n",
    "\"Sets an additional objective in a Gurobi multi-objective optimization\"\n",
    "function gurobi_set_multiobj!(gurobi_model::Gurobi.Model, i::Int, c, priority, weight)\n",
    "    @assert length(c) == Gurobi.num_vars(gurobi_model)\n",
    "    oldi = Gurobi.get_int_param(gurobi_model, \"ObjNumber\")\n",
    "    Gurobi.set_int_param!(gurobi_model, \"ObjNumber\", i)\n",
    "    Gurobi.set_dblattrarray!(gurobi_model, \"ObjN\", 1, Gurobi.num_vars(gurobi_model), c)\n",
    "    Gurobi.set_intattr!(gurobi_model, \"ObjNPriority\", priority)\n",
    "    Gurobi.set_dblattr!(gurobi_model, \"ObjNWeight\", weight)\n",
    "    Gurobi.set_int_param!(gurobi_model, \"ObjNumber\", oldi)\n",
    "end\n",
    "\n",
    "\"Changes constrain RHS in a Gurobi optimization\"\n",
    "function gurobi_set_rhs!(gurobi_model::Gurobi.Model, rhs::Vector{Float64})\n",
    "    @assert Gurobi.num_constrs(gurobi_model) == length(rhs)\n",
    "    Gurobi.set_dblattrarray!(gurobi_model, \"RHS\", 1, Gurobi.num_constrs(gurobi_model), rhs)\n",
    "end\n",
    "\n",
    "\"Sets up Gurobi environment options\"\n",
    "function GurobiEnv()\n",
    "    env = Gurobi.Env()\n",
    "    # suppress Gurobi logging output\n",
    "    Gurobi.setparam!(env, \"OutputFlag\", 0)\n",
    "    Gurobi.setparam!(env, \"Quad\", 1)\n",
    "    Gurobi.setparam!(env, \"Method\", 4)\n",
    "    Gurobi.setparam!(env, \"FeasibilityTol\", 1e-9)\n",
    "    Gurobi.setparam!(env, \"OptimalityTol\", 1e-9)\n",
    "    Gurobi.setparam!(env, \"MarkowitzTol\", 0.9)\n",
    "    return env\n",
    "end\n",
    "\n"
   ]
  },
  {
   "cell_type": "code",
   "execution_count": 43,
   "metadata": {},
   "outputs": [
    {
     "data": {
      "text/plain": [
       "find_unfeasible_xi! (generic function with 2 methods)"
      ]
     },
     "execution_count": 43,
     "metadata": {},
     "output_type": "execute_result"
    }
   ],
   "source": [
    "\"\"\"Changes lower bounds of variables in a Gurobi optimization, from MaxEntChemostat2018\"\"\"\n",
    "function gurobi_set_lb!(gurobi_model::Gurobi.Model, lbs::Vector{Float64})\n",
    "    @assert length(lbs) == Gurobi.num_vars(gurobi_model)\n",
    "    Gurobi.set_dblattrarray!(gurobi_model, \"LB\", 1, Gurobi.num_vars(gurobi_model), lbs)\n",
    "end\n",
    "\n",
    "\"Changes upper bounds of variables in a Gurobi optimization, from MaxEntChemostat2018\"\n",
    "function gurobi_set_ub!(gurobi_model::Gurobi.Model, ubs::Vector{Float64})\n",
    "    @assert length(ubs) == Gurobi.num_vars(gurobi_model)\n",
    "    Gurobi.set_dblattrarray!(gurobi_model, \"UB\", 1, Gurobi.num_vars(gurobi_model), ubs)\n",
    "end\n",
    "\n",
    "\"\"\"\n",
    "Get the bound of an uptake reaction.\n",
    "See http://journals.plos.org/ploscompbiol/article?id=10.1371/journal.pcbi.1005835\n",
    "from MaxEntChemostat2018\n",
    "\"\"\"\n",
    "function chemostat_bound(b, c, ξ)::Float64\n",
    "    @assert b ≥ 0 && c ≥ 0 && 0 ≤ ξ < Inf\n",
    "    return c == 0 ? 0. : min(b, c / ξ)\n",
    "end\n",
    "\n",
    "struct FBASolution\n",
    "    ξ::Float64  # X / D\n",
    "    r::Vector{Float64} # internal reaction fluxes\n",
    "    u::Vector{Float64} # uptakes (negative if secretion)\n",
    "    s::Vector{Float64} # metabolite concentrations\n",
    "    μ::Float64 # number of metabolites\n",
    "    ϕ::Float64 # enzymatic mass fraction\n",
    "end\n",
    "\n",
    "function FBASolution(x::AbstractVector, S::AbstractMatrix, mets, rxns, ξ)\n",
    "    m, n = size(S)\n",
    "    @assert length(x) == 2n + 2m + 2\n",
    "    r = x[1:n] .- x[n + (1:n)]\n",
    "    u = x[2n + (1:m)] .- x[2n + m + (1:m)]\n",
    "    s = mets[:c] .- u * ξ\n",
    "    μ = x[2n + 2m + 1]\n",
    "    ϕ = x[2n + 2m + 2]\n",
    "    FBASolution(ξ, r, u, s, μ, ϕ)\n",
    "end\n",
    "\n",
    "\"Solves a Gurobi model. Returns true if model was optimized succesfully.\"\n",
    "function gurobi_solve!(gurobi_model::Gurobi.Model)::Bool\n",
    "    Gurobi.update_model!(gurobi_model)\n",
    "    Gurobi.optimize(gurobi_model)\n",
    "    return Gurobi.get_status(gurobi_model) == :optimal\n",
    "end\n",
    "\n",
    "\"\"\"\n",
    "Returns the maximum value of ξ for which the model is\n",
    "feasible, to .within tolerance 'tol'.\n",
    "\"\"\"\n",
    "function find_max_xi!(LP, S, mets, rxns; tol = 0.01)\n",
    "    @assert tol > 0\n",
    "\n",
    "    ξ0 = 0.\n",
    "    ξ1 = find_unfeasible_xi!(LP, S, mets, rxns)\n",
    "\n",
    "    while true\n",
    "        ξ = .5ξ0 + .5ξ1\n",
    "        if ξ1 - ξ0 ≤ tol\n",
    "            return ξ\n",
    "        elseif model_solve!(LP, S, mets, rxns, ξ) == nothing\n",
    "            ξ1 = ξ\n",
    "        else\n",
    "            ξ0 = ξ\n",
    "        end\n",
    "    end\n",
    "\n",
    "end\n",
    "\n",
    "function find_max_xi(model::GEMModel; tol = 0.01)\n",
    "    @assert tol > 0\n",
    "    model = convert_to_extended(model);\n",
    "    S, mets, rxns = model.S, model.mets, model.rxns;\n",
    "    check_extended_compat(S, mets, rxns);\n",
    "    return find_max_xi!(gurobi_problem(S, mets, rxns), S, mets, rxns; tol=tol);\n",
    "end\n",
    "find_max_xi(S, mets, rxns; tol = 0.01) = find_max_xi(GEMModel(S,mets, rxns); tol = tol);\n",
    "\n",
    "function find_unfeasible_xi!(LP, S, mets, rxns, ξ = 150)\n",
    "    @assert 0 < ξ\n",
    "    @assert ξ < Inf\n",
    "    fbasol = model_solve!(LP, S, mets, rxns, ξ)\n",
    "    if fbasol == nothing\n",
    "        return ξ\n",
    "    else\n",
    "        return find_unfeasible_xi!(LP, S, mets, rxns, 10ξ)\n",
    "    end\n",
    "end"
   ]
  },
  {
   "cell_type": "code",
   "execution_count": 5,
   "metadata": {},
   "outputs": [
    {
     "data": {
      "text/plain": [
       "gurobi_problem"
      ]
     },
     "execution_count": 5,
     "metadata": {},
     "output_type": "execute_result"
    }
   ],
   "source": [
    "\"\"\"\n",
    "    Create a unsolved Linear Programming problem, from MaxEntChemostat2018, \n",
    "    from MaxEntChemostat2018\n",
    "\"\"\"\n",
    "function gurobi_problem(S,mets,rxns)\n",
    "    m, n = size(S)\n",
    "\n",
    "    # variables\n",
    "    x = zeros(2n + 2m + 2)   # [r+, r-, u+, u-, μ, ϕ], all the variables\n",
    "\n",
    "    upper::Vector{Float64} = [rxns[:pub]; -rxns[:nub]; mets[:pV]; -mets[:nV]; Inf; 1.0] # upper bounds\n",
    "    lower::Vector{Float64} = [rxns[:plb]; -rxns[:nlb]; mets[:pL]; -mets[:nL]; 0.0; 0.0] # lower bounds\n",
    "\n",
    "    @assert length(upper) == length(x) == 2m + 2n + 2\n",
    "    @assert length(lower) == length(x) == 2m + 2n + 2\n",
    "\n",
    "    # equality constrains\n",
    "    W = sparse([ S              -S          speye(m)    -speye(m)   -mets[:y]   spzeros(m)\n",
    "                 rxns[:ap]'     rxns[:an]'  zeros(m)'   zeros(m)'  0           -1 ])\n",
    "\n",
    "    @assert Base.size(W) == (m + 1, length(x))\n",
    "\n",
    "    # the problem has the form:\n",
    "    # max μ s.t. W⋅x = [e,0] and 0 ≤ x ≤ upper.\n",
    "    # with the secondary objective: min ϕv\n",
    "\n",
    "    LP = Gurobi.gurobi_model(GurobiEnv(), sense = :maximize,\n",
    "                             Aeq = W, beq = [collect(mets[:e]); 0],\n",
    "                             lb = lower, ub = upper, f = zeros(x))\n",
    "\n",
    "    gurobi_set_multiobj_n!(LP, 2)\n",
    "    gurobi_set_multiobj!(LP, 0, [zeros(2n + 2m); 1;  0], 10, 1.0)  # max μ\n",
    "    gurobi_set_multiobj!(LP, 1, [zeros(2n + 2m); 0; -1], 5,  1.0)  # min ϕ\n",
    "\n",
    "    return LP\n",
    "end"
   ]
  },
  {
   "cell_type": "code",
   "execution_count": 12,
   "metadata": {},
   "outputs": [
    {
     "data": {
      "text/plain": [
       "model_solve! (generic function with 1 method)"
      ]
     },
     "execution_count": 12,
     "metadata": {},
     "output_type": "execute_result"
    }
   ],
   "source": [
    "function model_solve!(LP, S, mets, rxns, ξ)\n",
    "    @assert 0 ≤ ξ < Inf\n",
    "    m, n = size(S)\n",
    "\n",
    "    upper::Vector{Float64} = [rxns[:pub]; -rxns[:nub]; mets[:pV]; -mets[:nV]; Inf; 1.]     # upper bounds\n",
    "    view(upper, 2n + (1:m)) .= chemostat_bound.(mets[:pV], mets[:c], ξ) # exchanges\n",
    "    gurobi_set_ub!(LP, upper)\n",
    "\n",
    "    lower::Vector{Float64} = [rxns[:plb]; -rxns[:nlb]; mets[:pL]; -mets[:nL]; 0.0; 0.0]     # lower bounds\n",
    "    view(lower, 2n + (1:m)) .= chemostat_bound.(mets[:pL], mets[:c], ξ) # exchanges\n",
    "    gurobi_set_lb!(LP, lower)\n",
    "\n",
    "    gurobi_solve!(LP) || return nothing\n",
    "    x = Gurobi.get_solution(LP)\n",
    "\n",
    "    return FBASolution(x, S, mets, rxns, ξ)\n",
    "end"
   ]
  },
  {
   "cell_type": "code",
   "execution_count": 29,
   "metadata": {},
   "outputs": [],
   "source": [
    "function fba_w_mc_chemostat(model::GEMModel, ξ::Float64)\n",
    "    model = convert_to_extended(model);\n",
    "    S, mets, rxns = model.S, model.mets, model.rxns;\n",
    "    check_extended_compat(S, mets, rxns);\n",
    "    return model_solve!(gurobi_problem(S,mets,rxns), S, mets,rxns, ξ);\n",
    "end\n",
    "function fba_w_mc_chemostat(model::GEMModel, ξrange::Vector{Float64})\n",
    "    model = convert_to_extended(model);\n",
    "    S, mets, rxns = model.S, model.mets, model.rxns;\n",
    "    check_extended_compat(S, mets, rxns);\n",
    "    LP = gurobi_problem(S,mets,rxns);\n",
    "    return [model_solve!(LP, S, mets,rxns, ξ) for ξ in ξrange];\n",
    "end\n",
    "fba_w_mc_chemostat(S, mets, rxns, ξ::Float64) = fba_w_mc_chemostat(GEMModel(S, mets, rxns), ξ);\n",
    "fba_w_mc_chemostat(S, mets, rxns, ξrange::Vector{Float64}) = \n",
    "    fba_w_mc_chemostat(GEMModel(S, mets, rxns), ξrange);"
   ]
  },
  {
   "cell_type": "code",
   "execution_count": 37,
   "metadata": {},
   "outputs": [],
   "source": [
    "model = GEMModel(S,mets,rxns,:extended);\n",
    "model.mets[:pV][glc_i] = 0.1;\n",
    "model.mets[:pL][glc_i] = 0.1;"
   ]
  },
  {
   "cell_type": "code",
   "execution_count": 39,
   "metadata": {},
   "outputs": [
    {
     "name": "stdout",
     "output_type": "stream",
     "text": [
      "Academic license - for non-commercial use only\n",
      "ξ: 1.0\n",
      "ϕ: 1.0\n",
      "μ: 0.08912234877687034\n",
      "glc_ex: 0.1\n",
      "\n",
      "ξ: 101.0\n",
      "ϕ: 0.24746013027399272\n",
      "μ: 0.005357550521344402\n",
      "glc_ex: 0.1\n",
      "\n",
      "ξ: 201.0\n",
      "ϕ: 0.22464534775908732\n",
      "μ: 0.0026921025007750473\n",
      "glc_ex: 0.1\n",
      "\n",
      "ξ: 301.0\n",
      "ϕ: 0.2190298159422969\n",
      "μ: 0.0017977162878929718\n",
      "glc_ex: 0.08298271760797342\n",
      "\n",
      "ξ: 401.0\n",
      "ϕ: 0.21978770439599182\n",
      "μ: 0.0013494079866727792\n",
      "glc_ex: 0.062288773067331674\n",
      "\n"
     ]
    }
   ],
   "source": [
    "fbaress = fba_w_mc_chemostat(S, mets, rxns, collect(1:100:500))\n",
    "\n",
    "for fbares in fbaress\n",
    "    println(\"ξ: \", fbares.ξ);\n",
    "    println(\"ϕ: \", fbares.ϕ);\n",
    "    println(\"μ: \", fbares.μ);\n",
    "    println(\"glc_ex: \", fbares.u[glc_i]);\n",
    "    println();\n",
    "end"
   ]
  },
  {
   "cell_type": "code",
   "execution_count": 44,
   "metadata": {},
   "outputs": [
    {
     "name": "stdout",
     "output_type": "stream",
     "text": [
      "Academic license - for non-commercial use only\n",
      "490.3421401977539\n"
     ]
    }
   ],
   "source": [
    "ξmax = find_max_xi(model);\n",
    "println(ξmax)"
   ]
  },
  {
   "cell_type": "code",
   "execution_count": null,
   "metadata": {},
   "outputs": [],
   "source": []
  },
  {
   "cell_type": "code",
   "execution_count": null,
   "metadata": {},
   "outputs": [],
   "source": []
  },
  {
   "cell_type": "code",
   "execution_count": null,
   "metadata": {},
   "outputs": [],
   "source": []
  },
  {
   "cell_type": "code",
   "execution_count": null,
   "metadata": {},
   "outputs": [],
   "source": []
  },
  {
   "cell_type": "code",
   "execution_count": 40,
   "metadata": {},
   "outputs": [
    {
     "name": "stdout",
     "output_type": "stream",
     "text": [
      "Academic license - for non-commercial use only\n",
      "ϕ: 0.9890140938296944\n",
      "μ: 0.04866073581565542\n",
      "glc_ex: 0.1\n"
     ]
    }
   ],
   "source": [
    "LP = MaxEntChemostat2018.FBA.gurobi_problem(S,mets,rxns);\n",
    "fbares = MaxEntChemostat2018.FBA.model_solve!(LP, S,mets,rxns, 10);\n",
    "\n",
    "println(\"ϕ: \", fbares.ϕ);\n",
    "println(\"μ: \", fbares.μ);\n",
    "println(\"glc_ex: \", fbares.u[glc_i])"
   ]
  },
  {
   "cell_type": "code",
   "execution_count": 32,
   "metadata": {},
   "outputs": [],
   "source": [
    "find_max_xi(model)"
   ]
  },
  {
   "cell_type": "code",
   "execution_count": 12,
   "metadata": {},
   "outputs": [
    {
     "ename": "LoadError",
     "evalue": "\u001b[91mDimensionMismatch(\"Cannot multiply two vectors\")\u001b[39m",
     "output_type": "error",
     "traceback": [
      "\u001b[91mDimensionMismatch(\"Cannot multiply two vectors\")\u001b[39m",
      "",
      "Stacktrace:",
      " [1] \u001b[1m*\u001b[22m\u001b[22m\u001b[1m(\u001b[22m\u001b[22m::Array{Int64,1}, ::Array{Int64,1}\u001b[1m)\u001b[22m\u001b[22m at \u001b[1m./linalg/rowvector.jl:184\u001b[22m\u001b[22m",
      " [2] \u001b[1minclude_string\u001b[22m\u001b[22m\u001b[1m(\u001b[22m\u001b[22m::String, ::String\u001b[1m)\u001b[22m\u001b[22m at \u001b[1m./loading.jl:522\u001b[22m\u001b[22m"
     ]
    }
   ],
   "source": [
    "\n",
    "maxent_fbares"
   ]
  },
  {
   "cell_type": "code",
   "execution_count": 24,
   "metadata": {},
   "outputs": [
    {
     "data": {
      "text/plain": [
       "false"
      ]
     },
     "execution_count": 24,
     "metadata": {},
     "output_type": "execute_result"
    }
   ],
   "source": [
    "isfinite(-Inf)"
   ]
  },
  {
   "cell_type": "code",
   "execution_count": null,
   "metadata": {},
   "outputs": [],
   "source": []
  }
 ],
 "metadata": {
  "@webio": {
   "lastCommId": null,
   "lastKernelId": null
  },
  "kernelspec": {
   "display_name": "Julia 0.6.4",
   "language": "julia",
   "name": "julia-0.6"
  },
  "language_info": {
   "file_extension": ".jl",
   "mimetype": "application/julia",
   "name": "julia",
   "version": "0.6.4"
  }
 },
 "nbformat": 4,
 "nbformat_minor": 2
}
