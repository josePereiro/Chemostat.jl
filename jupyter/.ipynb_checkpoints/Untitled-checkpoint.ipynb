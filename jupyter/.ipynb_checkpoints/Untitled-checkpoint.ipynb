{
 "cells": [
  {
   "cell_type": "code",
   "execution_count": 1,
   "metadata": {},
   "outputs": [
    {
     "name": "stderr",
     "output_type": "stream",
     "text": [
      "\u001b[1m\u001b[36mINFO: \u001b[39m\u001b[22m\u001b[36mPrecompiling module CPLEX.\n",
      "\u001b[39m\u001b[1m\u001b[33mWARNING: \u001b[39m\u001b[22m\u001b[33muuid4(rng) is deprecated, use Compat.UUIDs.uuid4(rng) instead.\u001b[39m\n",
      "Stacktrace:\n",
      " [1] \u001b[1mdepwarn\u001b[22m\u001b[22m\u001b[1m(\u001b[22m\u001b[22m::String, ::Symbol\u001b[1m)\u001b[22m\u001b[22m at \u001b[1m./deprecated.jl:70\u001b[22m\u001b[22m\n",
      " [2] \u001b[1muuid4\u001b[22m\u001b[22m\u001b[1m(\u001b[22m\u001b[22m::MersenneTwister\u001b[1m)\u001b[22m\u001b[22m at \u001b[1m./deprecated.jl:57\u001b[22m\u001b[22m\n",
      " [3] \u001b[1mmsg_header\u001b[22m\u001b[22m at \u001b[1m/Users/Pereiro/.julia/v0.6/IJulia/src/msg.jl:18\u001b[22m\u001b[22m [inlined]\n",
      " [4] \u001b[1mmsg_pub\u001b[22m\u001b[22m\u001b[1m(\u001b[22m\u001b[22m::IJulia.Msg, ::String, ::Dict{String,String}, ::Dict{String,Any}\u001b[1m)\u001b[22m\u001b[22m at \u001b[1m/Users/Pereiro/.julia/v0.6/IJulia/src/msg.jl:30\u001b[22m\u001b[22m (repeats 2 times)\n",
      " [5] \u001b[1msend_stream\u001b[22m\u001b[22m\u001b[1m(\u001b[22m\u001b[22m::String\u001b[1m)\u001b[22m\u001b[22m at \u001b[1m/Users/Pereiro/.julia/v0.6/IJulia/src/stdio.jl:172\u001b[22m\u001b[22m\n",
      " [6] \u001b[1msend_stdio\u001b[22m\u001b[22m\u001b[1m(\u001b[22m\u001b[22m::String\u001b[1m)\u001b[22m\u001b[22m at \u001b[1m/Users/Pereiro/.julia/v0.6/IJulia/src/stdio.jl:130\u001b[22m\u001b[22m\n",
      " [7] \u001b[1m(::Base.##302#303{IJulia.#send_stderr,Timer})\u001b[22m\u001b[22m\u001b[1m(\u001b[22m\u001b[22m\u001b[1m)\u001b[22m\u001b[22m at \u001b[1m./event.jl:436\u001b[22m\u001b[22m\n",
      "while loading /Users/Pereiro/.julia/v0.6/COBRA/src/COBRA.jl, in expression starting on line 27\n",
      "\u001b[1m\u001b[91mERROR: \u001b[39m\u001b[22mLoadError: \u001b[91mCPLEX not properly installed. Please run Pkg.build(\"CPLEX\")\u001b[39m\n",
      "Stacktrace:\n",
      " [1] \u001b[1merror\u001b[22m\u001b[22m\u001b[1m(\u001b[22m\u001b[22m::String\u001b[1m)\u001b[22m\u001b[22m at \u001b[1m./error.jl:21\u001b[22m\u001b[22m\n",
      " [2] \u001b[1minclude_from_node1\u001b[22m\u001b[22m\u001b[1m(\u001b[22m\u001b[22m::String\u001b[1m)\u001b[22m\u001b[22m at \u001b[1m./loading.jl:576\u001b[22m\u001b[22m\n",
      " [3] \u001b[1minclude\u001b[22m\u001b[22m\u001b[1m(\u001b[22m\u001b[22m::String\u001b[1m)\u001b[22m\u001b[22m at \u001b[1m./sysimg.jl:14\u001b[22m\u001b[22m\n",
      " [4] \u001b[1manonymous\u001b[22m\u001b[22m at \u001b[1m./<missing>:2\u001b[22m\u001b[22m\n",
      "while loading /Users/Pereiro/.julia/v0.6/CPLEX/src/CPLEX.jl, in expression starting on line 16\n",
      "WARNING: could not import TruncatedNormal.gauss2Dtruncstats into EP\n",
      "WARNING: could not import TruncatedNormal.R into EP\n"
     ]
    }
   ],
   "source": [
    "using MaxEntChemostat2018;"
   ]
  },
  {
   "cell_type": "code",
   "execution_count": 2,
   "metadata": {},
   "outputs": [
    {
     "data": {
      "text/plain": [
       "(\n",
       "  [8   ,    1]  =  1.0\n",
       "  [14  ,    1]  =  -1.0\n",
       "  [15  ,    1]  =  -1.0\n",
       "  [16  ,    1]  =  1.0\n",
       "  [17  ,    1]  =  1.0\n",
       "  [3   ,    2]  =  -1.0\n",
       "  [8   ,    2]  =  -1.0\n",
       "  [11  ,    2]  =  1.0\n",
       "  [12  ,    2]  =  -1.0\n",
       "  [13  ,    2]  =  1.0\n",
       "  ⋮\n",
       "  [451 , 3574]  =  -424.0\n",
       "  [2054, 3574]  =  1.0\n",
       "  [84  , 3575]  =  -1.0\n",
       "  [204 , 3575]  =  1.0\n",
       "  [303 , 3575]  =  -1.0\n",
       "  [304 , 3575]  =  1.0\n",
       "  [1742, 3576]  =  1.0\n",
       "  [1744, 3576]  =  -1.0\n",
       "  [1247, 3577]  =  1.0\n",
       "  [1936, 3577]  =  -1.0\n",
       "  [600 , 3578]  =  -1.0, 2054×6 DataFrames.DataFrame\n",
       "│ Row  │ id         │ y        │ e        │ L   │ V   │ c   │\n",
       "├──────┼────────────┼──────────┼──────────┼─────┼─────┼─────┤\n",
       "│ 1    │ h2o_r      │ 0.0      │ 0.0      │ 0.0 │ 0.0 │ 0.0 │\n",
       "│ 2    │ h_r        │ 0.0      │ 0.0      │ 0.0 │ 0.0 │ 0.0 │\n",
       "│ 3    │ o2_c       │ 0.0      │ 0.0      │ 0.0 │ 0.0 │ 0.0 │\n",
       "│ 4    │ nh4_c      │ 0.0      │ 0.0      │ 0.0 │ 0.0 │ 0.0 │\n",
       "│ 5    │ h2o2_c     │ 0.0      │ 0.0      │ 0.0 │ 0.0 │ 0.0 │\n",
       "│ 6    │ pro_L_c    │ 0.22206  │ 0.0      │ 0.0 │ 0.0 │ 0.0 │\n",
       "│ 7    │ nad_c      │ 0.0      │ 0.0      │ 0.0 │ 0.0 │ 0.0 │\n",
       "│ 8    │ h_c        │ -29.8303 │ -2.24868 │ 0.0 │ 0.0 │ 0.0 │\n",
       "│ 9    │ 1pyr5c_c   │ 0.0      │ 0.0      │ 0.0 │ 0.0 │ 0.0 │\n",
       "│ 10   │ nadh_c     │ 0.0      │ 0.0      │ 0.0 │ 0.0 │ 0.0 │\n",
       "│ 11   │ nadp_c     │ 0.0      │ 0.0      │ 0.0 │ 0.0 │ 0.0 │\n",
       "⋮\n",
       "│ 2043 │ CE4874_c   │ 0.0      │ 0.0      │ 0.0 │ 0.0 │ 0.0 │\n",
       "│ 2044 │ subeac_x   │ 0.0      │ 0.0      │ 0.0 │ 0.0 │ 0.0 │\n",
       "│ 2045 │ sebacid_x  │ 0.0      │ 0.0      │ 0.0 │ 0.0 │ 0.0 │\n",
       "│ 2046 │ subeac_c   │ 0.0      │ 0.0      │ 0.0 │ 0.0 │ 0.0 │\n",
       "│ 2047 │ c8dc_x     │ 0.0      │ 0.0      │ 0.0 │ 0.0 │ 0.0 │\n",
       "│ 2048 │ thmmp_m    │ 0.0      │ 0.0      │ 0.0 │ 0.0 │ 0.0 │\n",
       "│ 2049 │ 2aobut_c   │ 0.0      │ 0.0      │ 0.0 │ 0.0 │ 0.0 │\n",
       "│ 2050 │ dolichol_r │ 0.0      │ 0.0      │ 0.0 │ 0.0 │ 0.0 │\n",
       "│ 2051 │ epoIm_r    │ 0.0      │ 0.0      │ 0.0 │ 0.0 │ 0.0 │\n",
       "│ 2052 │ peptide_c  │ 0.0      │ 0.0      │ 0.0 │ 0.0 │ 0.0 │\n",
       "│ 2053 │ igg_hc_r   │ 0.0      │ 0.0      │ 0.0 │ 0.0 │ 0.0 │\n",
       "│ 2054 │ igg_lc_r   │ 0.0      │ 0.0      │ 0.0 │ 0.0 │ 0.0 │, 3578×5 DataFrames.DataFrame\n",
       "│ Row  │ id              │ lb      │ ub     │ ap         │ an         │\n",
       "├──────┼─────────────────┼─────────┼────────┼────────────┼────────────┤\n",
       "│ 1    │ 4NPHSULT        │ 0.0     │ 1000.0 │ 0.00968661 │ 0.00968661 │\n",
       "│ 2    │ FAH1            │ 0.0     │ 1000.0 │ 0.012151   │ 0.012151   │\n",
       "│ 3    │ FAH2            │ 0.0     │ 1000.0 │ 0.012151   │ 0.012151   │\n",
       "│ 4    │ FAH3            │ 0.0     │ 1000.0 │ 0.012151   │ 0.012151   │\n",
       "│ 5    │ P4502C18        │ 0.0     │ 1000.0 │ 0.012151   │ 0.012151   │\n",
       "│ 6    │ P4502C8         │ 0.0     │ 1000.0 │ 0.012151   │ 0.012151   │\n",
       "│ 7    │ P4502E1         │ 0.0     │ 1000.0 │ 0.012151   │ 0.012151   │\n",
       "│ 8    │ FAS100ACP       │ 0.0     │ 1000.0 │ 0.012151   │ 0.012151   │\n",
       "│ 9    │ FAS140ACP       │ 0.0     │ 1000.0 │ 0.012151   │ 0.012151   │\n",
       "│ 10   │ FAS160ACP       │ 0.0     │ 1000.0 │ 0.012151   │ 0.012151   │\n",
       "│ 11   │ FAS180ACP       │ 0.0     │ 1000.0 │ 0.012151   │ 0.012151   │\n",
       "⋮\n",
       "│ 3567 │ SK_Tyr_ggn_c_   │ -0.1    │ 1000.0 │ 0.012151   │ 0.012151   │\n",
       "│ 3568 │ FAOXC15ATPx     │ 0.0     │ 1000.0 │ 0.012151   │ 0.012151   │\n",
       "│ 3569 │ FAOXC16Brx      │ 0.0     │ 1000.0 │ 0.012151   │ 0.012151   │\n",
       "│ 3570 │ LNLNCGCOAtx     │ -1000.0 │ 1000.0 │ 0.012151   │ 0.012151   │\n",
       "│ 3571 │ epo_translation │ 0.0     │ 1000.0 │ 0.012151   │ 0.012151   │\n",
       "│ 3572 │ epo_degradation │ 0.0     │ 1000.0 │ 0.012151   │ 0.012151   │\n",
       "│ 3573 │ igg_hc          │ 0.0     │ 1000.0 │ 0.012151   │ 0.012151   │\n",
       "│ 3574 │ igg_lc          │ 0.0     │ 1000.0 │ 0.012151   │ 0.012151   │\n",
       "│ 3575 │ r2095           │ -1000.0 │ 1000.0 │ 0.012151   │ 0.012151   │\n",
       "│ 3576 │ C8CRNt          │ 0.0     │ 1000.0 │ 0.012151   │ 0.012151   │\n",
       "│ 3577 │ MALCRNt         │ 0.0     │ 1000.0 │ 0.012151   │ 0.012151   │\n",
       "│ 3578 │ SK_pre_prot_r_  │ -0.1    │ 1000.0 │ 0.012151   │ 0.012151   │)"
      ]
     },
     "execution_count": 2,
     "metadata": {},
     "output_type": "execute_result"
    }
   ],
   "source": [
    "s, mets, rxns  = MaxEntChemostat2018.FBA.load_cho()"
   ]
  },
  {
   "cell_type": "code",
   "execution_count": 6,
   "metadata": {},
   "outputs": [
    {
     "name": "stderr",
     "output_type": "stream",
     "text": [
      "\u001b[1m\u001b[33mWARNING: \u001b[39m\u001b[22m\u001b[33mfilter(flt, itr) is deprecated, use Iterators.filter(flt, itr) instead.\u001b[39m\n",
      "Stacktrace:\n",
      " [1] \u001b[1mdepwarn\u001b[22m\u001b[22m\u001b[1m(\u001b[22m\u001b[22m::String, ::Symbol\u001b[1m)\u001b[22m\u001b[22m at \u001b[1m./deprecated.jl:70\u001b[22m\u001b[22m\n",
      " [2] \u001b[1mfilter\u001b[22m\u001b[22m\u001b[1m(\u001b[22m\u001b[22m::Function, ::DataFrames.DFRowIterator{DataFrames.DataFrame}\u001b[1m)\u001b[22m\u001b[22m at \u001b[1m./deprecated.jl:57\u001b[22m\u001b[22m\n",
      " [3] \u001b[1minclude_string\u001b[22m\u001b[22m\u001b[1m(\u001b[22m\u001b[22m::String, ::String\u001b[1m)\u001b[22m\u001b[22m at \u001b[1m./loading.jl:522\u001b[22m\u001b[22m\n",
      " [4] \u001b[1msoftscope_include_string\u001b[22m\u001b[22m\u001b[1m(\u001b[22m\u001b[22m::Module, ::String, ::String\u001b[1m)\u001b[22m\u001b[22m at \u001b[1m/Users/Pereiro/.julia/v0.6/SoftGlobalScope/src/SoftGlobalScope.jl:66\u001b[22m\u001b[22m\n",
      " [5] \u001b[1mexecute_request\u001b[22m\u001b[22m\u001b[1m(\u001b[22m\u001b[22m::ZMQ.Socket, ::IJulia.Msg\u001b[1m)\u001b[22m\u001b[22m at \u001b[1m/Users/Pereiro/.julia/v0.6/IJulia/src/execute_request.jl:193\u001b[22m\u001b[22m\n",
      " [6] \u001b[1m(::Compat.#inner#6{Array{Any,1},IJulia.#execute_request,Tuple{ZMQ.Socket,IJulia.Msg}})\u001b[22m\u001b[22m\u001b[1m(\u001b[22m\u001b[22m\u001b[1m)\u001b[22m\u001b[22m at \u001b[1m/Users/Pereiro/.julia/v0.6/Compat/src/Compat.jl:125\u001b[22m\u001b[22m\n",
      " [7] \u001b[1meventloop\u001b[22m\u001b[22m\u001b[1m(\u001b[22m\u001b[22m::ZMQ.Socket\u001b[1m)\u001b[22m\u001b[22m at \u001b[1m/Users/Pereiro/.julia/v0.6/IJulia/src/eventloop.jl:8\u001b[22m\u001b[22m\n",
      " [8] \u001b[1m(::IJulia.##13#16)\u001b[22m\u001b[22m\u001b[1m(\u001b[22m\u001b[22m\u001b[1m)\u001b[22m\u001b[22m at \u001b[1m./task.jl:335\u001b[22m\u001b[22m\n",
      "while loading In[6], in expression starting on line 1\n"
     ]
    },
    {
     "data": {
      "text/plain": [
       "Base.Iterators.Filter{##5#6,DataFrames.DFRowIterator{DataFrames.DataFrame}}(#5, DataFrames.DFRowIterator{DataFrames.DataFrame}(3578×5 DataFrames.DataFrame\n",
       "│ Row  │ id              │ lb      │ ub     │ ap         │ an         │\n",
       "├──────┼─────────────────┼─────────┼────────┼────────────┼────────────┤\n",
       "│ 1    │ 4NPHSULT        │ 0.0     │ 1000.0 │ 0.00968661 │ 0.00968661 │\n",
       "│ 2    │ FAH1            │ 0.0     │ 1000.0 │ 0.012151   │ 0.012151   │\n",
       "│ 3    │ FAH2            │ 0.0     │ 1000.0 │ 0.012151   │ 0.012151   │\n",
       "│ 4    │ FAH3            │ 0.0     │ 1000.0 │ 0.012151   │ 0.012151   │\n",
       "│ 5    │ P4502C18        │ 0.0     │ 1000.0 │ 0.012151   │ 0.012151   │\n",
       "│ 6    │ P4502C8         │ 0.0     │ 1000.0 │ 0.012151   │ 0.012151   │\n",
       "│ 7    │ P4502E1         │ 0.0     │ 1000.0 │ 0.012151   │ 0.012151   │\n",
       "│ 8    │ FAS100ACP       │ 0.0     │ 1000.0 │ 0.012151   │ 0.012151   │\n",
       "│ 9    │ FAS140ACP       │ 0.0     │ 1000.0 │ 0.012151   │ 0.012151   │\n",
       "│ 10   │ FAS160ACP       │ 0.0     │ 1000.0 │ 0.012151   │ 0.012151   │\n",
       "│ 11   │ FAS180ACP       │ 0.0     │ 1000.0 │ 0.012151   │ 0.012151   │\n",
       "⋮\n",
       "│ 3567 │ SK_Tyr_ggn_c_   │ -0.1    │ 1000.0 │ 0.012151   │ 0.012151   │\n",
       "│ 3568 │ FAOXC15ATPx     │ 0.0     │ 1000.0 │ 0.012151   │ 0.012151   │\n",
       "│ 3569 │ FAOXC16Brx      │ 0.0     │ 1000.0 │ 0.012151   │ 0.012151   │\n",
       "│ 3570 │ LNLNCGCOAtx     │ -1000.0 │ 1000.0 │ 0.012151   │ 0.012151   │\n",
       "│ 3571 │ epo_translation │ 0.0     │ 1000.0 │ 0.012151   │ 0.012151   │\n",
       "│ 3572 │ epo_degradation │ 0.0     │ 1000.0 │ 0.012151   │ 0.012151   │\n",
       "│ 3573 │ igg_hc          │ 0.0     │ 1000.0 │ 0.012151   │ 0.012151   │\n",
       "│ 3574 │ igg_lc          │ 0.0     │ 1000.0 │ 0.012151   │ 0.012151   │\n",
       "│ 3575 │ r2095           │ -1000.0 │ 1000.0 │ 0.012151   │ 0.012151   │\n",
       "│ 3576 │ C8CRNt          │ 0.0     │ 1000.0 │ 0.012151   │ 0.012151   │\n",
       "│ 3577 │ MALCRNt         │ 0.0     │ 1000.0 │ 0.012151   │ 0.012151   │\n",
       "│ 3578 │ SK_pre_prot_r_  │ -0.1    │ 1000.0 │ 0.012151   │ 0.012151   │))"
      ]
     },
     "execution_count": 6,
     "metadata": {},
     "output_type": "execute_result"
    }
   ],
   "source": [
    "filter((row) -> row[:an] > 100, DataFrames.eachrow(rxns))"
   ]
  },
  {
   "cell_type": "code",
   "execution_count": 12,
   "metadata": {},
   "outputs": [
    {
     "data": {
      "text/markdown": [
       "Returns a list of supported backends\n"
      ],
      "text/plain": [
       "Returns a list of supported backends\n"
      ]
     },
     "execution_count": 12,
     "metadata": {},
     "output_type": "execute_result"
    }
   ],
   "source": [
    "?backends()"
   ]
  },
  {
   "cell_type": "code",
   "execution_count": 13,
   "metadata": {},
   "outputs": [
    {
     "data": {
      "text/markdown": [
       "Returns the current plotting package name.  Initializes package on first call.\n"
      ],
      "text/plain": [
       "Returns the current plotting package name.  Initializes package on first call.\n"
      ]
     },
     "execution_count": 13,
     "metadata": {},
     "output_type": "execute_result"
    }
   ],
   "source": [
    "?backend()"
   ]
  },
  {
   "cell_type": "code",
   "execution_count": 14,
   "metadata": {},
   "outputs": [
    {
     "data": {
      "text/plain": [
       "Plots.GRBackend()"
      ]
     },
     "execution_count": 14,
     "metadata": {},
     "output_type": "execute_result"
    }
   ],
   "source": []
  },
  {
   "cell_type": "code",
   "execution_count": null,
   "metadata": {},
   "outputs": [],
   "source": []
  }
 ],
 "metadata": {
  "@webio": {
   "lastCommId": null,
   "lastKernelId": null
  },
  "kernelspec": {
   "display_name": "Julia 0.6.4",
   "language": "julia",
   "name": "julia-0.6"
  },
  "language_info": {
   "file_extension": ".jl",
   "mimetype": "application/julia",
   "name": "julia",
   "version": "0.6.4"
  }
 },
 "nbformat": 4,
 "nbformat_minor": 2
}
