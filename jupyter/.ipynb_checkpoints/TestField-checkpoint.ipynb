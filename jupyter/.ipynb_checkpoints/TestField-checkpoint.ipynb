{
 "cells": [
  {
   "cell_type": "code",
   "execution_count": 2,
   "metadata": {},
   "outputs": [
    {
     "name": "stderr",
     "output_type": "stream",
     "text": [
      "\u001b[1m\u001b[36mINFO: \u001b[39m\u001b[22m\u001b[36mPrecompiling module CPLEX.\n",
      "\u001b[39m\u001b[1m\u001b[33mWARNING: \u001b[39m\u001b[22m\u001b[33muuid4(rng) is deprecated, use Compat.UUIDs.uuid4(rng) instead.\u001b[39m\n",
      "Stacktrace:\n",
      " [1] \u001b[1mdepwarn\u001b[22m\u001b[22m\u001b[1m(\u001b[22m\u001b[22m::String, ::Symbol\u001b[1m)\u001b[22m\u001b[22m at \u001b[1m./deprecated.jl:70\u001b[22m\u001b[22m\n",
      " [2] \u001b[1muuid4\u001b[22m\u001b[22m\u001b[1m(\u001b[22m\u001b[22m::MersenneTwister\u001b[1m)\u001b[22m\u001b[22m at \u001b[1m./deprecated.jl:57\u001b[22m\u001b[22m\n",
      " [3] \u001b[1mmsg_header\u001b[22m\u001b[22m at \u001b[1m/Users/Pereiro/.julia/v0.6/IJulia/src/msg.jl:18\u001b[22m\u001b[22m [inlined]\n",
      " [4] \u001b[1mmsg_pub\u001b[22m\u001b[22m\u001b[1m(\u001b[22m\u001b[22m::IJulia.Msg, ::String, ::Dict{String,String}, ::Dict{String,Any}\u001b[1m)\u001b[22m\u001b[22m at \u001b[1m/Users/Pereiro/.julia/v0.6/IJulia/src/msg.jl:30\u001b[22m\u001b[22m (repeats 2 times)\n",
      " [5] \u001b[1msend_stream\u001b[22m\u001b[22m\u001b[1m(\u001b[22m\u001b[22m::String\u001b[1m)\u001b[22m\u001b[22m at \u001b[1m/Users/Pereiro/.julia/v0.6/IJulia/src/stdio.jl:172\u001b[22m\u001b[22m\n",
      " [6] \u001b[1msend_stdio\u001b[22m\u001b[22m\u001b[1m(\u001b[22m\u001b[22m::String\u001b[1m)\u001b[22m\u001b[22m at \u001b[1m/Users/Pereiro/.julia/v0.6/IJulia/src/stdio.jl:130\u001b[22m\u001b[22m\n",
      " [7] \u001b[1m(::Base.##302#303{IJulia.#send_stderr,Timer})\u001b[22m\u001b[22m\u001b[1m(\u001b[22m\u001b[22m\u001b[1m)\u001b[22m\u001b[22m at \u001b[1m./event.jl:436\u001b[22m\u001b[22m\n",
      "while loading /Users/Pereiro/.julia/v0.6/COBRA/src/COBRA.jl, in expression starting on line 27\n",
      "\u001b[1m\u001b[91mERROR: \u001b[39m\u001b[22mLoadError: \u001b[91mCPLEX not properly installed. Please run Pkg.build(\"CPLEX\")\u001b[39m\n",
      "Stacktrace:\n",
      " [1] \u001b[1merror\u001b[22m\u001b[22m\u001b[1m(\u001b[22m\u001b[22m::String\u001b[1m)\u001b[22m\u001b[22m at \u001b[1m./error.jl:21\u001b[22m\u001b[22m\n",
      " [2] \u001b[1minclude_from_node1\u001b[22m\u001b[22m\u001b[1m(\u001b[22m\u001b[22m::String\u001b[1m)\u001b[22m\u001b[22m at \u001b[1m./loading.jl:576\u001b[22m\u001b[22m\n",
      " [3] \u001b[1minclude\u001b[22m\u001b[22m\u001b[1m(\u001b[22m\u001b[22m::String\u001b[1m)\u001b[22m\u001b[22m at \u001b[1m./sysimg.jl:14\u001b[22m\u001b[22m\n",
      " [4] \u001b[1manonymous\u001b[22m\u001b[22m at \u001b[1m./<missing>:2\u001b[22m\u001b[22m\n",
      "while loading /Users/Pereiro/.julia/v0.6/CPLEX/src/CPLEX.jl, in expression starting on line 16\n",
      "WARNING: could not import TruncatedNormal.gauss2Dtruncstats into EP\n",
      "WARNING: could not import TruncatedNormal.R into EP\n"
     ]
    }
   ],
   "source": [
    "using MaxEntChemostat2018;"
   ]
  },
  {
   "cell_type": "markdown",
   "metadata": {},
   "source": [
    "## Loading functions"
   ]
  },
  {
   "cell_type": "code",
   "execution_count": 33,
   "metadata": {},
   "outputs": [
    {
     "data": {
      "text/plain": [
       "logrange (generic function with 1 method)"
      ]
     },
     "execution_count": 33,
     "metadata": {},
     "output_type": "execute_result"
    }
   ],
   "source": [
    "function load_ecoli()\n",
    "\n",
    "    sto, mets, rxns = load_ecoli_dataframes()\n",
    "\n",
    "    # no infinities\n",
    "    rxns[:lb] .= max.(rxns[:lb], -1000)\n",
    "    rxns[:ub] .= min.(rxns[:ub], 1000)\n",
    "    mets[:L] .= max.(mets[:L], -1000)\n",
    "    mets[:V] .= min.(mets[:V], 1000)\n",
    "    mets[:c] .= min.(mets[:c], 100000)\n",
    "\n",
    "    S = sparse(sto[:i], sto[:k], sto[:s])\n",
    "\n",
    "    return S, mets, rxns\n",
    "end\n",
    "\n",
    "function load_ecoli_dataframes(;model_data_dir = \"$(pwd()[1:end-8])/ModelsData/EColi/ecoli_v2\",\n",
    "                        file_prefix = \"ecoli\")\n",
    "\n",
    "    sto = CSV.read(\"$model_data_dir/$(file_prefix)_s.csv\", allowmissing=:none, types=[Int, Int, Float64, String, String]);\n",
    "    mets = CSV.read(\"$model_data_dir/$(file_prefix)_mets.csv\", allowmissing=:none, types=[String, Float64, Float64, Float64, Float64, Float64]);\n",
    "    rxns = CSV.read(\"$model_data_dir/$(file_prefix)_rxns.csv\", allowmissing=:none, types=[String, Float64, Float64, Float64, Float64]);\n",
    "\n",
    "    return sto, mets, rxns\n",
    "end\n",
    "load_cho() = MaxEntChemostat2018.FBA.load_cho();\n",
    "\n",
    "function logrange(si::Int, ei; step = 1) \n",
    "    base = collect(1:step:9)\n",
    "    col = [];\n",
    "    for i in si:(ei - 1)\n",
    "        push!(col, ((base)*(10.0 ^ i))...);\n",
    "    end\n",
    "    return col;\n",
    "end"
   ]
  },
  {
   "cell_type": "markdown",
   "metadata": {},
   "source": [
    "## Testing EColi model\n",
    "Como ve profe el modelo no pincha, ```model_solve``` siempre retorna ```nothing```"
   ]
  },
  {
   "cell_type": "code",
   "execution_count": 50,
   "metadata": {},
   "outputs": [
    {
     "name": "stdout",
     "output_type": "stream",
     "text": [
      "S (72, 75), mets (72, 6) rxns (75, 5)\n"
     ]
    }
   ],
   "source": [
    "S_ecoli, mets_ecoli, rxns_ecoli = load_ecoli();\n",
    "println(\"S $(size(S_ecoli)), mets $(size(mets_ecoli)) rxns $(size(rxns_ecoli))\");"
   ]
  },
  {
   "cell_type": "code",
   "execution_count": 51,
   "metadata": {},
   "outputs": [
    {
     "name": "stdout",
     "output_type": "stream",
     "text": [
      "ξrange (0.001,600.0) length 12 \n",
      "Academic license - for non-commercial use only\n",
      "1 NO RESULTS: fbares == nothing with ξ = 0.001\n",
      "2 NO RESULTS: fbares == nothing with ξ = 0.006\n",
      "3 NO RESULTS: fbares == nothing with ξ = 0.01\n",
      "4 NO RESULTS: fbares == nothing with ξ = 0.06\n",
      "5 NO RESULTS: fbares == nothing with ξ = 0.1\n",
      "6 NO RESULTS: fbares == nothing with ξ = 0.6000000000000001\n",
      "7 NO RESULTS: fbares == nothing with ξ = 1.0\n",
      "8 NO RESULTS: fbares == nothing with ξ = 6.0\n",
      "9 NO RESULTS: fbares == nothing with ξ = 10.0\n",
      "10 NO RESULTS: fbares == nothing with ξ = 60.0\n",
      "11 NO RESULTS: fbares == nothing with ξ = 100.0\n",
      "12 NO RESULTS: fbares == nothing with ξ = 600.0\n"
     ]
    }
   ],
   "source": [
    "ξrange = logrange(-3,3; step = 5);\n",
    "println(\"ξrange ($(first(ξrange)),$(last(ξrange))) length $(length(ξrange)) \");\n",
    "LP = MaxEntChemostat2018.FBA.gurobi_problem(S, mets, rxns);\n",
    "fbaress = [begin \n",
    "#         LP = MaxEntChemostat2018.FBA.gurobi_problem(S, mets, rxns);\n",
    "        return MaxEntChemostat2018.FBA.model_solve!(LP, S, mets, rxns, ξ);\n",
    "        end for ξ in ξrange];\n",
    "for r in 1:length(ξrange)\n",
    "    fbares = fbaress[r];\n",
    "    if fbares != nothing\n",
    "        println(\"$r RESULTS whit ξ = $(ξrange[r])\");\n",
    "        println(\"μ $(fbares.μ)\");\n",
    "        println(\"ϕ $(fbares.ϕ)\");\n",
    "        println();\n",
    "    else\n",
    "        println(\"$r NO RESULTS: fbares == nothing with ξ = $(ξrange[r])\")\n",
    "    end\n",
    "end"
   ]
  },
  {
   "cell_type": "markdown",
   "metadata": {},
   "source": [
    "## Testing Cho model"
   ]
  },
  {
   "cell_type": "code",
   "execution_count": 54,
   "metadata": {},
   "outputs": [
    {
     "name": "stdout",
     "output_type": "stream",
     "text": [
      "S (2054, 3578), mets (2054, 6) rxns (3578, 5)\n"
     ]
    }
   ],
   "source": [
    "S_cho, mets_cho, rxns_cho = load_cho();\n",
    "println(\"S $(size(S_cho)), mets $(size(mets_cho)) rxns $(size(rxns_cho))\");"
   ]
  },
  {
   "cell_type": "code",
   "execution_count": 55,
   "metadata": {},
   "outputs": [
    {
     "name": "stdout",
     "output_type": "stream",
     "text": [
      "ξrange (0.001,600.0) length 12 \n",
      "Academic license - for non-commercial use only\n",
      "1 RESULTS whit ξ = 0.001\n",
      "μ 0.09701384097236847\n",
      "ϕ 1.0\n",
      "\n",
      "2 RESULTS whit ξ = 0.006\n",
      "μ 0.09701384097236847\n",
      "ϕ 1.0\n",
      "\n",
      "3 RESULTS whit ξ = 0.01\n",
      "μ 0.09701384097236847\n",
      "ϕ 1.0\n",
      "\n",
      "4 RESULTS whit ξ = 0.06\n",
      "μ 0.09701384097236847\n",
      "ϕ 1.0\n",
      "\n",
      "5 RESULTS whit ξ = 0.1\n",
      "μ 0.09701384097236847\n",
      "ϕ 1.0\n",
      "\n",
      "6 RESULTS whit ξ = 0.6000000000000001\n",
      "μ 0.09483207953267013\n",
      "ϕ 1.0\n",
      "\n",
      "7 RESULTS whit ξ = 1.0\n",
      "μ 0.09409956827868945\n",
      "ϕ 1.0\n",
      "\n",
      "8 RESULTS whit ξ = 6.0\n",
      "μ 0.08920492379991839\n",
      "ϕ 1.0\n",
      "\n",
      "9 RESULTS whit ξ = 10.0\n",
      "μ 0.05411126026557845\n",
      "ϕ 0.6472153345526346\n",
      "\n",
      "10 RESULTS whit ξ = 60.0\n",
      "μ 0.009018543377596408\n",
      "ϕ 0.24211392737197737\n",
      "\n",
      "11 RESULTS whit ξ = 100.0\n",
      "μ 0.005411126026557845\n",
      "ϕ 0.2299642477178437\n",
      "\n",
      "12 NO RESULTS: fbares == nothing with ξ = 600.0\n"
     ]
    },
    {
     "name": "stderr",
     "output_type": "stream",
     "text": [
      "\u001b[1m\u001b[33mWARNING: \u001b[39m\u001b[22m\u001b[33muuid4(rng) is deprecated, use Compat.UUIDs.uuid4(rng) instead.\u001b[39m\n",
      "Stacktrace:\n",
      " [1] \u001b[1mdepwarn\u001b[22m\u001b[22m\u001b[1m(\u001b[22m\u001b[22m::String, ::Symbol\u001b[1m)\u001b[22m\u001b[22m at \u001b[1m./deprecated.jl:70\u001b[22m\u001b[22m\n",
      " [2] \u001b[1muuid4\u001b[22m\u001b[22m\u001b[1m(\u001b[22m\u001b[22m::MersenneTwister\u001b[1m)\u001b[22m\u001b[22m at \u001b[1m./deprecated.jl:57\u001b[22m\u001b[22m\n",
      " [3] \u001b[1mmsg_header\u001b[22m\u001b[22m at \u001b[1m/Users/Pereiro/.julia/v0.6/IJulia/src/msg.jl:18\u001b[22m\u001b[22m [inlined]\n",
      " [4] \u001b[1mmsg_pub\u001b[22m\u001b[22m\u001b[1m(\u001b[22m\u001b[22m::IJulia.Msg, ::String, ::Dict{String,String}, ::Dict{String,Any}\u001b[1m)\u001b[22m\u001b[22m at \u001b[1m/Users/Pereiro/.julia/v0.6/IJulia/src/msg.jl:30\u001b[22m\u001b[22m (repeats 2 times)\n",
      " [5] \u001b[1msend_stream\u001b[22m\u001b[22m\u001b[1m(\u001b[22m\u001b[22m::String\u001b[1m)\u001b[22m\u001b[22m at \u001b[1m/Users/Pereiro/.julia/v0.6/IJulia/src/stdio.jl:172\u001b[22m\u001b[22m\n",
      " [6] \u001b[1msend_stdio\u001b[22m\u001b[22m\u001b[1m(\u001b[22m\u001b[22m::String\u001b[1m)\u001b[22m\u001b[22m at \u001b[1m/Users/Pereiro/.julia/v0.6/IJulia/src/stdio.jl:130\u001b[22m\u001b[22m\n",
      " [7] \u001b[1m(::Base.##302#303{IJulia.#send_stdout,Timer})\u001b[22m\u001b[22m\u001b[1m(\u001b[22m\u001b[22m\u001b[1m)\u001b[22m\u001b[22m at \u001b[1m./event.jl:436\u001b[22m\u001b[22m\n",
      "while loading In[55], in expression starting on line 8\n"
     ]
    }
   ],
   "source": [
    "ξrange = logrange(-3,3; step = 5);\n",
    "println(\"ξrange ($(first(ξrange)),$(last(ξrange))) length $(length(ξrange)) \");\n",
    "LP = MaxEntChemostat2018.FBA.gurobi_problem(S_cho, mets_cho, rxns_cho);\n",
    "fbaress = [begin \n",
    "#         LP = MaxEntChemostat2018.FBA.gurobi_problem(S, mets, rxns);\n",
    "        return MaxEntChemostat2018.FBA.model_solve!(LP, S, mets, rxns, ξ);\n",
    "        end for ξ in ξrange];\n",
    "for r in 1:length(ξrange)\n",
    "    fbares = fbaress[r];\n",
    "    if fbares != nothing\n",
    "        println(\"$r RESULTS whit ξ = $(ξrange[r])\");\n",
    "        println(\"μ $(fbares.μ)\");\n",
    "        println(\"ϕ $(fbares.ϕ)\");\n",
    "        println();\n",
    "    else\n",
    "        println(\"$r NO RESULTS: fbares == nothing with ξ = $(ξrange[r])\")\n",
    "    end\n",
    "end"
   ]
  },
  {
   "cell_type": "code",
   "execution_count": null,
   "metadata": {},
   "outputs": [],
   "source": []
  }
 ],
 "metadata": {
  "@webio": {
   "lastCommId": null,
   "lastKernelId": null
  },
  "kernelspec": {
   "display_name": "Julia 0.6.4",
   "language": "julia",
   "name": "julia-0.6"
  },
  "language_info": {
   "file_extension": ".jl",
   "mimetype": "application/julia",
   "name": "julia",
   "version": "0.6.4"
  }
 },
 "nbformat": 4,
 "nbformat_minor": 2
}
