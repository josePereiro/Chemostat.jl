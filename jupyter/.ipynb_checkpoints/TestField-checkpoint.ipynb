{
 "cells": [
  {
   "cell_type": "code",
   "execution_count": 1,
   "metadata": {},
   "outputs": [],
   "source": [
    "using Chemostat;\n",
    "using Chemostat.FBA;\n",
    "using Chemostat.Models;"
   ]
  },
  {
   "cell_type": "code",
   "execution_count": 18,
   "metadata": {},
   "outputs": [],
   "source": [
    "using JuMP;"
   ]
  },
  {
   "cell_type": "code",
   "execution_count": 12,
   "metadata": {},
   "outputs": [
    {
     "name": "stdout",
     "output_type": "stream",
     "text": [
      "S = (72, 96), mets = (72, 2), rxns = (96, 6)\n"
     ]
    }
   ],
   "source": [
    "Sid = \"glc-D[e]\";\n",
    "Sindx = 35;\n",
    "Stid = \"GLCpts\";\n",
    "Stinx = 50;#50 -> old   49 - > new\n",
    "Wid = \"ac[e]\";\n",
    "Windx = 6;\n",
    "Wtid = \"ACt2r\";\n",
    "Wtindx = 6;\n",
    "S, mets, rxns = Models.EColi.v1.load_ecoli_v1(;file_prefix = \"ecoli_old\");\n",
    "println(\"S = $(size(S)), mets = $(size(mets)), rxns = $(size(rxns))\")"
   ]
  },
  {
   "cell_type": "code",
   "execution_count": 19,
   "metadata": {},
   "outputs": [
    {
     "name": "stdout",
     "output_type": "stream",
     "text": [
      "Academic license - for non-commercial use only\n",
      "\n",
      "Results ξ = 300000.0, md = 8.0e-5, cost = 0.0001\n",
      "ϕ: 1.636534077085171e-5\n",
      "Obj: 3.015984719010749e-6\n"
     ]
    }
   ],
   "source": [
    "ξmax = 3e6;#3e6\n",
    "md = Chemostat.Models.EColi.v1.DEFAULT_MAINTINANCE_DEMAND_FLUX_VALUE; #8e-5;#8e-5\n",
    "cost = Chemostat.Models.EColi.v1.DEFAULT_ϕ;#1e-4\n",
    "fbares = FBA.v1.fba_chemostat_v1(S, mets, rxns, ξmax; ϕub = cost, man_demand_flux_value = md, objt_indx = 13);\n",
    "println();\n",
    "println(\"Results ξ = $(ξmax), md = $md, cost = $cost\")\n",
    "println(\"ϕ: $(getvalue(fbares.ϕ))\");\n",
    "println(\"Obj: $(getvalue(fbares.obj))\");\n",
    "# filter((x) -> x[2] != 0 ,map((x,y) -> (x,y), rxns[:id][find((row) -> row[:t] > 0, eachrow(rxns))],\n",
    "#     flux.(fbares, rxns[:id][find((row) -> row[:t] > 0, eachrow(rxns))])))"
   ]
  },
  {
   "cell_type": "code",
   "execution_count": null,
   "metadata": {},
   "outputs": [],
   "source": []
  }
 ],
 "metadata": {
  "@webio": {
   "lastCommId": null,
   "lastKernelId": null
  },
  "kernelspec": {
   "display_name": "Julia 0.6.4",
   "language": "julia",
   "name": "julia-0.6"
  },
  "language_info": {
   "file_extension": ".jl",
   "mimetype": "application/julia",
   "name": "julia",
   "version": "0.6.4"
  }
 },
 "nbformat": 4,
 "nbformat_minor": 2
}
