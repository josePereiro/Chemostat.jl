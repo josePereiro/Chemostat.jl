{
 "cells": [
  {
   "cell_type": "code",
   "execution_count": 9,
   "metadata": {},
   "outputs": [],
   "source": [
    "using MaxEntChemostat2018;"
   ]
  },
  {
   "cell_type": "markdown",
   "metadata": {},
   "source": [
    "## Loading functions"
   ]
  },
  {
   "cell_type": "code",
   "execution_count": 190,
   "metadata": {},
   "outputs": [
    {
     "data": {
      "text/plain": [
       "logrange (generic function with 1 method)"
      ]
     },
     "execution_count": 190,
     "metadata": {},
     "output_type": "execute_result"
    }
   ],
   "source": [
    "function load_ecoli()\n",
    "\n",
    "    sto, mets, rxns = load_ecoli_dataframes()\n",
    "\n",
    "    # no infinities\n",
    "    rxns[:lb] .= max.(rxns[:lb], -1000)\n",
    "    rxns[:ub] .= min.(rxns[:ub], 1000)\n",
    "    mets[:L] .= max.(mets[:L], -1000)\n",
    "    mets[:V] .= min.(mets[:V], 1000)\n",
    "    mets[:c] .= min.(mets[:c], 100000)\n",
    "\n",
    "    S = sparse(sto[:i], sto[:k], sto[:s])\n",
    "\n",
    "    return S, mets, rxns\n",
    "end\n",
    "\n",
    "function load_ecoli_dataframes(;model_data_dir = \"$(pwd()[1:end-8])/ModelsData/EColi/ecoli_v2/v2.3\",\n",
    "                        file_prefix = \"ecoli\")\n",
    "\n",
    "    sto = CSV.read(\"$model_data_dir/$(file_prefix)_s.csv\", allowmissing=:none, types=[Int, Int, Float64, String, String]);\n",
    "    mets = CSV.read(\"$model_data_dir/$(file_prefix)_mets.csv\", allowmissing=:none, types=[String, Float64, Float64, Float64, Float64, Float64]);\n",
    "#     rxns = CSV.read(\"$model_data_dir/$(file_prefix)_rxns.csv\", allowmissing=:none, types=[String, Float64, Float64, Float64, Float64]);\n",
    "\n",
    "    rxnspath = \"/Users/Pereiro/rxns.csv\";\n",
    "    rxns = CSV.read(rxnspath, allowmissing=:none, types=[String, Float64, Float64, Float64, Float64]);\n",
    "    \n",
    "    \n",
    "    return sto, mets, rxns\n",
    "end\n",
    "load_cho() = MaxEntChemostat2018.FBA.load_cho();\n",
    "\n",
    "function logrange(si::Int, ei; step = 1) \n",
    "    base = collect(1:step:9)\n",
    "    col = [];\n",
    "    for i in si:(ei - 1)\n",
    "        push!(col, ((base)*(10.0 ^ i))...);\n",
    "    end\n",
    "    return col;\n",
    "end"
   ]
  },
  {
   "cell_type": "markdown",
   "metadata": {},
   "source": [
    "## Testing EColi model\n",
    "Como ve profe el modelo no pincha, ```model_solve``` siempre retorna ```nothing```"
   ]
  },
  {
   "cell_type": "code",
   "execution_count": 191,
   "metadata": {},
   "outputs": [
    {
     "name": "stdout",
     "output_type": "stream",
     "text": [
      "S (72, 94), mets (72, 6) rxns (94, 5)\n"
     ]
    }
   ],
   "source": [
    "S_ecoli, mets_ecoli, rxns_ecoli = load_ecoli();\n",
    "println(\"S $(size(S_ecoli)), mets $(size(mets_ecoli)) rxns $(size(rxns_ecoli))\");"
   ]
  },
  {
   "cell_type": "code",
   "execution_count": 192,
   "metadata": {},
   "outputs": [],
   "source": [
    "# costFactor  = 2850;\n",
    "# rxns_ecoli[:an] .= (rxns_ecoli[:an] .^ 2) .* costFactor;\n",
    "# rxns_ecoli[:ap] .= (rxns_ecoli[:ap] .^ 2) .* costFactor;\n",
    "# rxns_ecoli[:an][40] = rxns_ecoli[:an][40] * costFactor^2;\n",
    "# rxns_ecoli[:ap][40] = rxns_ecoli[:ap][40] * costFactor^2;"
   ]
  },
  {
   "cell_type": "code",
   "execution_count": 194,
   "metadata": {},
   "outputs": [],
   "source": [
    "# CSV.write(\"/Users/Pereiro/rxns.csv\", rxns_ecoli)"
   ]
  },
  {
   "cell_type": "code",
   "execution_count": 195,
   "metadata": {},
   "outputs": [
    {
     "data": {
      "text/plain": [
       "\"/Users/Pereiro/University/Physic/Research/Jose/Chemostat/jupyter\""
      ]
     },
     "execution_count": 195,
     "metadata": {},
     "output_type": "execute_result"
    }
   ],
   "source": [
    "pwd()"
   ]
  },
  {
   "cell_type": "code",
   "execution_count": 196,
   "metadata": {},
   "outputs": [
    {
     "name": "stdout",
     "output_type": "stream",
     "text": [
      "Academic license - for non-commercial use only\n"
     ]
    },
    {
     "data": {
      "text/plain": [
       "898.1361389160156"
      ]
     },
     "execution_count": 196,
     "metadata": {},
     "output_type": "execute_result"
    }
   ],
   "source": [
    "MaxEntChemostat2018.FBA.find_max_xi(S_ecoli, mets_ecoli, rxns_ecoli)"
   ]
  },
  {
   "cell_type": "code",
   "execution_count": 197,
   "metadata": {},
   "outputs": [
    {
     "name": "stdout",
     "output_type": "stream",
     "text": [
      "ξrange (0.001,600.0) length 12 \n",
      "Academic license - for non-commercial use only\n",
      "1 RESULTS whit ξ = 0.001\n",
      "μ 0.002621220717681796\n",
      "ϕ 1.0\n",
      "\n",
      "2 RESULTS whit ξ = 0.006\n",
      "μ 0.002621220717681796\n",
      "ϕ 1.0\n",
      "\n",
      "3 RESULTS whit ξ = 0.01\n",
      "μ 0.002621220717681796\n",
      "ϕ 1.0\n",
      "\n",
      "4 RESULTS whit ξ = 0.06\n",
      "μ 0.002621220717681796\n",
      "ϕ 1.0\n",
      "\n",
      "5 RESULTS whit ξ = 0.1\n",
      "μ 0.002621220717681796\n",
      "ϕ 1.0\n",
      "\n",
      "6 RESULTS whit ξ = 0.6000000000000001\n",
      "μ 0.002621220717681796\n",
      "ϕ 1.0\n",
      "\n",
      "7 RESULTS whit ξ = 1.0\n",
      "μ 0.002621220717681796\n",
      "ϕ 1.0\n",
      "\n",
      "8 RESULTS whit ξ = 6.0\n",
      "μ 0.002621220717681796\n",
      "ϕ 1.0\n",
      "\n",
      "9 RESULTS whit ξ = 10.0\n",
      "μ 0.002621220717681796\n",
      "ϕ 1.0\n",
      "\n",
      "10 RESULTS whit ξ = 60.0\n",
      "μ 0.0018182465106656193\n",
      "ϕ 1.0\n",
      "\n",
      "11 RESULTS whit ξ = 100.0\n",
      "μ 0.0010398971518184464\n",
      "ϕ 1.0\n",
      "\n",
      "12 RESULTS whit ξ = 600.0\n",
      "μ 6.476993485528253e-5\n",
      "ϕ 1.0\n",
      "\n"
     ]
    },
    {
     "name": "stderr",
     "output_type": "stream",
     "text": [
      "\u001b[1m\u001b[33mWARNING: \u001b[39m\u001b[22m\u001b[33muuid4(rng) is deprecated, use Compat.UUIDs.uuid4(rng) instead.\u001b[39m\n",
      "Stacktrace:\n",
      " [1] \u001b[1mdepwarn\u001b[22m\u001b[22m\u001b[1m(\u001b[22m\u001b[22m::String, ::Symbol\u001b[1m)\u001b[22m\u001b[22m at \u001b[1m./deprecated.jl:70\u001b[22m\u001b[22m\n",
      " [2] \u001b[1muuid4\u001b[22m\u001b[22m\u001b[1m(\u001b[22m\u001b[22m::MersenneTwister\u001b[1m)\u001b[22m\u001b[22m at \u001b[1m./deprecated.jl:57\u001b[22m\u001b[22m\n",
      " [3] \u001b[1mmsg_header\u001b[22m\u001b[22m at \u001b[1m/Users/Pereiro/.julia/v0.6/IJulia/src/msg.jl:18\u001b[22m\u001b[22m [inlined]\n",
      " [4] \u001b[1mmsg_pub\u001b[22m\u001b[22m\u001b[1m(\u001b[22m\u001b[22m::IJulia.Msg, ::String, ::Dict{String,String}, ::Dict{String,Any}\u001b[1m)\u001b[22m\u001b[22m at \u001b[1m/Users/Pereiro/.julia/v0.6/IJulia/src/msg.jl:30\u001b[22m\u001b[22m (repeats 2 times)\n",
      " [5] \u001b[1msend_stream\u001b[22m\u001b[22m\u001b[1m(\u001b[22m\u001b[22m::String\u001b[1m)\u001b[22m\u001b[22m at \u001b[1m/Users/Pereiro/.julia/v0.6/IJulia/src/stdio.jl:172\u001b[22m\u001b[22m\n",
      " [6] \u001b[1msend_stdio\u001b[22m\u001b[22m\u001b[1m(\u001b[22m\u001b[22m::String\u001b[1m)\u001b[22m\u001b[22m at \u001b[1m/Users/Pereiro/.julia/v0.6/IJulia/src/stdio.jl:130\u001b[22m\u001b[22m\n",
      " [7] \u001b[1m(::Base.##302#303{IJulia.#send_stdout,Timer})\u001b[22m\u001b[22m\u001b[1m(\u001b[22m\u001b[22m\u001b[1m)\u001b[22m\u001b[22m at \u001b[1m./event.jl:436\u001b[22m\u001b[22m\n",
      "while loading In[197], in expression starting on line 8\n"
     ]
    }
   ],
   "source": [
    "ξrange = logrange(-3,3; step = 5);\n",
    "println(\"ξrange ($(first(ξrange)),$(last(ξrange))) length $(length(ξrange)) \");\n",
    "LP = MaxEntChemostat2018.FBA.gurobi_problem(S_ecoli, mets_ecoli, rxns_ecoli);\n",
    "fbaress = [begin \n",
    "#         LP = MaxEntChemostat2018.FBA.gurobi_problem(S, mets, rxns);\n",
    "        return MaxEntChemostat2018.FBA.model_solve!(LP, S_ecoli, mets_ecoli, rxns_ecoli, ξ);\n",
    "        end for ξ in ξrange];\n",
    "for r in 1:length(ξrange)\n",
    "    fbares = fbaress[r];\n",
    "    if fbares != nothing\n",
    "        println(\"$r RESULTS whit ξ = $(ξrange[r])\");\n",
    "        println(\"μ $(fbares.μ)\");\n",
    "        println(\"ϕ $(fbares.ϕ)\");\n",
    "        println();\n",
    "    else\n",
    "        println(\"$r NO RESULTS: fbares == nothing with ξ = $(ξrange[r])\")\n",
    "    end\n",
    "end"
   ]
  },
  {
   "cell_type": "markdown",
   "metadata": {},
   "source": [
    "## Testing Cho model"
   ]
  },
  {
   "cell_type": "code",
   "execution_count": 63,
   "metadata": {},
   "outputs": [
    {
     "name": "stdout",
     "output_type": "stream",
     "text": [
      "S (2054, 3578), mets (2054, 6) rxns (3578, 5)\n"
     ]
    }
   ],
   "source": [
    "S_cho, mets_cho, rxns_cho = load_cho();\n",
    "println(\"S $(size(S_cho)), mets $(size(mets_cho)) rxns $(size(rxns_cho))\");"
   ]
  },
  {
   "cell_type": "code",
   "execution_count": 65,
   "metadata": {},
   "outputs": [
    {
     "data": {
      "text/plain": [
       "(1936.431623931624, 918)"
      ]
     },
     "execution_count": 65,
     "metadata": {},
     "output_type": "execute_result"
    }
   ],
   "source": [
    "findmax(rxns_cho[:an])"
   ]
  },
  {
   "cell_type": "code",
   "execution_count": 66,
   "metadata": {},
   "outputs": [
    {
     "data": {
      "text/plain": [
       "\"ETHAK\""
      ]
     },
     "execution_count": 66,
     "metadata": {},
     "output_type": "execute_result"
    }
   ],
   "source": [
    "rxns_cho[:id][918]"
   ]
  },
  {
   "cell_type": "code",
   "execution_count": 55,
   "metadata": {},
   "outputs": [
    {
     "name": "stdout",
     "output_type": "stream",
     "text": [
      "ξrange (0.001,600.0) length 12 \n",
      "Academic license - for non-commercial use only\n",
      "1 RESULTS whit ξ = 0.001\n",
      "μ 0.09701384097236847\n",
      "ϕ 1.0\n",
      "\n",
      "2 RESULTS whit ξ = 0.006\n",
      "μ 0.09701384097236847\n",
      "ϕ 1.0\n",
      "\n",
      "3 RESULTS whit ξ = 0.01\n",
      "μ 0.09701384097236847\n",
      "ϕ 1.0\n",
      "\n",
      "4 RESULTS whit ξ = 0.06\n",
      "μ 0.09701384097236847\n",
      "ϕ 1.0\n",
      "\n",
      "5 RESULTS whit ξ = 0.1\n",
      "μ 0.09701384097236847\n",
      "ϕ 1.0\n",
      "\n",
      "6 RESULTS whit ξ = 0.6000000000000001\n",
      "μ 0.09483207953267013\n",
      "ϕ 1.0\n",
      "\n",
      "7 RESULTS whit ξ = 1.0\n",
      "μ 0.09409956827868945\n",
      "ϕ 1.0\n",
      "\n",
      "8 RESULTS whit ξ = 6.0\n",
      "μ 0.08920492379991839\n",
      "ϕ 1.0\n",
      "\n",
      "9 RESULTS whit ξ = 10.0\n",
      "μ 0.05411126026557845\n",
      "ϕ 0.6472153345526346\n",
      "\n",
      "10 RESULTS whit ξ = 60.0\n",
      "μ 0.009018543377596408\n",
      "ϕ 0.24211392737197737\n",
      "\n",
      "11 RESULTS whit ξ = 100.0\n",
      "μ 0.005411126026557845\n",
      "ϕ 0.2299642477178437\n",
      "\n",
      "12 NO RESULTS: fbares == nothing with ξ = 600.0\n"
     ]
    },
    {
     "name": "stderr",
     "output_type": "stream",
     "text": [
      "\u001b[1m\u001b[33mWARNING: \u001b[39m\u001b[22m\u001b[33muuid4(rng) is deprecated, use Compat.UUIDs.uuid4(rng) instead.\u001b[39m\n",
      "Stacktrace:\n",
      " [1] \u001b[1mdepwarn\u001b[22m\u001b[22m\u001b[1m(\u001b[22m\u001b[22m::String, ::Symbol\u001b[1m)\u001b[22m\u001b[22m at \u001b[1m./deprecated.jl:70\u001b[22m\u001b[22m\n",
      " [2] \u001b[1muuid4\u001b[22m\u001b[22m\u001b[1m(\u001b[22m\u001b[22m::MersenneTwister\u001b[1m)\u001b[22m\u001b[22m at \u001b[1m./deprecated.jl:57\u001b[22m\u001b[22m\n",
      " [3] \u001b[1mmsg_header\u001b[22m\u001b[22m at \u001b[1m/Users/Pereiro/.julia/v0.6/IJulia/src/msg.jl:18\u001b[22m\u001b[22m [inlined]\n",
      " [4] \u001b[1mmsg_pub\u001b[22m\u001b[22m\u001b[1m(\u001b[22m\u001b[22m::IJulia.Msg, ::String, ::Dict{String,String}, ::Dict{String,Any}\u001b[1m)\u001b[22m\u001b[22m at \u001b[1m/Users/Pereiro/.julia/v0.6/IJulia/src/msg.jl:30\u001b[22m\u001b[22m (repeats 2 times)\n",
      " [5] \u001b[1msend_stream\u001b[22m\u001b[22m\u001b[1m(\u001b[22m\u001b[22m::String\u001b[1m)\u001b[22m\u001b[22m at \u001b[1m/Users/Pereiro/.julia/v0.6/IJulia/src/stdio.jl:172\u001b[22m\u001b[22m\n",
      " [6] \u001b[1msend_stdio\u001b[22m\u001b[22m\u001b[1m(\u001b[22m\u001b[22m::String\u001b[1m)\u001b[22m\u001b[22m at \u001b[1m/Users/Pereiro/.julia/v0.6/IJulia/src/stdio.jl:130\u001b[22m\u001b[22m\n",
      " [7] \u001b[1m(::Base.##302#303{IJulia.#send_stdout,Timer})\u001b[22m\u001b[22m\u001b[1m(\u001b[22m\u001b[22m\u001b[1m)\u001b[22m\u001b[22m at \u001b[1m./event.jl:436\u001b[22m\u001b[22m\n",
      "while loading In[55], in expression starting on line 8\n"
     ]
    }
   ],
   "source": [
    "ξrange = logrange(-3,3; step = 5);\n",
    "println(\"ξrange ($(first(ξrange)),$(last(ξrange))) length $(length(ξrange)) \");\n",
    "LP = MaxEntChemostat2018.FBA.gurobi_problem(S_cho, mets_cho, rxns_cho);\n",
    "fbaress = [begin \n",
    "#         LP = MaxEntChemostat2018.FBA.gurobi_problem(S, mets, rxns);\n",
    "        return MaxEntChemostat2018.FBA.model_solve!(LP, S, mets, rxns, ξ);\n",
    "        end for ξ in ξrange];\n",
    "for r in 1:length(ξrange)\n",
    "    fbares = fbaress[r];\n",
    "    if fbares != nothing\n",
    "        println(\"$r RESULTS whit ξ = $(ξrange[r])\");\n",
    "        println(\"μ $(fbares.μ)\");\n",
    "        println(\"ϕ $(fbares.ϕ)\");\n",
    "        println();\n",
    "    else\n",
    "        println(\"$r NO RESULTS: fbares == nothing with ξ = $(ξrange[r])\")\n",
    "    end\n",
    "end"
   ]
  },
  {
   "cell_type": "code",
   "execution_count": null,
   "metadata": {},
   "outputs": [],
   "source": []
  },
  {
   "cell_type": "code",
   "execution_count": null,
   "metadata": {},
   "outputs": [],
   "source": []
  }
 ],
 "metadata": {
  "@webio": {
   "lastCommId": null,
   "lastKernelId": null
  },
  "kernelspec": {
   "display_name": "Julia 0.6.4",
   "language": "julia",
   "name": "julia-0.6"
  },
  "language_info": {
   "file_extension": ".jl",
   "mimetype": "application/julia",
   "name": "julia",
   "version": "0.6.4"
  }
 },
 "nbformat": 4,
 "nbformat_minor": 2
}
