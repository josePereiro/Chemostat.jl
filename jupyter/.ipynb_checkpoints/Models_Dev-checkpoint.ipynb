{
 "cells": [
  {
   "cell_type": "code",
   "execution_count": 20,
   "metadata": {},
   "outputs": [],
   "source": [
    "using MaxEntChemostat2018;\n",
    "using DataFrames;"
   ]
  },
  {
   "cell_type": "code",
   "execution_count": 2,
   "metadata": {},
   "outputs": [],
   "source": [
    "S, mets, rxns = MaxEntChemostat2018.FBA.load_cho();"
   ]
  },
  {
   "cell_type": "markdown",
   "metadata": {},
   "source": [
    "## Tools"
   ]
  },
  {
   "cell_type": "code",
   "execution_count": 4,
   "metadata": {},
   "outputs": [
    {
     "data": {
      "text/plain": [
       "check_keys (generic function with 1 method)"
      ]
     },
     "execution_count": 4,
     "metadata": {},
     "output_type": "execute_result"
    }
   ],
   "source": [
    "model_formats = [:simple, :cossio, :extended];\n",
    "function check_keys(df, ks)\n",
    "    dfks = names(df);\n",
    "    for k in ks\n",
    "        if findfirst(dfks,k) == 0\n",
    "            error(\":$(string(k)) key is missing!!!\") \n",
    "        end\n",
    "    end\n",
    "end"
   ]
  },
  {
   "cell_type": "markdown",
   "metadata": {},
   "source": [
    "## S"
   ]
  },
  {
   "cell_type": "code",
   "execution_count": 5,
   "metadata": {},
   "outputs": [
    {
     "data": {
      "text/plain": [
       "check_S (generic function with 1 method)"
      ]
     },
     "execution_count": 5,
     "metadata": {},
     "output_type": "execute_result"
    }
   ],
   "source": [
    "function check_S(S)\n",
    "    if isempty(S) error(\"S is empty!!\") end;\n",
    "    if !all(typeof.(S) .== Float64) error(\"S must contain Float64 elements.\") end;\n",
    "    if all(S .== 0.0) error(\"All elements in S are zeros.\") end;\n",
    "end"
   ]
  },
  {
   "cell_type": "markdown",
   "metadata": {},
   "source": [
    "### Simple format"
   ]
  },
  {
   "cell_type": "code",
   "execution_count": 34,
   "metadata": {},
   "outputs": [
    {
     "data": {
      "text/plain": [
       "check_simple_compat (generic function with 1 method)"
      ]
     },
     "execution_count": 34,
     "metadata": {},
     "output_type": "execute_result"
    }
   ],
   "source": [
    "simple_format_keys = Dict(\"mets\" => [:id], \"rxns\" => [:id,:lb,:ub]);\n",
    "\n",
    "function check_simple_compat(S, mets, rxns)\n",
    "    # S\n",
    "    check_S(S);\n",
    "    \n",
    "    # Mets\n",
    "    # keys\n",
    "    check_keys(mets, simple_format_keys[\"mets\"]);\n",
    "    # Types\n",
    "    if eltype(mets[:id]) != String error(\"mets :ids must be Strings!!!\"); end\n",
    "    # Data quality\n",
    "    if !allunique(mets[:id]) error(\"mets contains repeated ids!!!\"); end\n",
    "\n",
    "    # Rxns\n",
    "    # keys\n",
    "    check_keys(rxns, simple_format_keys[\"rxns\"]);\n",
    "    # Types\n",
    "    if eltype(rxns[:id]) != String error(\"rxns :ids must be Strings!!!\"); end\n",
    "    if eltype(rxns[:ub]) != Float64 error(\"rxns :ub must contains Float64 elements!!!\"); end\n",
    "    if eltype(rxns[:lb]) != Float64 error(\"rxns :lb must contains Float64 elements!!!\"); end\n",
    "    # Data quality\n",
    "    if !allunique(rxns[:id]) error(\"rxns contains repeated ids!!!\"); end\n",
    "    if !all(rxns[:ub] .>= 0.0) error(\"rxns :ub values must be positive!!!\"); end\n",
    "    if !all(rxns[:lb] .<= 0.0) error(\"rxns :lb values must be negative!!!\"); end \n",
    "    \n",
    "end"
   ]
  },
  {
   "cell_type": "markdown",
   "metadata": {},
   "source": [
    "### Cossio format"
   ]
  },
  {
   "cell_type": "code",
   "execution_count": 13,
   "metadata": {},
   "outputs": [
    {
     "data": {
      "text/plain": [
       "check_cossio_compat (generic function with 2 methods)"
      ]
     },
     "execution_count": 13,
     "metadata": {},
     "output_type": "execute_result"
    }
   ],
   "source": [
    "cossio_format_keys = Dict(\"mets\" => [:id, :L, :V, :e, :y, :c], \"rxns\" => [:id, :ub, :lb, :ap, :an]);\n",
    "\n",
    "function check_cossio_compat(S, mets, rxns)\n",
    "    # S\n",
    "    check_S(S);\n",
    "    \n",
    "    # Mets\n",
    "    # keys\n",
    "    check_keys(mets, cossio_format_keys[\"mets\"])\n",
    "    # Types\n",
    "    if eltype(mets[:id]) != String error(\"mets :ids must be Strings!!!\"); end\n",
    "    if eltype(mets[:L]) != Float64 error(\"mets :pV must contains Float64 elements!!!\"); end\n",
    "    if eltype(mets[:V]) != Float64 error(\"mets :pL must contains Float64 elements!!!\"); end\n",
    "    if eltype(mets[:e]) != Float64 error(\"mets :e must contains Float64 elements!!!\"); end\n",
    "    if eltype(mets[:y]) != Float64 error(\"mets :y must contains Float64 elements!!!\"); end\n",
    "    # Data quality\n",
    "    if !allunique(mets[:id]) error(\"mets contains repeated ids!!!\"); end\n",
    "    if !all(mets[:V] .>= 0.0) error(\"mets :V values must be positive!!!\"); end\n",
    "    if !all(mets[:L] .<= 0.0) error(\"mets :L values must be negative!!!\"); end\n",
    "    if !all(mets[:V] .>= mets[:L]) error(\"mets :V must be greater than :L!!!\"); end\n",
    "    \n",
    "    # Rxns\n",
    "    # keys\n",
    "    check_keys(rxns, cossio_format_keys[\"rxns\"]);\n",
    "    # Types\n",
    "    if eltype(rxns[:id]) != String error(\"rxns :ids must be Strings!!!\"); end\n",
    "    if eltype(rxns[:ub]) != Float64 error(\"rxns :ub must contains Float64 elements!!!\"); end\n",
    "    if eltype(rxns[:lb]) != Float64 error(\"rxns :lb must contains Float64 elements!!!\"); end\n",
    "    if eltype(rxns[:ap]) != Float64 error(\"rxns :ap must contains Float64 elements!!!\"); end\n",
    "    if eltype(rxns[:an]) != Float64 error(\"rxns :an must contains Float64 elements!!!\"); end\n",
    "    # Data quality\n",
    "    if !allunique(rxns[:id]) error(\"rxns contains repeated ids!!!\"); end\n",
    "    if !all(rxns[:ub] .>= 0.0) error(\"rxns :ub values must be positive!!!\"); end\n",
    "    if !all(rxns[:lb] .<= 0.0) error(\"rxns :lb values must be negative!!!\"); end\n",
    "    if !all(rxns[:ap] .>= 0.0) error(\"rxns :ap values must be positive!!!\"); end\n",
    "    if !all(rxns[:an] .>= 0.0) error(\"rxns :an values must be positive!!!\"); end\n",
    "end"
   ]
  },
  {
   "cell_type": "markdown",
   "metadata": {},
   "source": [
    "### Extended Format"
   ]
  },
  {
   "cell_type": "code",
   "execution_count": 17,
   "metadata": {},
   "outputs": [
    {
     "data": {
      "text/plain": [
       "check_extended_compat"
      ]
     },
     "execution_count": 17,
     "metadata": {},
     "output_type": "execute_result"
    }
   ],
   "source": [
    "extended_format_keys = Dict(\"mets\" => [:id, :pV, :pL, :nV, :nL, :e, :y, :c],\n",
    "                                \"rxns\" => [:id, :pub, :plb, :nub, :nlb, :ap, :an]);\n",
    "\n",
    "\"\"\"\n",
    "    Test the data to the extended format!!!\n",
    "    See extended_format_contract for more info.\n",
    "\"\"\"\n",
    "function check_extended_compat(S, mets, rxns)\n",
    "    #S\n",
    "    check_S(S);\n",
    "    \n",
    "    #Mets\n",
    "    # keys\n",
    "    check_keys(mets, extended_format_keys[\"mets\"]);\n",
    "    # Types\n",
    "    if eltype(mets[:id]) != String error(\"mets :ids must be Strings!!!\"); end\n",
    "    if eltype(mets[:pV]) != Float64 error(\"mets :pV must contains Float64 elements!!!\"); end\n",
    "    if eltype(mets[:pL]) != Float64 error(\"mets :pL must contains Float64 elements!!!\"); end\n",
    "    if eltype(mets[:nV]) != Float64 error(\"mets :nV must contains Float64 elements!!!\"); end\n",
    "    if eltype(mets[:nL]) != Float64 error(\"mets :nL must contains Float64 elements!!!\"); end\n",
    "    if eltype(mets[:e]) != Float64 error(\"mets :e must contains Float64 elements!!!\"); end\n",
    "    if eltype(mets[:y]) != Float64 error(\"mets :y must contains Float64 elements!!!\"); end\n",
    "    # Data quality\n",
    "    if !allunique(mets[:id]) error(\"mets contains repeated ids!!!\"); end\n",
    "    if !all(mets[:pV] .>= 0.0) error(\"mets :pV values must be positive!!!\"); end\n",
    "    if !all(mets[:pL] .>= 0.0) error(\"mets :pL values must be positive!!!\"); end\n",
    "    if !all(mets[:pV] .>= mets[:pL]) error(\"mets :pV must be more positive than :pL!!!\"); end\n",
    "    if !all(mets[:nV] .<= 0.0) error(\"mets :nV values must be negative!!!\"); end\n",
    "    if !all(mets[:nL] .<= 0.0) error(\"mets :nL values must be negative!!!\"); end\n",
    "    if !all(mets[:nV] .<= mets[:nL]) error(\"mets :pV must be more negative than :pL!!!\"); end\n",
    "    \n",
    "    # Rxns\n",
    "    # keys\n",
    "    check_keys(rxns, extended_format_keys[\"rxns\"]);\n",
    "    # Types\n",
    "    if eltype(rxns[:id]) != String error(\"rxns :ids must be Strings!!!\"); end\n",
    "    if eltype(rxns[:pub]) != Float64 error(\"rxns :pub must contains Float64 elements!!!\"); end\n",
    "    if eltype(rxns[:plb]) != Float64 error(\"rxns :plb must contains Float64 elements!!!\"); end\n",
    "    if eltype(rxns[:nub]) != Float64 error(\"rxns :nub must contains Float64 elements!!!\"); end\n",
    "    if eltype(rxns[:nlb]) != Float64 error(\"rxns :nlb must contains Float64 elements!!!\"); end\n",
    "    if eltype(rxns[:ap]) != Float64 error(\"rxns :ap must contains Float64 elements!!!\"); end\n",
    "    if eltype(rxns[:an]) != Float64 error(\"rxns :an must contains Float64 elements!!!\"); end\n",
    "    # Data quality\n",
    "    if !allunique(rxns[:id]) error(\"rxns contains repeated ids!!!\"); end\n",
    "    if !all(rxns[:pub] .>= 0.0) error(\"rxns :pub values must be positive!!!\"); end\n",
    "    if !all(rxns[:plb] .>= 0.0) error(\"rxns :plb values must be positive!!!\"); end\n",
    "    if !all(rxns[:pub] .>= rxns[:pub]) error(\"rxns :pub must be more positive or equal than :pub!!!\"); end\n",
    "    if !all(rxns[:nub] .<= 0.0) error(\"rxns :nub values must be negative!!!\"); end\n",
    "    if !all(rxns[:nlb] .<= 0.0) error(\"rxns :nlb values must be negative!!!\"); end\n",
    "    if !all(rxns[:nub] .<= rxns[:nlb]) error(\"rxns :nub must be more negative or equal than :nlb!!!\"); end\n",
    "    if !all(rxns[:ap] .>= 0.0) error(\"rxns :ap values must be positive!!!\"); end\n",
    "    if !all(rxns[:an] .>= 0.0) error(\"rxns :an values must be positive!!!\"); end\n",
    "end\n"
   ]
  },
  {
   "cell_type": "code",
   "execution_count": 15,
   "metadata": {},
   "outputs": [
    {
     "data": {
      "text/plain": [
       "get_compat_format (generic function with 1 method)"
      ]
     },
     "execution_count": 15,
     "metadata": {},
     "output_type": "execute_result"
    }
   ],
   "source": [
    "function get_compat_format(S, mets, rxns)\n",
    "    try check_extended_compat(S, mets, rxns); return :extended\n",
    "        catch try check_cossio_compat(S,mets, rxns); return :cossio\n",
    "            catch try check_simple_compat(S,mets,rxns); return :simple\n",
    "                catch error(\"The data is not compatible with any format!!!\" * \n",
    "                   \" Use individual format checkers for more info\");\n",
    "            end\n",
    "        end\n",
    "    end\n",
    "end"
   ]
  },
  {
   "cell_type": "markdown",
   "metadata": {},
   "source": [
    "## Converters"
   ]
  },
  {
   "cell_type": "code",
   "execution_count": 70,
   "metadata": {},
   "outputs": [],
   "source": [
    "function convert_to_simple(model)\n",
    "    if model.format == :simple\n",
    "        return model;\n",
    "    elseif model.format == :cossio\n",
    "        warn(\"This convertion usually ends with a broken model,\" * \n",
    "            \" it is recomended to check the exchanges, the biomass reaction and the biomass demand\")\n",
    "        # Mets\n",
    "        simple_mets = DataFrame();\n",
    "        simple_mets[:id] = model.mets[:id];\n",
    "        #Rxns\n",
    "        simple_rxns = DataFrame();\n",
    "        simple_rxns[:id] = model.rxns[:id];\n",
    "        simple_rxns[:ub] = model.rxns[:ub];\n",
    "        simple_rxns[:lb] = model.rxns[:lb];    \n",
    "        return Model(S, simple_mets, simple_rxns);\n",
    "        \n",
    "    elseif model.format == :extended\n",
    "        warn(\"This convertion usually ends with a broken model,\" * \n",
    "            \" it is recomended to check the exchanges, the biomass reaction and the biomass demand\")\n",
    "        # Mets\n",
    "        simple_mets = DataFrame();\n",
    "        simple_mets[:id] = model.mets[:id];\n",
    "        #Rxns\n",
    "        simple_rxns = DataFrame();\n",
    "        simple_rxns[:id] = model.rxns[:id];\n",
    "        simple_rxns[:ub] = model.rxns[:pub];\n",
    "        simple_rxns[:lb] = model.rxns[:nub];    \n",
    "        return Model(S, simple_mets, simple_rxns);\n",
    "    else\n",
    "        error(\"Format $(string(model.format)) not supported yet!!!\")\n",
    "    end\n",
    "end\n",
    "convert_to_simple(S,mets,rxns) = convert_to_simple(Model(S, mets, rxns));\n",
    "\n",
    "function convert_to_cossio(model)\n",
    "    \n",
    "    if model.format == :cossio \n",
    "        return model; \n",
    "    elseif model.format == :simple\n",
    "        error(\"A :simple model can't be converted to a :cossio model, data insufficient!!!\")\n",
    "    elseif model.format == :extended\n",
    "        # Mets\n",
    "        cossio_mets = DataFrame();\n",
    "        cossio_mets[:id] = model.mets[:id];\n",
    "        cossio_mets[:V] = model.mets[:pV];\n",
    "        cossio_mets[:L] = model.mets[:nV];\n",
    "        cossio_mets[:e] = model.mets[:e];\n",
    "        cossio_mets[:y] = model.mets[:y];\n",
    "        cossio_mets[:c] = model.mets[:c];\n",
    "        # Rxns\n",
    "        cossio_rxns = DataFrame();\n",
    "        cossio_rxns[:id] = model.rxns[:id];\n",
    "        cossio_rxns[:ub] = model.rxns[:pub];\n",
    "        cossio_rxns[:lb] = model.rxns[:nub];\n",
    "        cossio_rxns[:ap] = model.rxns[:ap];\n",
    "        cossio_rxns[:an] = model.rxns[:an];\n",
    "        \n",
    "        return Model(S, cossio_mets, cossio_rxns);\n",
    "        \n",
    "    else\n",
    "        error(\"Format $(string(model.format)) not supported yet!!!\")\n",
    "    end\n",
    "    \n",
    "end\n",
    "convert_to_cossio(S,mets,rxns) = convert_to_cossio(Model(S,mets,rxns));\n",
    "\n",
    "function convert_to_extended(model)\n",
    "    \n",
    "    if model.format == :extended \n",
    "        return model; \n",
    "    elseif model.format == :simple\n",
    "        error(\"A :simple model can't be converted to a :extended model, data insufficient!!!\")\n",
    "    elseif model.format == :cossio\n",
    "        \n",
    "        m,n = size(model.S);\n",
    "        \n",
    "        # Mets\n",
    "        extebnded_mets = DataFrame();\n",
    "        extebnded_mets[:id] = model.mets[:id];\n",
    "        extebnded_mets[:pV] = model.mets[:V];\n",
    "        extebnded_mets[:pL] = zeros(m);\n",
    "        extebnded_mets[:nV] = model.mets[:L];\n",
    "        extebnded_mets[:nL] = zeros(m);\n",
    "        extebnded_mets[:e] = model.mets[:e];\n",
    "        extebnded_mets[:y] = model.mets[:y];\n",
    "        extebnded_mets[:c] = model.mets[:c];\n",
    "        # Rxns\n",
    "        extebnded_rxns = DataFrame();\n",
    "        extebnded_rxns[:id] = model.rxns[:id];\n",
    "        extebnded_rxns[:pub] = model.rxns[:ub];\n",
    "        extebnded_rxns[:plb] = zeros(n);\n",
    "        extebnded_rxns[:nub] = model.rxns[:lb];\n",
    "        extebnded_rxns[:nlb] = zeros(n);\n",
    "        extebnded_rxns[:ap] = model.rxns[:ap];\n",
    "        extebnded_rxns[:an] = model.rxns[:an];\n",
    "        \n",
    "        return Model(S, extebnded_mets, extebnded_rxns);\n",
    "        \n",
    "    else\n",
    "        error(\"Format $(string(model.format)) not supported yet!!!\")\n",
    "    end\n",
    "    \n",
    "end\n",
    "convert_to_extended(S, mets, rxns) = convert_to_extended(Model(S, mets, rxns));"
   ]
  },
  {
   "cell_type": "code",
   "execution_count": 18,
   "metadata": {},
   "outputs": [],
   "source": [
    "struct Model\n",
    "    S # The Stoichimetric matrix\n",
    "    mets # Information linked to the metabolites of the net\n",
    "    rxns # Information linked to the reactions of the net\n",
    "    format # The format of the data\n",
    "    Model(S, mets, rxns) = new(S,mets,rxns, get_compat_format(S, mets, rxns));\n",
    "end"
   ]
  },
  {
   "cell_type": "code",
   "execution_count": 60,
   "metadata": {},
   "outputs": [
    {
     "data": {
      "text/plain": [
       "Model"
      ]
     },
     "execution_count": 60,
     "metadata": {},
     "output_type": "execute_result"
    }
   ],
   "source": [
    "\"\"\"\n",
    "    Just a wrapper of the network data, to linke it to a given format!!!\n",
    "\"\"\"\n",
    "function Model(S, mets, rxns, format)\n",
    "    if format == :simple\n",
    "        convert_to_simple(S, mets, rxns);\n",
    "    elseif format == :cossio\n",
    "        convert_to_cossio(S,mets,rxns);\n",
    "    elseif format == :extended\n",
    "        convert_to_extended(S, mets, rxns);\n",
    "    end\n",
    "end"
   ]
  },
  {
   "cell_type": "code",
   "execution_count": 81,
   "metadata": {},
   "outputs": [],
   "source": []
  },
  {
   "cell_type": "code",
   "execution_count": null,
   "metadata": {},
   "outputs": [],
   "source": []
  }
 ],
 "metadata": {
  "@webio": {
   "lastCommId": null,
   "lastKernelId": null
  },
  "kernelspec": {
   "display_name": "Julia 0.6.4",
   "language": "julia",
   "name": "julia-0.6"
  },
  "language_info": {
   "file_extension": ".jl",
   "mimetype": "application/julia",
   "name": "julia",
   "version": "0.6.4"
  }
 },
 "nbformat": 4,
 "nbformat_minor": 2
}
