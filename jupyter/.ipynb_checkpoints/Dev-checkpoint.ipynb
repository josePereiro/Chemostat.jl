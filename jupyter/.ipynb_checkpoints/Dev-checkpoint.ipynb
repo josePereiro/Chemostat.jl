{
 "cells": [
  {
   "cell_type": "code",
   "execution_count": 2,
   "metadata": {},
   "outputs": [],
   "source": [
    "using Rath2017PhD;\n",
    "using Chemostat;\n",
    "# using Plots;\n",
    "# plotly();\n",
    "# using MaxEntChemostat2018;"
   ]
  },
  {
   "cell_type": "code",
   "execution_count": 46,
   "metadata": {},
   "outputs": [
    {
     "name": "stderr",
     "output_type": "stream",
     "text": [
      "WARNING: replacing module Dev\n"
     ]
    },
    {
     "data": {
      "text/plain": [
       "Dev"
      ]
     },
     "execution_count": 46,
     "metadata": {},
     "output_type": "execute_result"
    }
   ],
   "source": [
    "module Dev\n",
    "    \n",
    "import FileIO;\n",
    "import Rath2017PhD;\n",
    "import Chemostat;\n",
    "\n",
    "file_ext = \".jld2\";\n",
    "\n",
    "#Tools\n",
    "logrange(ξmax; start = 0, base = 1:9) =\n",
    "    sort(filter((ξ)-> ξ <= ξmax,\n",
    "        [Chemostat.Tools.logrange(0:round(Int,log10(ξmax)),\n",
    "        base = base); ξmax]));\n",
    "\n",
    "# function load_result_data(res_name::String)\n",
    "\n",
    "function load_result(res_name)\n",
    "    res_path = Rath2017PhD.Commons.results_path;\n",
    "    res_name = joinpath(res_path, res_name);\n",
    "    if isfile(res_name)\n",
    "         return FileIO.load(res_name);\n",
    "    elseif isfile(res_name *= \".jld2\")\n",
    "             return FileIO.load(res_name);\n",
    "    end\n",
    "    error(\"$(res_name) not found\");\n",
    "end\n",
    "\n",
    "function save_result(res_name, data...; ext = \".jld2\")\n",
    "    res_path = joinpath(Rath2017PhD.Commons.results_path, res_name);\n",
    "    if !endswith(res_path, ext)\n",
    "        res_path *= ext;\n",
    "    end\n",
    "    FileIO.save(res_path, data...);\n",
    "end\n",
    "    \n",
    "function parse_file_name(file_name)\n",
    "    if !endswith(file_name, file_ext)\n",
    "        file_name *= file_ext;\n",
    "    end\n",
    "    return file_name;\n",
    "end\n",
    "    \n",
    "function exist_file(file_name) \n",
    "    \n",
    "    if isfile(file_name) || isfile(joinpath(res_path, ))\n",
    "end\n",
    "    \n",
    "function get_full_path(file_name)\n",
    "    return joinpath(Rath2017PhD.Commons.results_path, parse_file_name(file_name));\n",
    "end\n",
    "\n",
    "end # Dev"
   ]
  },
  {
   "cell_type": "code",
   "execution_count": null,
   "metadata": {},
   "outputs": [],
   "source": []
  },
  {
   "cell_type": "code",
   "execution_count": null,
   "metadata": {},
   "outputs": [],
   "source": []
  },
  {
   "cell_type": "code",
   "execution_count": 48,
   "metadata": {},
   "outputs": [
    {
     "data": {
      "text/plain": [
       "\"/Users/Pereiro/.julia/v0.6/Rath2017Phd/results/bla.jld2\""
      ]
     },
     "execution_count": 48,
     "metadata": {},
     "output_type": "execute_result"
    }
   ],
   "source": [
    "Dev.get_full_path(\"bla\")"
   ]
  },
  {
   "cell_type": "code",
   "execution_count": null,
   "metadata": {},
   "outputs": [],
   "source": []
  },
  {
   "cell_type": "code",
   "execution_count": null,
   "metadata": {},
   "outputs": [],
   "source": []
  },
  {
   "cell_type": "code",
   "execution_count": null,
   "metadata": {},
   "outputs": [],
   "source": []
  },
  {
   "cell_type": "code",
   "execution_count": 33,
   "metadata": {},
   "outputs": [
    {
     "data": {
      "text/plain": [
       "\"bla.jld2..jld2\""
      ]
     },
     "execution_count": 33,
     "metadata": {},
     "output_type": "execute_result"
    }
   ],
   "source": [
    "Dev.parse_file_name(\"bla.jld2.\")"
   ]
  },
  {
   "cell_type": "code",
   "execution_count": 37,
   "metadata": {},
   "outputs": [
    {
     "data": {
      "text/plain": [
       "\"Jose/balH\""
      ]
     },
     "execution_count": 37,
     "metadata": {},
     "output_type": "execute_result"
    }
   ],
   "source": []
  },
  {
   "cell_type": "code",
   "execution_count": 40,
   "metadata": {},
   "outputs": [
    {
     "ename": "LoadError",
     "evalue": "\u001b[91mtype Array has no field findin\u001b[39m",
     "output_type": "error",
     "traceback": [
      "\u001b[91mtype Array has no field findin\u001b[39m",
      "",
      "Stacktrace:",
      " [1] \u001b[1minclude_string\u001b[22m\u001b[22m\u001b[1m(\u001b[22m\u001b[22m::String, ::String\u001b[1m)\u001b[22m\u001b[22m at \u001b[1m./loading.jl:522\u001b[22m\u001b[22m"
     ]
    }
   ],
   "source": []
  },
  {
   "cell_type": "code",
   "execution_count": null,
   "metadata": {},
   "outputs": [],
   "source": []
  }
 ],
 "metadata": {
  "@webio": {
   "lastCommId": null,
   "lastKernelId": null
  },
  "kernelspec": {
   "display_name": "Julia 0.6.4",
   "language": "julia",
   "name": "julia-0.6"
  },
  "language_info": {
   "file_extension": ".jl",
   "mimetype": "application/julia",
   "name": "julia",
   "version": "0.6.4"
  }
 },
 "nbformat": 4,
 "nbformat_minor": 2
}
