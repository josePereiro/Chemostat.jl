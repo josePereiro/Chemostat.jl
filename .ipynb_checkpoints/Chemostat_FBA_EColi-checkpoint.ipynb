{
 "cells": [
  {
   "cell_type": "code",
   "execution_count": 1,
   "metadata": {},
   "outputs": [],
   "source": [
    "using Gurobi;\n",
    "# using MaxEntChemostat2018;\n",
    "using DataFrames;\n",
    "using JuMP;\n",
    "using CSV;"
   ]
  },
  {
   "cell_type": "markdown",
   "metadata": {},
   "source": [
    "## Preparing EColi Model"
   ]
  },
  {
   "cell_type": "code",
   "execution_count": 2,
   "metadata": {},
   "outputs": [
    {
     "data": {
      "text/plain": [
       "load_ecoli (generic function with 1 method)"
      ]
     },
     "execution_count": 2,
     "metadata": {},
     "output_type": "execute_result"
    }
   ],
   "source": [
    "function load_ecoli()\n",
    "    S = CSV.read(\"$(pwd())/Chemostat_FBA_EColi_S.csv\"; \n",
    "        delim = \",\", allowmissing = :none);\n",
    "    mets = CSV.read(\"$(pwd())/Chemostat_FBA_EColi_Mets.csv\"; \n",
    "        delim = \",\", allowmissing = :none);\n",
    "    rxns = CSV.read(\"$(pwd())/Chemostat_FBA_EColi_Rxns.csv\"; \n",
    "        delim = \",\", allowmissing = :none);\n",
    "    return sparse(convert(Matrix,S)),mets, rxns;\n",
    "end"
   ]
  },
  {
   "cell_type": "code",
   "execution_count": 3,
   "metadata": {},
   "outputs": [],
   "source": [
    "S, mets, rxns = load_ecoli();"
   ]
  },
  {
   "cell_type": "code",
   "execution_count": 186,
   "metadata": {},
   "outputs": [
    {
     "data": {
      "text/plain": [
       "0.504329"
      ]
     },
     "execution_count": 186,
     "metadata": {},
     "output_type": "execute_result"
    }
   ],
   "source": [
    "sum(S[:,end])"
   ]
  },
  {
   "cell_type": "code",
   "execution_count": 228,
   "metadata": {},
   "outputs": [],
   "source": [
    "function fba_chemostat(S, mets, rxns, ξ; \n",
    "        objt_indx = 13, \n",
    "        man_demand_indx = size(rxns,1),\n",
    "        man_demand_flux_value = 10e-9,\n",
    "        ϕub = 10,\n",
    "        multi_obj_factor = 10^5*ϕub)\n",
    "    @assert all(size(S) .== (size(mets,1),size(rxns,1)));\n",
    "    @assert allunique(rxns[:id]);\n",
    "    @assert allunique(mets[:id]);\n",
    "    \n",
    "    #Model\n",
    "    model = JuMP.Model();\n",
    "    JuMP.setsolver(model, Gurobi.GurobiSolver());\n",
    "    rxnscount = size(rxns,1);\n",
    "    metscount = size(mets,1);\n",
    "    \n",
    "    #Variables\n",
    "    pfluxes = Vector{JuMP.Variable}();\n",
    "    nfluxes = Vector{JuMP.Variable}();\n",
    "    for r in 1:rxnscount\n",
    "        var = @variable(model, basename = \"p_$(rxns[:id][r])\");\n",
    "        push!(pfluxes, var);\n",
    "        var = @variable(model, basename = \"n_$(rxns[:id][r])\");\n",
    "        push!(nfluxes, var);\n",
    "    end\n",
    "    obj = pfluxes[objt_indx];#Biomass production rate\n",
    "    mandem = pfluxes[man_demand_indx];#Maintinance Demand\n",
    "    ϕ = @variable(model, basename = \"ϕ\");#Total cost\n",
    "    \n",
    "    #constraints\n",
    "    #Mass balance\n",
    "    for m in 1:metscount\n",
    "        @constraint(model, S[m,:]' * (pfluxes - nfluxes) == 0);\n",
    "    end\n",
    "    \n",
    "    #Cost\n",
    "    @constraint(model, rxns[:ap]'* pfluxes + rxns[:an]' * nfluxes <= ϕ); \n",
    "    \n",
    "    #Objectives\n",
    "    @objective(model, Max, multi_obj_factor * obj - ϕ);\n",
    "    \n",
    "    #Bound Constraints\n",
    "    for ri in 1:rxnscount\n",
    "        \n",
    "        ub = rxns[:ub][ri];\n",
    "        lb = -rxns[:lb][ri];\n",
    "        \n",
    "        if rxns[:t][ri] > 0\n",
    "            c = maximum(mets[:c][S[:,ri].nzind]);\n",
    "            ub = min( c / ξ, ub); \n",
    "        end\n",
    "        \n",
    "        #Maintinance demand\n",
    "        if ri == man_demand_indx\n",
    "            @constraint(model, pfluxes[ri] >= man_demand_flux_value);\n",
    "            @constraint(model, pfluxes[ri] <= man_demand_flux_value);\n",
    "            @constraint(model, nfluxes[ri] >= 0);\n",
    "            @constraint(model, nfluxes[ri] <= 0);\n",
    "        else\n",
    "            @constraint(model, pfluxes[ri] >= 0);\n",
    "            @constraint(model, pfluxes[ri] <= ub);\n",
    "            @constraint(model, nfluxes[ri] >= 0);\n",
    "            @constraint(model, nfluxes[ri] <= lb);\n",
    "        end\n",
    "        \n",
    "    end\n",
    "    @constraint(model, ϕ >= 0)\n",
    "    @constraint(model, ϕ <= ϕub);\n",
    "    \n",
    "    #Solving\n",
    "    solve(model);\n",
    "    \n",
    "    return FBAResult(model, pfluxes, nfluxes, obj, ϕ, mandem);\n",
    "    \n",
    "end\n",
    "\n",
    "struct FBAResult\n",
    "    model::JuMP.Model\n",
    "    pfluxes::Vector{JuMP.Variable}\n",
    "    nfluxes::Vector{JuMP.Variable}\n",
    "    obj::JuMP.Variable\n",
    "    ϕ::JuMP.Variable\n",
    "    mandem::JuMP.Variable\n",
    "end\n",
    "\n",
    "function Base.convert(::Type{DataFrames.DataFrame}, vars::Array{JuMP.Variable,1})::DataFrame\n",
    "    df = DataFrames.DataFrame(); \n",
    "    df[:id] = string.(vars);\n",
    "    df[:v] = Float64.(getvalue.(vars))\n",
    "    return df;\n",
    "end\n",
    "function Base.convert(::Type{DataFrames.DataFrame}, fbares::FBAResult)::DataFrame\n",
    "    df = DataFrames.DataFrame();\n",
    "    df[:id] = [string.(fbares.pfluxes) ; string.(fbares.nfluxes)]\n",
    "    df[:v] = [Float64.(getvalue.(fbares.pfluxes)) ; Float64.(getvalue.(fbares.nfluxes))];\n",
    "    return df;\n",
    "end"
   ]
  },
  {
   "cell_type": "code",
   "execution_count": 229,
   "metadata": {},
   "outputs": [
    {
     "ename": "LoadError",
     "evalue": "\u001b[91mArgumentError: invalid index: all\u001b[39m",
     "output_type": "error",
     "traceback": [
      "\u001b[91mArgumentError: invalid index: all\u001b[39m",
      "",
      "Stacktrace:",
      " [1] \u001b[1m#fba_chemostat#197\u001b[22m\u001b[22m\u001b[1m(\u001b[22m\u001b[22m::Int64, ::Int64, ::Float64, ::Int64, ::Int64, ::Function, ::SparseMatrixCSC{Float64,Int64}, ::DataFrames.DataFrame, ::DataFrames.DataFrame, ::Float64\u001b[1m)\u001b[22m\u001b[22m at \u001b[1m./In[228]:49\u001b[22m\u001b[22m",
      " [2] \u001b[1m(::#kw##fba_chemostat)\u001b[22m\u001b[22m\u001b[1m(\u001b[22m\u001b[22m::Array{Any,1}, ::#fba_chemostat, ::SparseMatrixCSC{Float64,Int64}, ::DataFrames.DataFrame, ::DataFrames.DataFrame, ::Float64\u001b[1m)\u001b[22m\u001b[22m at \u001b[1m./<missing>:0\u001b[22m\u001b[22m",
      " [3] \u001b[1minclude_string\u001b[22m\u001b[22m\u001b[1m(\u001b[22m\u001b[22m::String, ::String\u001b[1m)\u001b[22m\u001b[22m at \u001b[1m./loading.jl:522\u001b[22m\u001b[22m"
     ]
    }
   ],
   "source": [
    "@time fbares = fba_chemostat(S, mets, rxns, 0.01; ϕub = 100, man_demand_flux_value = 91.55555)\n",
    "println();\n",
    "println(\"Results\")\n",
    "println(\"ϕ: $(getvalue(fbares.ϕ))\");\n",
    "println(\"Obj: $(getvalue(fbares.obj))\");"
   ]
  },
  {
   "cell_type": "code",
   "execution_count": 182,
   "metadata": {},
   "outputs": [
    {
     "data": {
      "text/html": [
       "<table class=\"data-frame\"><thead><tr><th></th><th>id</th><th>v</th></tr></thead><tbody><tr><th>1</th><td>n_MantDem</td><td>1.0e10</td></tr></tbody></table>"
      ],
      "text/plain": [
       "1×2 DataFrames.DataFrame\n",
       "│ Row │ id        │ v      │\n",
       "├─────┼───────────┼────────┤\n",
       "│ 1   │ n_MantDem │ 1.0e10 │"
      ]
     },
     "execution_count": 182,
     "metadata": {},
     "output_type": "execute_result"
    }
   ],
   "source": [
    "DataFrame(fbares)[end,:]"
   ]
  },
  {
   "cell_type": "code",
   "execution_count": 149,
   "metadata": {},
   "outputs": [
    {
     "data": {
      "text/html": [
       "<table class=\"data-frame\"><thead><tr><th></th><th>id</th><th>lb</th><th>ub</th><th>ap</th><th>an</th><th>t</th></tr></thead><tbody><tr><th>1</th><td>MantDem</td><td>0.0</td><td>0.0</td><td>0.0</td><td>0.0</td><td>0.0</td></tr></tbody></table>"
      ],
      "text/plain": [
       "1×6 DataFrames.DataFrame\n",
       "│ Row │ id      │ lb  │ ub  │ ap  │ an  │ t   │\n",
       "├─────┼─────────┼─────┼─────┼─────┼─────┼─────┤\n",
       "│ 1   │ MantDem │ 0.0 │ 0.0 │ 0.0 │ 0.0 │ 0.0 │"
      ]
     },
     "execution_count": 149,
     "metadata": {},
     "output_type": "execute_result"
    }
   ],
   "source": [
    "rxns[end,:]"
   ]
  },
  {
   "cell_type": "code",
   "execution_count": null,
   "metadata": {},
   "outputs": [],
   "source": []
  }
 ],
 "metadata": {
  "kernelspec": {
   "display_name": "Julia 0.6.4",
   "language": "julia",
   "name": "julia-0.6"
  },
  "language_info": {
   "file_extension": ".jl",
   "mimetype": "application/julia",
   "name": "julia",
   "version": "0.6.4"
  }
 },
 "nbformat": 4,
 "nbformat_minor": 2
}
